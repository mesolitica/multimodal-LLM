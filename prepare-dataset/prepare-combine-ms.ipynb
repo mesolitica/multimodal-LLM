{
 "cells": [
  {
   "cell_type": "code",
   "execution_count": 1,
   "id": "224a8b51",
   "metadata": {},
   "outputs": [],
   "source": [
    "import json\n",
    "import random\n",
    "from tqdm import tqdm"
   ]
  },
  {
   "cell_type": "code",
   "execution_count": 2,
   "id": "0cac4d75",
   "metadata": {},
   "outputs": [],
   "source": [
    "llava_en = []\n",
    "with open('prepared-llava-ms.jsonl') as fopen:\n",
    "    for l in fopen:\n",
    "        l = json.loads(l)\n",
    "        llava_en.append(l)"
   ]
  },
  {
   "cell_type": "code",
   "execution_count": 3,
   "id": "d6247079",
   "metadata": {},
   "outputs": [],
   "source": [
    "audio_en = []\n",
    "with open('prepared-audio-ms.jsonl') as fopen:\n",
    "    for l in fopen:\n",
    "        l = json.loads(l)\n",
    "        audio_en.append(l)"
   ]
  },
  {
   "cell_type": "code",
   "execution_count": 4,
   "id": "bd9c3cda",
   "metadata": {},
   "outputs": [],
   "source": [
    "llava_index = set(range(len(llava_en)))\n",
    "audio_index = set(range(len(audio_en)))"
   ]
  },
  {
   "cell_type": "code",
   "execution_count": 8,
   "id": "fc030d68",
   "metadata": {},
   "outputs": [
    {
     "name": "stderr",
     "output_type": "stream",
     "text": [
      " 75%|███████▍  | 37416/50000 [04:03<01:21, 153.90it/s]"
     ]
    },
    {
     "name": "stdout",
     "output_type": "stream",
     "text": [
      "list index out of range\n"
     ]
    },
    {
     "name": "stderr",
     "output_type": "stream",
     "text": [
      "\n"
     ]
    }
   ],
   "source": [
    "combine = []\n",
    "llava = set()\n",
    "audio = set()\n",
    "for i in tqdm(range(50000)):\n",
    "    try:\n",
    "        filename = []\n",
    "        conversations = []\n",
    "        for _ in range(random.randint(2, 4)):\n",
    "            if random.random() > 0.4:\n",
    "                img_id = random.choice(list(llava_index - llava))\n",
    "                llava.add(img_id)\n",
    "                s = llava_en[img_id]\n",
    "            else:\n",
    "                audio_id = random.choice(list(audio_index - audio))\n",
    "                audio.add(audio_id)\n",
    "                s = audio_en[audio_id]\n",
    "            filename.extend(s['filename'])\n",
    "            conversations.extend(s['conversations'])\n",
    "        combine.append({\n",
    "            'filename': filename,\n",
    "            'conversations': conversations\n",
    "        })\n",
    "    except Exception as e:\n",
    "        print(e)\n",
    "        break"
   ]
  },
  {
   "cell_type": "code",
   "execution_count": 9,
   "id": "de8704f4",
   "metadata": {},
   "outputs": [
    {
     "data": {
      "text/plain": [
       "37416"
      ]
     },
     "execution_count": 9,
     "metadata": {},
     "output_type": "execute_result"
    }
   ],
   "source": [
    "len(combine)"
   ]
  },
  {
   "cell_type": "code",
   "execution_count": 10,
   "id": "a9e22f64",
   "metadata": {},
   "outputs": [],
   "source": [
    "with open('prepared-combine-ms.jsonl', 'w') as fopen:\n",
    "    for d in combine:\n",
    "        fopen.write(f'{json.dumps(d)}\\n')"
   ]
  },
  {
   "cell_type": "code",
   "execution_count": null,
   "id": "5efdb9b8",
   "metadata": {},
   "outputs": [],
   "source": []
  }
 ],
 "metadata": {
  "kernelspec": {
   "display_name": "Python 3 (ipykernel)",
   "language": "python",
   "name": "python3"
  },
  "language_info": {
   "codemirror_mode": {
    "name": "ipython",
    "version": 3
   },
   "file_extension": ".py",
   "mimetype": "text/x-python",
   "name": "python",
   "nbconvert_exporter": "python",
   "pygments_lexer": "ipython3",
   "version": "3.10.12"
  }
 },
 "nbformat": 4,
 "nbformat_minor": 5
}
