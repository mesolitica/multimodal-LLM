{
 "cells": [
  {
   "cell_type": "code",
   "execution_count": 1,
   "id": "224a8b51",
   "metadata": {},
   "outputs": [],
   "source": [
    "import json\n",
    "import random\n",
    "from tqdm import tqdm"
   ]
  },
  {
   "cell_type": "code",
   "execution_count": 2,
   "id": "0cac4d75",
   "metadata": {},
   "outputs": [],
   "source": [
    "llava_en = []\n",
    "with open('prepared-llava-ms.jsonl') as fopen:\n",
    "    for l in fopen:\n",
    "        l = json.loads(l)\n",
    "        llava_en.append(l)"
   ]
  },
  {
   "cell_type": "code",
   "execution_count": 3,
   "id": "d6247079",
   "metadata": {},
   "outputs": [],
   "source": [
    "audio_en = []\n",
    "with open('prepared-audio-ms.jsonl') as fopen:\n",
    "    for l in fopen:\n",
    "        l = json.loads(l)\n",
    "        audio_en.append(l)"
   ]
  },
  {
   "cell_type": "code",
   "execution_count": 4,
   "id": "bd9c3cda",
   "metadata": {},
   "outputs": [],
   "source": [
    "llava_index = set(range(len(llava_en)))\n",
    "audio_index = set(range(len(audio_en)))"
   ]
  },
  {
   "cell_type": "code",
   "execution_count": 5,
   "id": "fc030d68",
   "metadata": {},
   "outputs": [
    {
     "name": "stderr",
     "output_type": "stream",
     "text": [
      " 75%|███████▍  | 37252/50000 [04:46<01:37, 130.19it/s]"
     ]
    },
    {
     "name": "stdout",
     "output_type": "stream",
     "text": [
      "list index out of range\n"
     ]
    },
    {
     "name": "stderr",
     "output_type": "stream",
     "text": [
      "\n"
     ]
    }
   ],
   "source": [
    "combine = []\n",
    "llava = set()\n",
    "audio = set()\n",
    "for i in tqdm(range(50000)):\n",
    "    try:\n",
    "        filename = []\n",
    "        conversations = []\n",
    "        for _ in range(random.randint(2, 4)):\n",
    "            if random.random() > 0.4:\n",
    "                img_id = random.choice(list(llava_index - llava))\n",
    "                llava.add(img_id)\n",
    "                s = llava_en[img_id]\n",
    "            else:\n",
    "                audio_id = random.choice(list(audio_index - audio))\n",
    "                audio.add(audio_id)\n",
    "                s = audio_en[audio_id]\n",
    "            filename.extend(s['filename'])\n",
    "            conversations.extend(s['conversations'])\n",
    "        combine.append({\n",
    "            'filename': filename,\n",
    "            'conversations': conversations\n",
    "        })\n",
    "    except Exception as e:\n",
    "        print(e)\n",
    "        break"
   ]
  },
  {
   "cell_type": "code",
   "execution_count": 6,
   "id": "de8704f4",
   "metadata": {},
   "outputs": [
    {
     "data": {
      "text/plain": [
       "37252"
      ]
     },
     "execution_count": 6,
     "metadata": {},
     "output_type": "execute_result"
    }
   ],
   "source": [
    "len(combine)"
   ]
  },
  {
   "cell_type": "code",
   "execution_count": 7,
   "id": "58dc5ef2",
   "metadata": {},
   "outputs": [
    {
     "data": {
      "text/plain": [
       "{'filename': ['/home/ubuntu/output-audio/0-2485-10.mp3',\n",
       "  '/home/ubuntu/filtered-llava-images/000000271473.jpg',\n",
       "  '/home/ubuntu/filtered-llava-images/000000328918.jpg'],\n",
       " 'conversations': [{'role': 'user',\n",
       "   'content': '<audio>Apakah yang berlaku kepada kadar bingkai sesaat (FPS) apabila pengguna bergerak dalam permainan?'},\n",
       "  {'role': 'assistant',\n",
       "   'content': 'Berdasarkan perkara yang telah anda huraikan, nampaknya apabila anda bergerak dalam permainan, kadar bingkai sesaat (FPS) menurun dengan ketara, selalunya berada di bawah 30 FPS. Ini boleh dikaitkan dengan permintaan tinggi permainan terhadap keupayaan pemprosesan grafik sistem, terutamanya apabila peneduh dan tetapan grafik permainan didayakan.\\n\\nGrafik ringkas permainan mungkin direka bentuk dengan mengambil kira kanak-kanak, tetapi mekaniknya mungkin masih memerlukan sejumlah besar kuasa pemprosesan. Ini boleh menyebabkan penurunan FPS, terutamanya semasa tindakan intensif seperti bergerak dalam dunia permainan.\\n\\nUntuk menangani isu ini, anda boleh cuba menurunkan tetapan grafik atau mengurangkan resolusi untuk melihat sama ada itu meningkatkan FPS. Selain itu, memastikan sistem anda memenuhi keperluan minimum permainan dan pemacu grafik anda dikemas kini boleh membantu meningkatkan prestasi.'},\n",
       "  {'role': 'user',\n",
       "   'content': 'Bagaimanakah cara saya menyemak tetapan grafik untuk permainan ini?'},\n",
       "  {'role': 'assistant',\n",
       "   'content': 'Cara untuk menyemak dan melaraskan tetapan grafik untuk permainan boleh berbeza-beza bergantung pada permainan itu sendiri, serta platform yang anda gunakan untuk memainkannya. Walau bagaimanapun, saya akan menggariskan beberapa langkah umum yang boleh anda ikuti untuk menyemak dan melaraskan tetapan grafik untuk permainan pada PC Windows:\\n\\n1. Lancarkan permainan dan cari tetapan atau menu pilihan. Ini biasanya boleh diakses daripada menu utama permainan, atau kadangkala dengan menekan kekunci \"Esc\" semasa permainan.\\n2. Sebaik sahaja anda berada dalam tetapan atau menu pilihan, cari bahagian berlabel \"Grafik,\" \"Video\" atau sesuatu yang serupa. Di sinilah anda akan menemui tetapan grafik untuk permainan.\\n3. Dari sini, anda boleh melaraskan pelbagai tetapan grafik, seperti resolusi, kualiti tekstur, kualiti bayang-bayang, anti-aliasing dan banyak lagi.\\n4. Eksperimen dengan tetapan yang berbeza untuk melihat apa yang paling sesuai untuk sistem anda dan tahap kualiti visual yang anda inginkan. Perlu diingat bahawa menurunkan beberapa tetapan boleh meningkatkan prestasi dengan ketara, manakala yang lain mungkin tidak memberi kesan yang besar.\\n5. Setelah anda membuat perubahan pada tetapan grafik, pastikan anda menyimpan perubahan anda dan keluar dari menu tetapan.\\n\\nJika anda bermain permainan pada konsol atau platform lain, langkah untuk menyemak dan melaraskan tetapan grafik mungkin berbeza sedikit. Walau bagaimanapun, idea umum adalah sama: cari tetapan atau menu pilihan dan laraskan tetapan grafik mengikut keperluan.'},\n",
       "  {'role': 'user', 'content': 'Bagaimana anda menyemak spesifikasi sistem?'},\n",
       "  {'role': 'assistant',\n",
       "   'content': 'Untuk menyemak spesifikasi sistem anda, anda boleh mengikuti langkah berikut:\\n\\n1. Tekan kekunci Windows + R pada papan kekunci anda untuk membuka kotak dialog Run.\\n2. Taipkan \"dxdiag\" dan tekan Enter. Ini akan membuka Alat Diagnostik DirectX.\\n3. Dalam Alat Diagnostik DirectX, klik pada tab \"Sistem\" untuk melihat maklumat sistem anda.\\n\\nDari sini, anda boleh melihat pelbagai butiran tentang sistem anda, termasuk sistem pengendalian anda, nama dan kelajuan pemproses (CPU), jumlah memori fizikal (RAM) dan maklumat kad grafik (GPU).\\n\\nSebagai alternatif, anda juga boleh menggunakan alat maklumat sistem pihak ketiga untuk mendapatkan maklumat yang lebih terperinci tentang spesifikasi sistem anda. Terdapat banyak alat percuma yang tersedia dalam talian yang boleh memberikan maklumat terperinci tentang perkakasan anda, termasuk CPU-Z, Speccy dan HWiNFO. Hanya muat turun dan pasang salah satu alat ini, dan kemudian jalankannya untuk melihat spesifikasi sistem anda.'},\n",
       "  {'role': 'user',\n",
       "   'content': 'Berapa ramai orang yang hadir dalam gambar?\\n<image>'},\n",
       "  {'role': 'assistant', 'content': 'Ada dua orang yang hadir dalam gambar.'},\n",
       "  {'role': 'user', 'content': 'Apa yang orang lakukan dalam gambar?'},\n",
       "  {'role': 'assistant',\n",
       "   'content': 'Lelaki dan wanita itu merasa menguji wain yang berbeza, dengan pinggan besar sampel wain di hadapan mereka, duduk di meja dengan cermin mata.'},\n",
       "  {'role': 'user',\n",
       "   'content': 'Apakah jenis peristiwa yang boleh digambarkan oleh imej ini?'},\n",
       "  {'role': 'assistant',\n",
       "   'content': 'Imej ini mungkin menggambarkan acara merasa wain, kerana orang ramai mengangkat cermin mata mereka dan mencuba pelbagai jenis wain daripada pilihan besar yang diletakkan di atas meja.'},\n",
       "  {'role': 'user',\n",
       "   'content': 'Adakah pasangan itu berdiri atau duduk dalam gambar?'},\n",
       "  {'role': 'assistant',\n",
       "   'content': 'Pasangan itu duduk di meja dengan pilihan besar cermin mata wain dalam gambar.'},\n",
       "  {'role': 'user',\n",
       "   'content': 'Bolehkah anda menerangkan secara ringkas proses merasai wain?'},\n",
       "  {'role': 'assistant',\n",
       "   'content': 'Rasa wain ialah proses yang melibatkan deria untuk menilai dan menghargai wain yang berbeza dengan menilai ciri-ciri seperti penampilan, aroma, rasa dan rasa mulut. Proses umum melibatkan beberapa langkah:\\n\\n1. Pemerhatian: Periksa warna, kejelasan dan keamatan wain dalam kaca dengan memegangnya pada latar belakang putih atau condongkannya pada sudut. Ini membantu mengenal pasti umur, variasi anggur dan potensi kerosakan wain.\\n\\n2. Berenang: Memusingkan wain secara perlahan-lahan dalam gelas untuk mengudarakannya dan melepaskan aroma wain. Langkah ini meningkatkan pengalaman ofaktori dengan memudahkan penyejatan sebatian aromatik yang tidak menentu.\\n\\n3. Bau: Bawa gelas ke hidung dan sedut aroma tersendiri wain. Ini membolehkan pengesanan aroma primer (buah, bunga atau herba), sekunder (penapaian atau berkaitan penuaan), dan tertiari (berkaitan usia).\\n\\n4. Rasa: Ambil sedikit wain dan biarkan ia berlegar di dalam mulut. Ini membantu mengenal pasti kemanisan, keasidan, tannin, badan dan rasa wain. Selain itu, nilai keseimbangan unsur-unsur ini, sama ada sebarang ciri tunggal mendominasi atau jika ia harmoni.\\n\\n5. Menilai kemasan: Selepas menelan atau meludah wain, nilai selepas rasa atau kemasan. Wain berkualiti biasanya mempunyai kemasan yang berlarutan, meninggalkan kesan yang menyenangkan dan berkekalan.\\n\\nSepanjang proses merasai wain, peserta boleh mencatat nota, membincangkan pemerhatian mereka dengan orang lain, dan membandingkan wain yang berbeza. Acara merasai wain boleh menjadi perhimpunan tidak rasmi, pengalaman pendidikan berstruktur atau penilaian kompetitif yang dijalankan oleh hakim profesional.'},\n",
       "  {'role': 'user',\n",
       "   'content': 'Berapa ramai orang yang kelihatan dalam gambar?\\n<image>'},\n",
       "  {'role': 'assistant',\n",
       "   'content': 'Terdapat tiga orang yang kelihatan dalam imej: dua wanita dan seorang lelaki.'},\n",
       "  {'role': 'user',\n",
       "   'content': 'Apa yang salah seorang wanita lakukan sambil memeluk seseorang?'},\n",
       "  {'role': 'assistant',\n",
       "   'content': 'Salah seorang wanita sedang bercakap di telefonnya sambil memeluk seseorang.'},\n",
       "  {'role': 'user',\n",
       "   'content': 'Apa yang lelaki itu lakukan di latar belakang?'},\n",
       "  {'role': 'assistant',\n",
       "   'content': 'Lelaki di latar belakang sedang membuat muka.'},\n",
       "  {'role': 'user',\n",
       "   'content': 'Bolehkah anda menerangkan ekspresi wajah wanita berambut perang muda dalam gambar itu?'},\n",
       "  {'role': 'assistant',\n",
       "   'content': 'Wanita berambut perang muda itu membuat muka \"lipas duck\", yang merupakan ekspresi yang suka bermain dan dibesar-besarkan.'},\n",
       "  {'role': 'user',\n",
       "   'content': 'Bagaimanakah anda menerangkan mood keseluruhan orang-orang ini dalam imej?'},\n",
       "  {'role': 'assistant',\n",
       "   'content': 'Mood keseluruhan orang dalam imej kelihatan ringan dan ceria. Wanita berpelukan antara satu sama lain dan melakukan ekspresi muka yang suka bermain, seperti membuat bibir itik, manakala lelaki di belakang mereka juga membuat muka, menunjukkan bahawa mereka semua menikmati detik yang menyeronokkan dan santai bersama-sama. Jenis interaksi ini menunjukkan bahawa mereka mungkin kawan atau kenalan berkongsi pengalaman yang lucu atau suka bermain. Wanita yang bercakap di telefon sambil memeluk seseorang membayangkan bahawa dia mungkin berkongsi detik itu dengan seseorang yang tidak hadir secara fizikal, seterusnya menonjolkan suasana positif dalam imej.'}]}"
      ]
     },
     "execution_count": 7,
     "metadata": {},
     "output_type": "execute_result"
    }
   ],
   "source": [
    "combine[0]"
   ]
  },
  {
   "cell_type": "code",
   "execution_count": 8,
   "id": "a9e22f64",
   "metadata": {},
   "outputs": [],
   "source": [
    "with open('prepared-combine-ms.jsonl', 'w') as fopen:\n",
    "    for d in combine:\n",
    "        fopen.write(f'{json.dumps(d)}\\n')"
   ]
  },
  {
   "cell_type": "code",
   "execution_count": null,
   "id": "5efdb9b8",
   "metadata": {},
   "outputs": [],
   "source": []
  }
 ],
 "metadata": {
  "kernelspec": {
   "display_name": "Python 3 (ipykernel)",
   "language": "python",
   "name": "python3"
  },
  "language_info": {
   "codemirror_mode": {
    "name": "ipython",
    "version": 3
   },
   "file_extension": ".py",
   "mimetype": "text/x-python",
   "name": "python",
   "nbconvert_exporter": "python",
   "pygments_lexer": "ipython3",
   "version": "3.10.12"
  }
 },
 "nbformat": 4,
 "nbformat_minor": 5
}
