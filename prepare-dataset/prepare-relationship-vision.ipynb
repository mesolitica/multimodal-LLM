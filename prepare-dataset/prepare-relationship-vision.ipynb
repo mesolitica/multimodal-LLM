{
 "cells": [
  {
   "cell_type": "code",
   "execution_count": 4,
   "id": "27540315",
   "metadata": {},
   "outputs": [],
   "source": [
    "import json\n",
    "import os\n",
    "from tqdm import tqdm"
   ]
  },
  {
   "cell_type": "code",
   "execution_count": 5,
   "id": "8ef1c71b",
   "metadata": {},
   "outputs": [],
   "source": [
    "# !wget https://huggingface.co/datasets/mesolitica/synthetic-multiturn-multimodal/resolve/main/synthetic-multi-audio-relationship.jsonl\n",
    "# !wget https://huggingface.co/datasets/mesolitica/synthetic-multiturn-multimodal/resolve/main/synthetic-multi-images-multi-audio-relationship.jsonl\n",
    "# !wget https://huggingface.co/datasets/mesolitica/synthetic-multiturn-multimodal/resolve/main/synthetic-multi-images-relationship.jsonl"
   ]
  },
  {
   "cell_type": "code",
   "execution_count": 6,
   "id": "9d2f855a",
   "metadata": {},
   "outputs": [
    {
     "name": "stderr",
     "output_type": "stream",
     "text": [
      "100000it [00:01, 59289.96it/s]\n"
     ]
    }
   ],
   "source": [
    "en, ms = [], []\n",
    "with open('synthetic-multi-images-relationship.jsonl') as fopen:\n",
    "    for l in tqdm(fopen):\n",
    "        l = json.loads(l)\n",
    "        filename = []\n",
    "        for f in l['filename']:\n",
    "            f = os.path.join('/home/ubuntu/filtered-blip-images', f)\n",
    "            filename.append(f)\n",
    "                \n",
    "        en.append({\n",
    "            'filename': filename,\n",
    "            'conversations': [\n",
    "                {'role': 'user', 'content': '<image> <image> ' + l['instruction']},\n",
    "                {'role': 'assistant', 'content': l['answer']},\n",
    "            ]\n",
    "        })\n",
    "        ms.append({\n",
    "            'filename': filename,\n",
    "            'conversations': [\n",
    "                {'role': 'user', 'content': '<image> <image> ' + l['instruction_ms']},\n",
    "                {'role': 'assistant', 'content': l['answer_ms']},\n",
    "            ]\n",
    "        })"
   ]
  },
  {
   "cell_type": "code",
   "execution_count": 7,
   "id": "bbf12d16",
   "metadata": {},
   "outputs": [
    {
     "data": {
      "text/plain": [
       "100000"
      ]
     },
     "execution_count": 7,
     "metadata": {},
     "output_type": "execute_result"
    }
   ],
   "source": [
    "len(en)"
   ]
  },
  {
   "cell_type": "code",
   "execution_count": 9,
   "id": "224a0c54",
   "metadata": {},
   "outputs": [
    {
     "data": {
      "text/plain": [
       "100000"
      ]
     },
     "execution_count": 9,
     "metadata": {},
     "output_type": "execute_result"
    }
   ],
   "source": [
    "len(ms)"
   ]
  },
  {
   "cell_type": "code",
   "execution_count": 10,
   "id": "2f929402",
   "metadata": {},
   "outputs": [
    {
     "data": {
      "text/plain": [
       "{'filename': ['/home/ubuntu/filtered-blip-images/00370/003705168.jpg',\n",
       "  '/home/ubuntu/filtered-blip-images/00611/006111738.jpg'],\n",
       " 'conversations': [{'role': 'user',\n",
       "   'content': '<image> <image> Apakah yang berkaitan antara gambar 1 dan gambar 2'},\n",
       "  {'role': 'assistant',\n",
       "   'content': 'Tiada hubungan langsung antara Gambar 1 (Paco Rabanne 1 Million Edp Gift Set) dan Gambar 2 (Raspberry Lemonade menjadi must dalam adegan koktel terkenal di New York). Kedua-duanya tidak berkaitan antara satu sama lain. Gambar pertama ialah imej set hadiah minyak wangi, manakala gambar kedua ialah gambaran koktel popular di New York City.'}]}"
      ]
     },
     "execution_count": 10,
     "metadata": {},
     "output_type": "execute_result"
    }
   ],
   "source": [
    "ms[0]"
   ]
  },
  {
   "cell_type": "code",
   "execution_count": 13,
   "id": "640a60d7",
   "metadata": {},
   "outputs": [
    {
     "data": {
      "text/plain": [
       "{'filename': ['/home/ubuntu/filtered-blip-images/00370/003705168.jpg',\n",
       "  '/home/ubuntu/filtered-blip-images/00611/006111738.jpg'],\n",
       " 'conversations': [{'role': 'user',\n",
       "   'content': '<image> <image> What is related between picture 1 and picture 2'},\n",
       "  {'role': 'assistant',\n",
       "   'content': \"There is no direct relation between Picture 1 (Paco Rabanne 1 Million Edp Gift Set) and Picture 2 (Raspberry Lemonade being a must in New York's famous cocktail scene). Both are unrelated to each other. The first picture is an image of a perfume gift set, while the second picture is a depiction of a popular cocktail in New York City.\"}]}"
      ]
     },
     "execution_count": 13,
     "metadata": {},
     "output_type": "execute_result"
    }
   ],
   "source": [
    "en[0]"
   ]
  },
  {
   "cell_type": "code",
   "execution_count": 11,
   "id": "47e38b0e",
   "metadata": {},
   "outputs": [],
   "source": [
    "with open('prepared-relationship-en.jsonl', 'w') as fopen:\n",
    "    for d in en:\n",
    "        fopen.write(f'{json.dumps(d)}\\n')"
   ]
  },
  {
   "cell_type": "code",
   "execution_count": 12,
   "id": "07864078",
   "metadata": {},
   "outputs": [],
   "source": [
    "with open('prepared-relationship-ms.jsonl', 'w') as fopen:\n",
    "    for d in ms:\n",
    "        fopen.write(f'{json.dumps(d)}\\n')"
   ]
  }
 ],
 "metadata": {
  "kernelspec": {
   "display_name": "Python 3 (ipykernel)",
   "language": "python",
   "name": "python3"
  },
  "language_info": {
   "codemirror_mode": {
    "name": "ipython",
    "version": 3
   },
   "file_extension": ".py",
   "mimetype": "text/x-python",
   "name": "python",
   "nbconvert_exporter": "python",
   "pygments_lexer": "ipython3",
   "version": "3.10.12"
  }
 },
 "nbformat": 4,
 "nbformat_minor": 5
}
