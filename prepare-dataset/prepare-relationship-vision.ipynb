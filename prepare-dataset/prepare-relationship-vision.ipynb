{
 "cells": [
  {
   "cell_type": "code",
   "execution_count": 10,
   "id": "27540315",
   "metadata": {},
   "outputs": [],
   "source": [
    "import json\n",
    "import os\n",
    "import random\n",
    "from tqdm import tqdm"
   ]
  },
  {
   "cell_type": "code",
   "execution_count": 2,
   "id": "8ef1c71b",
   "metadata": {},
   "outputs": [],
   "source": [
    "# !wget https://huggingface.co/datasets/mesolitica/synthetic-multiturn-multimodal/resolve/main/synthetic-multi-audio-relationship.jsonl\n",
    "# !wget https://huggingface.co/datasets/mesolitica/synthetic-multiturn-multimodal/resolve/main/synthetic-multi-images-multi-audio-relationship.jsonl\n",
    "# !wget https://huggingface.co/datasets/mesolitica/synthetic-multiturn-multimodal/resolve/main/synthetic-multi-images-relationship.jsonl"
   ]
  },
  {
   "cell_type": "code",
   "execution_count": 11,
   "id": "680697f8",
   "metadata": {},
   "outputs": [],
   "source": [
    "instructions_en = [\n",
    "    'What is related between picture 1 and picture 2',\n",
    "    'what is related for both pictures',\n",
    "    'for both pictures, what is related'\n",
    "]\n",
    "instrunctions_ms = [\n",
    "    'Apakah yang berkaitan antara gambar 1 dan gambar 2',\n",
    "    'apa kaitan 2 gambar ni',\n",
    "    'ada kaitan ke 2 gambar ni',\n",
    "    'apa kaitan gambar-gambar tersebut'\n",
    "]"
   ]
  },
  {
   "cell_type": "code",
   "execution_count": 12,
   "id": "9d2f855a",
   "metadata": {},
   "outputs": [
    {
     "name": "stderr",
     "output_type": "stream",
     "text": [
      "100000it [00:02, 42884.74it/s]\n"
     ]
    }
   ],
   "source": [
    "en, ms = [], []\n",
    "with open('synthetic-multi-images-relationship.jsonl') as fopen:\n",
    "    for l in tqdm(fopen):\n",
    "        l = json.loads(l)\n",
    "        filename = []\n",
    "        for f in l['filename']:\n",
    "            f = os.path.join('/home/ubuntu/filtered-blip-images', f)\n",
    "            filename.append(f)\n",
    "            \n",
    "        if not all([os.path.exists(f) for f in filename]):\n",
    "            continue\n",
    "                \n",
    "        en.append({\n",
    "            'filename': filename,\n",
    "            'conversations': [\n",
    "                {'role': 'user', 'content': '<image> <image> ' + random.choice(instructions_en)},\n",
    "                {'role': 'assistant', 'content': l['answer']},\n",
    "            ]\n",
    "        })\n",
    "        ms.append({\n",
    "            'filename': filename,\n",
    "            'conversations': [\n",
    "                {'role': 'user', 'content': '<image> <image> ' + random.choice(instrunctions_ms)},\n",
    "                {'role': 'assistant', 'content': l['answer_ms']},\n",
    "            ]\n",
    "        })"
   ]
  },
  {
   "cell_type": "code",
   "execution_count": 14,
   "id": "87458139",
   "metadata": {},
   "outputs": [
    {
     "data": {
      "text/plain": [
       "{'image>'}"
      ]
     },
     "execution_count": 14,
     "metadata": {},
     "output_type": "execute_result"
    }
   ],
   "source": [
    "a = set()\n",
    "for l in en + ms:\n",
    "    for i in range(len(l['conversations'])):\n",
    "        splitted = l['conversations'][i]['content'].split('<')\n",
    "        if len(splitted) > 1:\n",
    "            a.add(splitted[1].strip().split('\\n')[0])\n",
    "a"
   ]
  },
  {
   "cell_type": "code",
   "execution_count": 15,
   "id": "1aedb61a",
   "metadata": {},
   "outputs": [],
   "source": [
    "with open('prepared-relationship-en.jsonl', 'w') as fopen:\n",
    "    for d in en:\n",
    "        fopen.write(f'{json.dumps(d)}\\n')"
   ]
  },
  {
   "cell_type": "code",
   "execution_count": 16,
   "id": "35d33a1f",
   "metadata": {},
   "outputs": [],
   "source": [
    "with open('prepared-relationship-ms.jsonl', 'w') as fopen:\n",
    "    for d in ms:\n",
    "        fopen.write(f'{json.dumps(d)}\\n')"
   ]
  }
 ],
 "metadata": {
  "kernelspec": {
   "display_name": "Python 3 (ipykernel)",
   "language": "python",
   "name": "python3"
  },
  "language_info": {
   "codemirror_mode": {
    "name": "ipython",
    "version": 3
   },
   "file_extension": ".py",
   "mimetype": "text/x-python",
   "name": "python",
   "nbconvert_exporter": "python",
   "pygments_lexer": "ipython3",
   "version": "3.10.12"
  }
 },
 "nbformat": 4,
 "nbformat_minor": 5
}
