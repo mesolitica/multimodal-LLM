{
 "cells": [
  {
   "cell_type": "code",
   "execution_count": 1,
   "id": "a8037458",
   "metadata": {},
   "outputs": [],
   "source": [
    "import json\n",
    "import os\n",
    "import random"
   ]
  },
  {
   "cell_type": "code",
   "execution_count": 2,
   "id": "8ce44958",
   "metadata": {},
   "outputs": [],
   "source": [
    "# !wget https://huggingface.co/datasets/mesolitica/resepichenom.com-multiturn/resolve/main/chat.json -O chenom.json\n",
    "# !wget https://huggingface.co/datasets/malaysia-ai/motomalaysia.com-multiturn/resolve/main/motomalaysia-chat.json\n",
    "# !wget https://huggingface.co/datasets/malaysia-ai/wapcar.my-multiturn/resolve/main/wapcar-chat.json"
   ]
  },
  {
   "cell_type": "code",
   "execution_count": 3,
   "id": "66cc36ec",
   "metadata": {},
   "outputs": [],
   "source": [
    "data = []"
   ]
  },
  {
   "cell_type": "code",
   "execution_count": 4,
   "id": "7ee241e3",
   "metadata": {
    "scrolled": true
   },
   "outputs": [
    {
     "data": {
      "text/plain": [
       "672"
      ]
     },
     "execution_count": 4,
     "metadata": {},
     "output_type": "execute_result"
    }
   ],
   "source": [
    "with open('motomalaysia-chat.json') as fopen:\n",
    "    motomalaysia = json.load(fopen)\n",
    "    \n",
    "for row in motomalaysia:\n",
    "    if not os.path.exists(row['image']):\n",
    "        continue\n",
    "    data.append({\n",
    "        'filename': [row['image']],\n",
    "        'conversations': row['conversations'][:-2],\n",
    "    })\n",
    "    \n",
    "len(data)"
   ]
  },
  {
   "cell_type": "code",
   "execution_count": 5,
   "id": "10ae8839",
   "metadata": {},
   "outputs": [
    {
     "data": {
      "text/plain": [
       "2740"
      ]
     },
     "execution_count": 5,
     "metadata": {},
     "output_type": "execute_result"
    }
   ],
   "source": [
    "with open('wapcar-chat.json') as fopen:\n",
    "    wapcar = json.load(fopen)\n",
    "    \n",
    "for row in wapcar:\n",
    "    \n",
    "    f = row['image']\n",
    "    if not os.path.exists(f):\n",
    "        continue\n",
    "        \n",
    "    for i in range(len(row['conversations'])):\n",
    "        if isinstance(row['conversations'][i]['content'], list):\n",
    "            row['conversations'][i]['content'] = '\\n'.join(row['conversations'][i]['content'])\n",
    "    \n",
    "    if random.random() > 0.3:\n",
    "        continue\n",
    "        \n",
    "    data.append({\n",
    "        'filename': [f],\n",
    "        'conversations': row['conversations'][:-2],\n",
    "    })\n",
    "    \n",
    "len(data)"
   ]
  },
  {
   "cell_type": "code",
   "execution_count": 6,
   "id": "5748b9ef",
   "metadata": {},
   "outputs": [
    {
     "data": {
      "text/plain": [
       "3238"
      ]
     },
     "execution_count": 6,
     "metadata": {},
     "output_type": "execute_result"
    }
   ],
   "source": [
    "with open('chenom.json') as fopen:\n",
    "    chenom = json.load(fopen)\n",
    "    \n",
    "for row in chenom:\n",
    "    \n",
    "    f = row['image']\n",
    "    if not os.path.exists(f):\n",
    "        continue\n",
    "        \n",
    "    for i in range(len(row['conversations'])):\n",
    "        if isinstance(row['conversations'][i]['content'], list):\n",
    "            row['conversations'][i]['content'] = '\\n'.join(row['conversations'][i]['content'])\n",
    "            \n",
    "    data.append({\n",
    "        'filename': [f],\n",
    "        'conversations': row['conversations'],\n",
    "    })\n",
    "    \n",
    "len(data)"
   ]
  },
  {
   "cell_type": "code",
   "execution_count": 7,
   "id": "fa0dab9c",
   "metadata": {},
   "outputs": [],
   "source": [
    "with open('prepared-malay.jsonl', 'w') as fopen:\n",
    "    for d in data:\n",
    "        fopen.write(f'{json.dumps(d)}\\n')"
   ]
  }
 ],
 "metadata": {
  "kernelspec": {
   "display_name": "Python 3 (ipykernel)",
   "language": "python",
   "name": "python3"
  },
  "language_info": {
   "codemirror_mode": {
    "name": "ipython",
    "version": 3
   },
   "file_extension": ".py",
   "mimetype": "text/x-python",
   "name": "python",
   "nbconvert_exporter": "python",
   "pygments_lexer": "ipython3",
   "version": "3.10.12"
  }
 },
 "nbformat": 4,
 "nbformat_minor": 5
}
