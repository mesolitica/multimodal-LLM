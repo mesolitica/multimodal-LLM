{
 "cells": [
  {
   "cell_type": "code",
   "execution_count": 1,
   "id": "fea36ba4",
   "metadata": {},
   "outputs": [],
   "source": [
    "import json\n",
    "import os"
   ]
  },
  {
   "cell_type": "code",
   "execution_count": 2,
   "id": "75d5794c",
   "metadata": {},
   "outputs": [],
   "source": [
    "data = []"
   ]
  },
  {
   "cell_type": "code",
   "execution_count": 3,
   "id": "5d459c1d",
   "metadata": {},
   "outputs": [
    {
     "data": {
      "text/plain": [
       "672"
      ]
     },
     "execution_count": 3,
     "metadata": {},
     "output_type": "execute_result"
    }
   ],
   "source": [
    "with open('dataset/motomalaysia-chat.json') as fopen:\n",
    "    motomalaysia = json.load(fopen)\n",
    "    \n",
    "for row in motomalaysia:\n",
    "    if not os.path.exists(row['image']):\n",
    "        continue\n",
    "    data.append({\n",
    "        'filename': [row['image']],\n",
    "        'conversations': row['conversations'],\n",
    "    })\n",
    "    \n",
    "len(data)"
   ]
  },
  {
   "cell_type": "code",
   "execution_count": 4,
   "id": "37853adb",
   "metadata": {},
   "outputs": [
    {
     "data": {
      "text/plain": [
       "51808"
      ]
     },
     "execution_count": 4,
     "metadata": {},
     "output_type": "execute_result"
    }
   ],
   "source": [
    "with open('dataset/wapcar-chat.json') as fopen:\n",
    "    wapcar = json.load(fopen)\n",
    "    \n",
    "for row in wapcar:\n",
    "    \n",
    "    f = os.path.join('pic', row['image'])\n",
    "    if not os.path.exists(f):\n",
    "        continue\n",
    "        \n",
    "    for i in range(len(row['conversations'])):\n",
    "        if isinstance(row['conversations'][i]['content'], list):\n",
    "            row['conversations'][i]['content'] = '\\n'.join(row['conversations'][i]['content'])\n",
    "            \n",
    "    data.append({\n",
    "        'filename': [f],\n",
    "        'conversations': row['conversations'],\n",
    "    })\n",
    "    \n",
    "len(data)"
   ]
  },
  {
   "cell_type": "code",
   "execution_count": 5,
   "id": "2547942a",
   "metadata": {},
   "outputs": [
    {
     "data": {
      "text/plain": [
       "52306"
      ]
     },
     "execution_count": 5,
     "metadata": {},
     "output_type": "execute_result"
    }
   ],
   "source": [
    "with open('resepichenom.com-multiturn/chat.json') as fopen:\n",
    "    chenom = json.load(fopen)\n",
    "    \n",
    "for row in chenom:\n",
    "    \n",
    "    f = row['image']\n",
    "    if not os.path.exists(f):\n",
    "        continue\n",
    "        \n",
    "    for i in range(len(row['conversations'])):\n",
    "        if isinstance(row['conversations'][i]['content'], list):\n",
    "            row['conversations'][i]['content'] = '\\n'.join(row['conversations'][i]['content'])\n",
    "            \n",
    "    data.append({\n",
    "        'filename': [f],\n",
    "        'conversations': row['conversations'],\n",
    "    })\n",
    "    \n",
    "len(data)"
   ]
  },
  {
   "cell_type": "code",
   "execution_count": 6,
   "id": "7cb95551",
   "metadata": {},
   "outputs": [
    {
     "data": {
      "text/plain": [
       "52393"
      ]
     },
     "execution_count": 6,
     "metadata": {},
     "output_type": "execute_result"
    }
   ],
   "source": [
    "jpj = []\n",
    "\n",
    "with open('dataset/ujiankpp-test-prep-prompts-cleaned.jsonl') as fopen:\n",
    "    for l in fopen:\n",
    "        l = json.loads(l)\n",
    "        jpj.append(l)\n",
    "        \n",
    "for row in jpj:\n",
    "    \n",
    "    f = os.path.join('pic/jpj_test_set', row['filename'])\n",
    "    if not os.path.exists(f):\n",
    "        continue\n",
    "        \n",
    "    for i in range(len(row['conversations'])):\n",
    "        if isinstance(row['conversations'][i]['content'], list):\n",
    "            row['conversations'][i]['content'] = '\\n'.join(row['conversations'][i]['content'])\n",
    "            \n",
    "    data.append({\n",
    "        'filename': [f],\n",
    "        'conversations': row['conversations'],\n",
    "    })\n",
    "        \n",
    "len(data)"
   ]
  },
  {
   "cell_type": "code",
   "execution_count": 7,
   "id": "4d8c8dca",
   "metadata": {},
   "outputs": [
    {
     "data": {
      "text/plain": [
       "{'filename': ['pic/Suzuki GSX-S1000GT (2022)_0.jpg'],\n",
       " 'conversations': [{'role': 'user', 'content': '<image>Ini model apa?'},\n",
       "  {'role': 'assistant', 'content': 'Suzuki GSX-S1000GT (2022)'},\n",
       "  {'role': 'user', 'content': 'apa kelebihan moto tu?'},\n",
       "  {'role': 'assistant',\n",
       "   'content': 'Suzuki GSX-S1000GT adalah motosikal pelancongan sukan yang berharga RM85,700 di Malaysia yang dikecualikan insurans, cukai jalan, dan pendaftaran. Ia dilengkapi dengan reka bentuk sukan dengan bagasi yang sesuai untuk penunggang yang suka melancong jauh.'},\n",
       "  {'role': 'user', 'content': 'apa spesifikasi moto tu?'},\n",
       "  {'role': 'assistant',\n",
       "   'content': 'Manufacturer: Suzuki\\nModel: 2022\\nGeneration: \\nSuzuki GSX-S1000GT (2022)\\n\\nType: Sport Bike\\nColour Available: \\n\\n Metallic Triton Blue (YSF)\\n Metallic Reflective Blue (QT8)\\n\\n\\nDimension: \\n\\nWidth: 825 mm\\nHeight: 1215 mm\\nLength: 2140 mm\\n\\n\\nWheelbase: 1,460 mm\\nWeight: 215 kg\\nSeat Height: 810 mm\\nGround Clearance: 140 mm\\nMeter Display: Full Color Meter Panel\\nLighting: \\n\\nLED Headlight\\nLED Tail Light\\nLED Turn Signal\\n\\n\\nOthers: \\n\\nUSB Power Outlet\\n\\n\\nEngine: 4 Stroke, DOHC\\nDisplacement: 999 CC\\nNo Of Cylinders: 4 Cylinder\\nCompression Ratio: 12.2 : 1\\nBore x Stroke: 73.4 x 59.0 mm\\nMax Power: 152 PS (150 hp) / 11,000 RPM\\nMax Torque: 106 Nm / 9,250 RPM\\nTop  Speed: -\\nTransmission: 6 Speed\\nClutch: Wet, multi-plate type\\nIgnition System: Electronic Ignition\\nStarting System: Electric Starter\\nCooling System: Liquid Cooled\\nFuel System: Fuel injection\\nFuel Capacity: 19 Liters\\nFuel Consumption: -\\nEngine Oil Capacity: 3.4 Liters\\nBattery: -\\nOthers: \\n\\nTraction Control System (TCS)\\nSuzuki Exhaust Tuning (SET)\\nSuzuki Composite Electrochemical Material (SCEM)\\nSuzuki Advanced Immobilizer System (SAIS)\\nLow RPM Assists\\nSuzuki Easy Start System\\nAntilock Brake System (ABS)\\nRide By Wire\\nBi-Directional Quick Shift System\\nCruised Control System\\nSuzuki Clutch Assists System (SCAS)\\nSuzuki Drive Mode Selector (SDMS)\\nSmartphone Connectivity\\n\\n\\nType: -\\nFront Suspension: Inverted telescopic, coil spring, oil damped\\nRear Suspension: Link type, coil spring, oil damped\\nFront Brake: Twin Disc, ABS\\nRear Brake: Single Disc, ABS\\nFront Tire: 120/70ZR17M/C, tubeless\\nRear Tire: 190/50ZR17M/C, tubeless\\nRims Type: -\\nRims Size: -\\nExhaust System: -\\nOthers: -'}]}"
      ]
     },
     "execution_count": 7,
     "metadata": {},
     "output_type": "execute_result"
    }
   ],
   "source": [
    "data[0]"
   ]
  },
  {
   "cell_type": "code",
   "execution_count": 8,
   "id": "a9728992",
   "metadata": {},
   "outputs": [],
   "source": [
    "with open('prepared-malay.jsonl', 'w') as fopen:\n",
    "    for d in data:\n",
    "        fopen.write(f'{json.dumps(d)}\\n')"
   ]
  }
 ],
 "metadata": {
  "kernelspec": {
   "display_name": "Python 3 (ipykernel)",
   "language": "python",
   "name": "python3"
  },
  "language_info": {
   "codemirror_mode": {
    "name": "ipython",
    "version": 3
   },
   "file_extension": ".py",
   "mimetype": "text/x-python",
   "name": "python",
   "nbconvert_exporter": "python",
   "pygments_lexer": "ipython3",
   "version": "3.10.12"
  }
 },
 "nbformat": 4,
 "nbformat_minor": 5
}
