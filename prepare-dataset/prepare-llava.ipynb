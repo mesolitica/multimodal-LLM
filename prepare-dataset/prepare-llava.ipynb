{
 "cells": [
  {
   "cell_type": "code",
   "execution_count": 1,
   "id": "a023e6ca",
   "metadata": {},
   "outputs": [],
   "source": [
    "import json\n",
    "import os\n",
    "import random\n",
    "from glob import glob\n",
    "from tqdm import tqdm"
   ]
  },
  {
   "cell_type": "code",
   "execution_count": 2,
   "id": "0bbed2c9",
   "metadata": {},
   "outputs": [
    {
     "data": {
      "text/plain": [
       "['translated-LLaVA-Instruct-150K/detail_23k.translated.jsonl',\n",
       " 'translated-LLaVA-Instruct-150K/conversation_58k.translated.jsonl',\n",
       " 'translated-LLaVA-Instruct-150K/complex_reasoning_77k.translated.jsonl']"
      ]
     },
     "execution_count": 2,
     "metadata": {},
     "output_type": "execute_result"
    }
   ],
   "source": [
    "files = glob('translated-LLaVA-Instruct-150K/*.jsonl')\n",
    "files"
   ]
  },
  {
   "cell_type": "code",
   "execution_count": 3,
   "id": "93a3a8d7",
   "metadata": {},
   "outputs": [],
   "source": [
    "roles = {\n",
    "    'human': 'user',\n",
    "    'gpt': 'assistant'\n",
    "}"
   ]
  },
  {
   "cell_type": "code",
   "execution_count": 9,
   "id": "ec752389",
   "metadata": {},
   "outputs": [
    {
     "name": "stderr",
     "output_type": "stream",
     "text": [
      "23240it [00:00, 40429.24it/s]\n",
      "56681it [00:03, 18674.04it/s]\n",
      "76643it [00:02, 33493.68it/s]\n"
     ]
    }
   ],
   "source": [
    "data_en, data_ms = [], []\n",
    "for f in files:\n",
    "    with open(f) as fopen:\n",
    "        for l in tqdm(fopen):\n",
    "            l = json.loads(l)\n",
    "            f = os.path.join('/home/ubuntu/translated-LLaVA-Instruct-150K/filtered-llava-images', l['image'])\n",
    "            if not os.path.exists(f):\n",
    "                continue\n",
    "            en, ms = [], []\n",
    "            for no, c in enumerate(l['conversations']):\n",
    "                en_ = c['value'].replace('<imej>','<image>').replace('<img>','<image>').replace('<gambar>','<image>')\n",
    "                ms_ = c['value_ms'].replace('<imej>','<image>').replace('<img>','<image>').replace('<gambar>','<image>')\n",
    "                \n",
    "                if en_[0] == '\"':\n",
    "                    en_ = en_[1:]\n",
    "                    \n",
    "                if en_[-1] == '\"':\n",
    "                    en_ = en_[:-1]\n",
    "                    \n",
    "                if ms_[0] == '\"':\n",
    "                    ms_ = ms_[1:]\n",
    "                    \n",
    "                if ms_[-1] == '\"':\n",
    "                    ms_ = ms_[:-1]\n",
    "                    \n",
    "                if no == 0 and roles[c['from']] == 'user' and ('<image>' not in en_ or '<image>' not in ms_):\n",
    "                    break\n",
    "                    \n",
    "                en.append({\n",
    "                    'role': roles[c['from']],\n",
    "                    'content': en_\n",
    "                })\n",
    "                ms.append({\n",
    "                    'role': roles[c['from']],\n",
    "                    'content': ms_\n",
    "                })\n",
    "            \n",
    "            if len(en):\n",
    "                data_en.append({'filename': [f], 'conversations': en})\n",
    "            if len(ms):\n",
    "                data_ms.append({'filename': [f], 'conversations': ms})"
   ]
  },
  {
   "cell_type": "code",
   "execution_count": 5,
   "id": "0d2cdfd0",
   "metadata": {
    "scrolled": true
   },
   "outputs": [
    {
     "data": {
      "text/plain": [
       "{'filename': ['/home/ubuntu/translated-LLaVA-Instruct-150K/filtered-llava-images/000000409732.jpg'],\n",
       " 'conversations': [{'role': 'user',\n",
       "   'content': 'How many people are in the image?\\n<image>'},\n",
       "  {'role': 'assistant', 'content': 'There are four people in the image.'},\n",
       "  {'role': 'user',\n",
       "   'content': 'What color are the outfits of the people in the image?'},\n",
       "  {'role': 'assistant',\n",
       "   'content': 'The people in the image are wearing orange outfits.'},\n",
       "  {'role': 'user', 'content': 'What type of vehicle is in the image?'},\n",
       "  {'role': 'assistant',\n",
       "   'content': 'There is a Volkswagen (VW) bus in the image.'},\n",
       "  {'role': 'user',\n",
       "   'content': 'Are the people serving refreshments or operating a food truck?'},\n",
       "  {'role': 'assistant',\n",
       "   'content': 'Yes, the group of people wearing orange are serving refreshments next to an orange bus, which suggests they may be operating a food truck or a mobile refreshment service.'},\n",
       "  {'role': 'user',\n",
       "   'content': 'Describe the facial expressions and posture of the people in the image.'},\n",
       "  {'role': 'assistant',\n",
       "   'content': 'The people in the image have a happy and positive demeanor, likely smiling as they stand together in front of the orange van. Their posture appears welcoming and at ease, which may imply a sense of camaraderie and satisfaction with their food truck or refreshment service business. This friendly and cheerful atmosphere could be important in attracting customers and creating a pleasant experience for anyone who stops by to enjoy their offerings.'}]}"
      ]
     },
     "execution_count": 5,
     "metadata": {},
     "output_type": "execute_result"
    }
   ],
   "source": [
    "data_en[-100000]"
   ]
  },
  {
   "cell_type": "code",
   "execution_count": 6,
   "id": "698e542d",
   "metadata": {},
   "outputs": [
    {
     "data": {
      "text/plain": [
       "{'filename': ['/home/ubuntu/translated-LLaVA-Instruct-150K/filtered-llava-images/000000409732.jpg'],\n",
       " 'conversations': [{'role': 'user',\n",
       "   'content': 'Berapa ramai orang dalam gambar?\\n<image>'},\n",
       "  {'role': 'assistant', 'content': 'Terdapat empat orang dalam imej itu.'},\n",
       "  {'role': 'user', 'content': 'Apakah warna pakaian orang dalam imej?'},\n",
       "  {'role': 'assistant', 'content': 'Orang dalam gambar memakai pakaian oren.'},\n",
       "  {'role': 'user', 'content': 'Apakah jenis kenderaan dalam imej?'},\n",
       "  {'role': 'assistant',\n",
       "   'content': 'Terdapat sebuah bas Volkswagen (VW) dalam gambar tersebut.'},\n",
       "  {'role': 'user',\n",
       "   'content': 'Adakah orang yang menyajikan minuman atau mengendalikan trak makanan?'},\n",
       "  {'role': 'assistant',\n",
       "   'content': 'Ya, kumpulan orang yang memakai oren sedang menyajikan minuman ringan di sebelah bas oren, yang menunjukkan mereka mungkin mengendalikan trak makanan atau perkhidmatan minuman ringan.'},\n",
       "  {'role': 'user',\n",
       "   'content': 'Terangkan ekspresi muka dan postur orang dalam imej.'},\n",
       "  {'role': 'assistant',\n",
       "   'content': 'Orang dalam imej mempunyai sikap gembira dan positif, mungkin tersenyum ketika mereka berdiri bersama di hadapan van oren. Postur mereka kelihatan mesra dan tenang, yang mungkin membayangkan rasa setiakawan dan kepuasan dengan perniagaan trak makanan atau perkhidmatan minuman mereka. Suasana yang mesra dan ceria ini boleh menjadi penting dalam menarik pelanggan dan mencipta pengalaman yang menyenangkan untuk sesiapa sahaja yang singgah untuk menikmati persembahan mereka.'}]}"
      ]
     },
     "execution_count": 6,
     "metadata": {},
     "output_type": "execute_result"
    }
   ],
   "source": [
    "data_ms[-100000]"
   ]
  },
  {
   "cell_type": "code",
   "execution_count": 10,
   "id": "6c16ffe2",
   "metadata": {},
   "outputs": [
    {
     "data": {
      "text/plain": [
       "{'image>'}"
      ]
     },
     "execution_count": 10,
     "metadata": {},
     "output_type": "execute_result"
    }
   ],
   "source": [
    "a = set()\n",
    "for l in data_en + data_ms:\n",
    "    for i in range(len(l['conversations'])):\n",
    "        splitted = l['conversations'][i]['content'].split('<')\n",
    "        if len(splitted) > 1:\n",
    "            a.add(splitted[1].strip().split('\\n')[0])\n",
    "a"
   ]
  },
  {
   "cell_type": "code",
   "execution_count": 11,
   "id": "b1e9b93f",
   "metadata": {},
   "outputs": [
    {
     "data": {
      "text/plain": [
       "'Pemain papan selaju menghadapi beberapa risiko semasa melakukan helah udara, seperti yang dilihat dalam imej seseorang melompat dengan papan selaju di atas laluan berhalangan di taman skate. Risiko ini termasuk kehilangan keseimbangan dan kawalan, jatuh dari ketinggian, dan potensi perlanggaran dengan halangan sekeliling atau pemain skate lain. Air terjun boleh menyebabkan pelbagai kecederaan, daripada luka kecil dan lebam kepada akibat yang lebih teruk seperti terseliuh, patah tulang, gegaran otak, atau kecederaan yang mengancam nyawa, bergantung pada ketinggian, kelajuan dan sudut kejatuhan. Untuk meminimumkan risiko ini, pemain papan selaju boleh memakai peralatan perlindungan, seperti topi keledar dan pad, dan berlatih di kawasan yang sesuai, seperti kursus taman skate yang telah direka untuk kemajuan keselamatan dan kemahiran. Selain itu, mempelajari teknik yang betul untuk helah udara dan secara beransur-ansur meningkatkan tahap kesukaran boleh membantu mengurangkan risiko kecederaan.'"
      ]
     },
     "execution_count": 11,
     "metadata": {},
     "output_type": "execute_result"
    }
   ],
   "source": [
    "l['conversations'][i]['content']"
   ]
  },
  {
   "cell_type": "code",
   "execution_count": 12,
   "id": "fa77f5a9",
   "metadata": {},
   "outputs": [
    {
     "data": {
      "text/plain": [
       "(148657, 148657)"
      ]
     },
     "execution_count": 12,
     "metadata": {},
     "output_type": "execute_result"
    }
   ],
   "source": [
    "len(data_en), len(data_ms)"
   ]
  },
  {
   "cell_type": "code",
   "execution_count": 13,
   "id": "97b9d008",
   "metadata": {},
   "outputs": [
    {
     "data": {
      "text/plain": [
       "{'filename': ['/home/ubuntu/translated-LLaVA-Instruct-150K/filtered-llava-images/000000281721.jpg'],\n",
       " 'conversations': [{'role': 'user',\n",
       "   'content': 'Terangkan imej berikut.\\n<image>'},\n",
       "  {'role': 'assistant',\n",
       "   'content': 'Imej itu memaparkan jalan bandar yang sibuk dengan kereta yang memandu di jalan raya dan pejalan kaki berjalan di sepanjang kaki lima. Pelbagai kenderaan melalui lampu hijau di persimpangan, bergerak ke kedua-dua arah. Sesetengah kereta lebih dekat dengan kamera, manakala yang lain boleh dilihat lebih jauh di jalan.\\n\\nTerdapat beberapa pejalan kaki yang kelihatan berhampiran bahagian kiri imej, mungkin menavigasi jalan mereka melalui bandar. Pelbagai lampu isyarat diletakkan di seluruh tempat kejadian, memastikan aliran trafik yang selamat untuk kedua-dua kenderaan dan pejalan kaki. Suasana menunjukkan persekitaran bandar yang sibuk dan meriah.'}]}"
      ]
     },
     "execution_count": 13,
     "metadata": {},
     "output_type": "execute_result"
    }
   ],
   "source": [
    "data_ms[2]"
   ]
  },
  {
   "cell_type": "code",
   "execution_count": 14,
   "id": "23d03782",
   "metadata": {},
   "outputs": [],
   "source": [
    "with open('prepared-llava-en.jsonl', 'w') as fopen:\n",
    "    for d in data_en:\n",
    "        fopen.write(f'{json.dumps(d)}\\n')"
   ]
  },
  {
   "cell_type": "code",
   "execution_count": 15,
   "id": "d345c9b5",
   "metadata": {},
   "outputs": [],
   "source": [
    "with open('prepared-llava-ms.jsonl', 'w') as fopen:\n",
    "    for d in data_ms:\n",
    "        fopen.write(f'{json.dumps(d)}\\n')"
   ]
  },
  {
   "cell_type": "code",
   "execution_count": null,
   "id": "702722a9",
   "metadata": {},
   "outputs": [],
   "source": []
  }
 ],
 "metadata": {
  "kernelspec": {
   "display_name": "Python 3 (ipykernel)",
   "language": "python",
   "name": "python3"
  },
  "language_info": {
   "codemirror_mode": {
    "name": "ipython",
    "version": 3
   },
   "file_extension": ".py",
   "mimetype": "text/x-python",
   "name": "python",
   "nbconvert_exporter": "python",
   "pygments_lexer": "ipython3",
   "version": "3.10.12"
  }
 },
 "nbformat": 4,
 "nbformat_minor": 5
}
