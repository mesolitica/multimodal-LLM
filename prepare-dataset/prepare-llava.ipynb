{
 "cells": [
  {
   "cell_type": "code",
   "execution_count": 5,
   "id": "e554d822",
   "metadata": {},
   "outputs": [],
   "source": [
    "import json\n",
    "import os\n",
    "import random"
   ]
  },
  {
   "cell_type": "code",
   "execution_count": 6,
   "id": "771d956f",
   "metadata": {},
   "outputs": [],
   "source": [
    "files = [\n",
    "    'dataset/llava/conversation_58k.translated.jsonl',\n",
    "    'dataset/llava/complex_reasoning_77k.translated.jsonl',\n",
    "    'dataset/llava/detail_23k.translated.jsonl'\n",
    "]"
   ]
  },
  {
   "cell_type": "code",
   "execution_count": 7,
   "id": "3dbf7566",
   "metadata": {},
   "outputs": [],
   "source": [
    "roles = {\n",
    "    'human': 'user',\n",
    "    'gpt': 'assistant'\n",
    "}"
   ]
  },
  {
   "cell_type": "code",
   "execution_count": 8,
   "id": "d82ea317",
   "metadata": {},
   "outputs": [],
   "source": [
    "data_en, data_ms = [], []\n",
    "for f in files:\n",
    "    with open(f) as fopen:\n",
    "        for l in fopen:\n",
    "            l = json.loads(l)\n",
    "            f = os.path.join('/home/ubuntu/filtered-llava-images', l['image'])\n",
    "            if not os.path.exists(f):\n",
    "                continue\n",
    "            en, ms = [], []\n",
    "            for c in l['conversations']:\n",
    "                en_ = c['value'].replace('<imej>','<image>').replace('<img>','<image>').replace('<gambar>','<image>')\n",
    "                ms_ = c['value_ms'].replace('<imej>','<image>').replace('<img>','<image>').replace('<gambar>','<image>')\n",
    "                en.append({\n",
    "                    'role': roles[c['from']],\n",
    "                    'content': en_\n",
    "                })\n",
    "                ms.append({\n",
    "                    'role': roles[c['from']],\n",
    "                    'content': ms_\n",
    "                })\n",
    "                \n",
    "            if random.random() > 0.6:\n",
    "                en.extend([\n",
    "                    {\n",
    "                        'role': 'user',\n",
    "                        'content': '<audio>what is audio about?'\n",
    "                    },\n",
    "                    {\n",
    "                        'role': 'assistant',\n",
    "                        'content': 'There is no audio attached to describe.'\n",
    "                    },\n",
    "                ])\n",
    "                ms.extend([\n",
    "                    {\n",
    "                        'role': 'user',\n",
    "                        'content': '<audio>audio ni pasal ape?'\n",
    "                    },\n",
    "                    {\n",
    "                        'role': 'assistant',\n",
    "                        'content': 'Tiada audio yang dilampirkan untuk menggambarkan.'\n",
    "                    },\n",
    "                ])\n",
    "            \n",
    "            data_en.append({'filename': [f], 'conversations': en})\n",
    "            data_ms.append({'filename': [f], 'conversations': ms})"
   ]
  },
  {
   "cell_type": "code",
   "execution_count": 9,
   "id": "f6e62782",
   "metadata": {},
   "outputs": [],
   "source": [
    "with open('prepared-llava-en.jsonl', 'w') as fopen:\n",
    "    for d in data_en:\n",
    "        fopen.write(f'{json.dumps(d)}\\n')"
   ]
  },
  {
   "cell_type": "code",
   "execution_count": 10,
   "id": "8e7dbdc7",
   "metadata": {},
   "outputs": [],
   "source": [
    "with open('prepared-llava-ms.jsonl', 'w') as fopen:\n",
    "    for d in data_ms:\n",
    "        fopen.write(f'{json.dumps(d)}\\n')"
   ]
  }
 ],
 "metadata": {
  "kernelspec": {
   "display_name": "Python 3 (ipykernel)",
   "language": "python",
   "name": "python3"
  },
  "language_info": {
   "codemirror_mode": {
    "name": "ipython",
    "version": 3
   },
   "file_extension": ".py",
   "mimetype": "text/x-python",
   "name": "python",
   "nbconvert_exporter": "python",
   "pygments_lexer": "ipython3",
   "version": "3.10.12"
  }
 },
 "nbformat": 4,
 "nbformat_minor": 5
}
