{
 "cells": [
  {
   "cell_type": "code",
   "execution_count": 1,
   "id": "a023e6ca",
   "metadata": {},
   "outputs": [],
   "source": [
    "import json\n",
    "import os\n",
    "import random\n",
    "from glob import glob\n",
    "from tqdm import tqdm"
   ]
  },
  {
   "cell_type": "code",
   "execution_count": 2,
   "id": "0bbed2c9",
   "metadata": {},
   "outputs": [
    {
     "data": {
      "text/plain": [
       "['translated-LLaVA-Instruct-150K/detail_23k.translated.jsonl',\n",
       " 'translated-LLaVA-Instruct-150K/conversation_58k.translated.jsonl',\n",
       " 'translated-LLaVA-Instruct-150K/complex_reasoning_77k.translated.jsonl']"
      ]
     },
     "execution_count": 2,
     "metadata": {},
     "output_type": "execute_result"
    }
   ],
   "source": [
    "files = glob('translated-LLaVA-Instruct-150K/*.jsonl')\n",
    "files"
   ]
  },
  {
   "cell_type": "code",
   "execution_count": 3,
   "id": "93a3a8d7",
   "metadata": {},
   "outputs": [],
   "source": [
    "roles = {\n",
    "    'human': 'user',\n",
    "    'gpt': 'assistant'\n",
    "}"
   ]
  },
  {
   "cell_type": "code",
   "execution_count": 11,
   "id": "ec752389",
   "metadata": {},
   "outputs": [
    {
     "name": "stderr",
     "output_type": "stream",
     "text": [
      "23240it [00:00, 47663.59it/s]\n",
      "56681it [00:01, 30096.15it/s]\n",
      "76643it [00:01, 42553.34it/s]\n"
     ]
    }
   ],
   "source": [
    "data_en, data_ms = [], []\n",
    "for f in files:\n",
    "    with open(f) as fopen:\n",
    "        for l in tqdm(fopen):\n",
    "            l = json.loads(l)\n",
    "            f = os.path.join('/home/ubuntu/translated-LLaVA-Instruct-150K/filtered-llava-images', l['image'])\n",
    "            if not os.path.exists(f):\n",
    "                continue\n",
    "            en, ms = [], []\n",
    "            for c in l['conversations']:\n",
    "                en_ = c['value'].replace('<imej>','<image>').replace('<img>','<image>').replace('<gambar>','<image>')\n",
    "                ms_ = c['value_ms'].replace('<imej>','<image>').replace('<img>','<image>').replace('<gambar>','<image>')\n",
    "                \n",
    "                if roles[c['from']] == 'user' and ('<image>' not in en_ or '<image>' not in ms_):\n",
    "                    break\n",
    "                    \n",
    "                en.append({\n",
    "                    'role': roles[c['from']],\n",
    "                    'content': en_\n",
    "                })\n",
    "                ms.append({\n",
    "                    'role': roles[c['from']],\n",
    "                    'content': ms_\n",
    "                })\n",
    "            \n",
    "            if len(en):\n",
    "                data_en.append({'filename': [f], 'conversations': en})\n",
    "            if len(ms):\n",
    "                data_ms.append({'filename': [f], 'conversations': ms})"
   ]
  },
  {
   "cell_type": "code",
   "execution_count": 12,
   "id": "6c16ffe2",
   "metadata": {},
   "outputs": [
    {
     "data": {
      "text/plain": [
       "{'image>'}"
      ]
     },
     "execution_count": 12,
     "metadata": {},
     "output_type": "execute_result"
    }
   ],
   "source": [
    "a = set()\n",
    "for l in data_en + data_ms:\n",
    "    for i in range(len(l['conversations'])):\n",
    "        splitted = l['conversations'][i]['content'].split('<')\n",
    "        if len(splitted) > 1:\n",
    "            a.add(splitted[1].strip().split('\\n')[0])\n",
    "a"
   ]
  },
  {
   "cell_type": "code",
   "execution_count": 13,
   "id": "fa77f5a9",
   "metadata": {},
   "outputs": [
    {
     "data": {
      "text/plain": [
       "(148657, 148657)"
      ]
     },
     "execution_count": 13,
     "metadata": {},
     "output_type": "execute_result"
    }
   ],
   "source": [
    "len(data_en), len(data_ms)"
   ]
  },
  {
   "cell_type": "code",
   "execution_count": 15,
   "id": "97b9d008",
   "metadata": {},
   "outputs": [
    {
     "data": {
      "text/plain": [
       "{'filename': ['/home/ubuntu/translated-LLaVA-Instruct-150K/filtered-llava-images/000000281721.jpg'],\n",
       " 'conversations': [{'role': 'user',\n",
       "   'content': 'Terangkan imej berikut.\\n<image>'},\n",
       "  {'role': 'assistant',\n",
       "   'content': 'Imej itu memaparkan jalan bandar yang sibuk dengan kereta yang memandu di jalan raya dan pejalan kaki berjalan di sepanjang kaki lima. Pelbagai kenderaan melalui lampu hijau di persimpangan, bergerak ke kedua-dua arah. Sesetengah kereta lebih dekat dengan kamera, manakala yang lain boleh dilihat lebih jauh di jalan.\\n\\nTerdapat beberapa pejalan kaki yang kelihatan berhampiran bahagian kiri imej, mungkin menavigasi jalan mereka melalui bandar. Pelbagai lampu isyarat diletakkan di seluruh tempat kejadian, memastikan aliran trafik yang selamat untuk kedua-dua kenderaan dan pejalan kaki. Suasana menunjukkan persekitaran bandar yang sibuk dan meriah.'}]}"
      ]
     },
     "execution_count": 15,
     "metadata": {},
     "output_type": "execute_result"
    }
   ],
   "source": [
    "data_ms[2]"
   ]
  },
  {
   "cell_type": "code",
   "execution_count": 16,
   "id": "23d03782",
   "metadata": {},
   "outputs": [],
   "source": [
    "with open('prepared-llava-en.jsonl', 'w') as fopen:\n",
    "    for d in data_en:\n",
    "        fopen.write(f'{json.dumps(d)}\\n')"
   ]
  },
  {
   "cell_type": "code",
   "execution_count": 17,
   "id": "d345c9b5",
   "metadata": {},
   "outputs": [],
   "source": [
    "with open('prepared-llava-ms.jsonl', 'w') as fopen:\n",
    "    for d in data_ms:\n",
    "        fopen.write(f'{json.dumps(d)}\\n')"
   ]
  }
 ],
 "metadata": {
  "kernelspec": {
   "display_name": "Python 3 (ipykernel)",
   "language": "python",
   "name": "python3"
  },
  "language_info": {
   "codemirror_mode": {
    "name": "ipython",
    "version": 3
   },
   "file_extension": ".py",
   "mimetype": "text/x-python",
   "name": "python",
   "nbconvert_exporter": "python",
   "pygments_lexer": "ipython3",
   "version": "3.10.12"
  }
 },
 "nbformat": 4,
 "nbformat_minor": 5
}
