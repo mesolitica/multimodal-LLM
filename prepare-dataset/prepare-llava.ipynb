{
 "cells": [
  {
   "cell_type": "code",
   "execution_count": 1,
   "id": "a023e6ca",
   "metadata": {},
   "outputs": [],
   "source": [
    "import json\n",
    "import os\n",
    "import random\n",
    "from glob import glob\n",
    "from tqdm import tqdm"
   ]
  },
  {
   "cell_type": "code",
   "execution_count": 2,
   "id": "0bbed2c9",
   "metadata": {},
   "outputs": [
    {
     "data": {
      "text/plain": [
       "['translated-LLaVA-Instruct-150K/detail_23k.translated.jsonl',\n",
       " 'translated-LLaVA-Instruct-150K/conversation_58k.translated.jsonl',\n",
       " 'translated-LLaVA-Instruct-150K/complex_reasoning_77k.translated.jsonl']"
      ]
     },
     "execution_count": 2,
     "metadata": {},
     "output_type": "execute_result"
    }
   ],
   "source": [
    "files = glob('translated-LLaVA-Instruct-150K/*.jsonl')\n",
    "files"
   ]
  },
  {
   "cell_type": "code",
   "execution_count": 3,
   "id": "93a3a8d7",
   "metadata": {},
   "outputs": [],
   "source": [
    "roles = {\n",
    "    'human': 'user',\n",
    "    'gpt': 'assistant'\n",
    "}"
   ]
  },
  {
   "cell_type": "code",
   "execution_count": 4,
   "id": "ec752389",
   "metadata": {},
   "outputs": [
    {
     "name": "stderr",
     "output_type": "stream",
     "text": [
      "23240it [00:00, 43904.40it/s]\n",
      "56681it [00:02, 20125.61it/s]\n",
      "76643it [00:02, 38155.83it/s]\n"
     ]
    }
   ],
   "source": [
    "data_en, data_ms = [], []\n",
    "for f in files:\n",
    "    with open(f) as fopen:\n",
    "        for l in tqdm(fopen):\n",
    "            l = json.loads(l)\n",
    "            f = os.path.join('/home/ubuntu/translated-LLaVA-Instruct-150K/filtered-llava-images', l['image'])\n",
    "            if not os.path.exists(f):\n",
    "                continue\n",
    "            en, ms = [], []\n",
    "            for no, c in enumerate(l['conversations']):\n",
    "                en_ = c['value'].replace('<imej>','<image>').replace('<img>','<image>').replace('<gambar>','<image>')\n",
    "                ms_ = c['value_ms'].replace('<imej>','<image>').replace('<img>','<image>').replace('<gambar>','<image>')\n",
    "                \n",
    "                if no == 0 and roles[c['from']] == 'user' and ('<image>' not in en_ or '<image>' not in ms_):\n",
    "                    break\n",
    "                    \n",
    "                en.append({\n",
    "                    'role': roles[c['from']],\n",
    "                    'content': en_\n",
    "                })\n",
    "                ms.append({\n",
    "                    'role': roles[c['from']],\n",
    "                    'content': ms_\n",
    "                })\n",
    "            \n",
    "            if len(en):\n",
    "                data_en.append({'filename': [f], 'conversations': en})\n",
    "            if len(ms):\n",
    "                data_ms.append({'filename': [f], 'conversations': ms})"
   ]
  },
  {
   "cell_type": "code",
   "execution_count": 8,
   "id": "0d2cdfd0",
   "metadata": {
    "scrolled": true
   },
   "outputs": [
    {
     "data": {
      "text/plain": [
       "{'filename': ['/home/ubuntu/translated-LLaVA-Instruct-150K/filtered-llava-images/000000532583.jpg'],\n",
       " 'conversations': [{'role': 'user',\n",
       "   'content': '<image>\\nWhat is the primary action happening in the image, and who are the central figures?'},\n",
       "  {'role': 'assistant',\n",
       "   'content': 'The primary action happening in the image is a baseball game in play. The central figures include a batter who just hit the ball and is preparing to run, a catcher, and an umpire. There are also fans in the background watching the game.'},\n",
       "  {'role': 'user', 'content': \"What is the color of the batter's outfit?\"},\n",
       "  {'role': 'assistant',\n",
       "   'content': 'The batter is wearing white pants and a blue shirt.'},\n",
       "  {'role': 'user',\n",
       "   'content': 'Is the baseball player holding a bat or running on the field after hitting the ball?'},\n",
       "  {'role': 'assistant',\n",
       "   'content': 'The baseball player has just hit the ball and is going to run, while still holding the bat.'},\n",
       "  {'role': 'user', 'content': 'What is the role of the umpire in the image?'},\n",
       "  {'role': 'assistant',\n",
       "   'content': 'The umpire plays an essential role in a baseball game by overseeing and enforcing the rules of the game. In the image, the umpire is positioned near the catcher and the batter to make accurate calls during the play, such as determining whether a pitch is a ball or a strike, as well as making rulings on plays at home plate.'},\n",
       "  {'role': 'user',\n",
       "   'content': 'Are the fans actively engaged in watching the baseball game?'},\n",
       "  {'role': 'assistant',\n",
       "   'content': 'Yes, the fans in the image are actively engaged in watching the baseball game as they observe the batter, catcher, and umpire during this moment of play.'}]}"
      ]
     },
     "execution_count": 8,
     "metadata": {},
     "output_type": "execute_result"
    }
   ],
   "source": [
    "data_en[-100000]"
   ]
  },
  {
   "cell_type": "code",
   "execution_count": 9,
   "id": "698e542d",
   "metadata": {},
   "outputs": [
    {
     "data": {
      "text/plain": [
       "{'filename': ['/home/ubuntu/translated-LLaVA-Instruct-150K/filtered-llava-images/000000532583.jpg'],\n",
       " 'conversations': [{'role': 'user',\n",
       "   'content': '<image>\\nApakah tindakan utama yang berlaku dalam imej, dan siapakah tokoh utama?'},\n",
       "  {'role': 'assistant',\n",
       "   'content': 'Tindakan utama yang berlaku dalam imej adalah permainan besbol dalam permainan. Angka-angka utama termasuk pemukul yang baru memukul bola dan sedang bersedia untuk berlari, penangkap dan pengadil. Terdapat juga peminat di latar belakang menonton permainan.'},\n",
       "  {'role': 'user', 'content': 'Apakah warna pakaian adunan?'},\n",
       "  {'role': 'assistant',\n",
       "   'content': 'Pukulan itu memakai seluar putih dan baju biru.'},\n",
       "  {'role': 'user',\n",
       "   'content': 'Adakah pemain besbol memegang kelawar atau berlari di atas padang selepas memukul bola?'},\n",
       "  {'role': 'assistant',\n",
       "   'content': 'Pemain besbol baru saja memukul bola dan akan berlari, sambil masih memegang pemukul.'},\n",
       "  {'role': 'user', 'content': 'Apakah peranan pengadil dalam imej?'},\n",
       "  {'role': 'assistant',\n",
       "   'content': 'Umpire memainkan peranan penting dalam permainan besbol dengan menyelia dan menguatkuasakan peraturan permainan. Dalam imej, pengadil diletakkan berhampiran penangkap dan pemukul untuk membuat panggilan tepat semasa permainan, seperti menentukan sama ada padang adalah bola atau mogok, serta membuat keputusan mengenai permainan di pinggan rumah.'},\n",
       "  {'role': 'user',\n",
       "   'content': 'Adakah peminat terlibat secara aktif dalam menonton permainan besbol?'},\n",
       "  {'role': 'assistant',\n",
       "   'content': 'Ya, peminat dalam imej sedang aktif menonton permainan besbol sambil memerhatikan pemukul, penangkap dan pengadil semasa permainan ini.'}]}"
      ]
     },
     "execution_count": 9,
     "metadata": {},
     "output_type": "execute_result"
    }
   ],
   "source": [
    "data_ms[-100000]"
   ]
  },
  {
   "cell_type": "code",
   "execution_count": 10,
   "id": "6c16ffe2",
   "metadata": {},
   "outputs": [
    {
     "data": {
      "text/plain": [
       "{'image>'}"
      ]
     },
     "execution_count": 10,
     "metadata": {},
     "output_type": "execute_result"
    }
   ],
   "source": [
    "a = set()\n",
    "for l in data_en + data_ms:\n",
    "    for i in range(len(l['conversations'])):\n",
    "        splitted = l['conversations'][i]['content'].split('<')\n",
    "        if len(splitted) > 1:\n",
    "            a.add(splitted[1].strip().split('\\n')[0])\n",
    "a"
   ]
  },
  {
   "cell_type": "code",
   "execution_count": 11,
   "id": "fa77f5a9",
   "metadata": {},
   "outputs": [
    {
     "data": {
      "text/plain": [
       "(148657, 148657)"
      ]
     },
     "execution_count": 11,
     "metadata": {},
     "output_type": "execute_result"
    }
   ],
   "source": [
    "len(data_en), len(data_ms)"
   ]
  },
  {
   "cell_type": "code",
   "execution_count": 12,
   "id": "97b9d008",
   "metadata": {},
   "outputs": [
    {
     "data": {
      "text/plain": [
       "{'filename': ['/home/ubuntu/translated-LLaVA-Instruct-150K/filtered-llava-images/000000281721.jpg'],\n",
       " 'conversations': [{'role': 'user',\n",
       "   'content': 'Terangkan imej berikut.\\n<image>'},\n",
       "  {'role': 'assistant',\n",
       "   'content': 'Imej itu memaparkan jalan bandar yang sibuk dengan kereta yang memandu di jalan raya dan pejalan kaki berjalan di sepanjang kaki lima. Pelbagai kenderaan melalui lampu hijau di persimpangan, bergerak ke kedua-dua arah. Sesetengah kereta lebih dekat dengan kamera, manakala yang lain boleh dilihat lebih jauh di jalan.\\n\\nTerdapat beberapa pejalan kaki yang kelihatan berhampiran bahagian kiri imej, mungkin menavigasi jalan mereka melalui bandar. Pelbagai lampu isyarat diletakkan di seluruh tempat kejadian, memastikan aliran trafik yang selamat untuk kedua-dua kenderaan dan pejalan kaki. Suasana menunjukkan persekitaran bandar yang sibuk dan meriah.'}]}"
      ]
     },
     "execution_count": 12,
     "metadata": {},
     "output_type": "execute_result"
    }
   ],
   "source": [
    "data_ms[2]"
   ]
  },
  {
   "cell_type": "code",
   "execution_count": null,
   "id": "23d03782",
   "metadata": {},
   "outputs": [],
   "source": [
    "with open('prepared-llava-en.jsonl', 'w') as fopen:\n",
    "    for d in data_en:\n",
    "        fopen.write(f'{json.dumps(d)}\\n')"
   ]
  },
  {
   "cell_type": "code",
   "execution_count": null,
   "id": "d345c9b5",
   "metadata": {},
   "outputs": [],
   "source": [
    "with open('prepared-llava-ms.jsonl', 'w') as fopen:\n",
    "    for d in data_ms:\n",
    "        fopen.write(f'{json.dumps(d)}\\n')"
   ]
  }
 ],
 "metadata": {
  "kernelspec": {
   "display_name": "Python 3 (ipykernel)",
   "language": "python",
   "name": "python3"
  },
  "language_info": {
   "codemirror_mode": {
    "name": "ipython",
    "version": 3
   },
   "file_extension": ".py",
   "mimetype": "text/x-python",
   "name": "python",
   "nbconvert_exporter": "python",
   "pygments_lexer": "ipython3",
   "version": "3.10.12"
  }
 },
 "nbformat": 4,
 "nbformat_minor": 5
}
