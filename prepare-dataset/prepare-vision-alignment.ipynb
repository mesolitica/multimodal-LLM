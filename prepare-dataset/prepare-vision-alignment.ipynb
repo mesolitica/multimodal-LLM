{
 "cells": [
  {
   "cell_type": "code",
   "execution_count": 1,
   "id": "1b5885cc",
   "metadata": {},
   "outputs": [],
   "source": [
    "from streaming.base.format.mds.encodings import Encoding, _encodings\n",
    "from streaming import MDSWriter, LocalDataset\n",
    "from tqdm import tqdm\n",
    "from typing import List\n",
    "import torch\n",
    "import json\n",
    "\n",
    "class ListOfDict(Encoding):\n",
    "    def encode(self, obj: List[dict]) -> bytes:\n",
    "        # Convert the list of dictionaries to a JSON-encoded string\n",
    "        json_str = json.dumps(obj)\n",
    "        return json_str.encode('utf-8')\n",
    "\n",
    "    def decode(self, data: bytes) -> List[dict]:\n",
    "\n",
    "        # Decode the JSON-encoded string back to a list of dictionaries\n",
    "        json_str = data.decode('utf-8')\n",
    "        return json.loads(json_str)\n",
    "\n",
    "# Register the custom encoding for 'list_of_dict'\n",
    "_encodings['list_of_dict'] = ListOfDict"
   ]
  },
  {
   "cell_type": "code",
   "execution_count": 5,
   "id": "b534312b",
   "metadata": {},
   "outputs": [],
   "source": [
    "# !wget https://huggingface.co/datasets/mesolitica/translated-LLaVA-Pretrain/resolve/main/blip_laion_cc_sbu_558k.translated.jsonl"
   ]
  },
  {
   "cell_type": "code",
   "execution_count": 9,
   "id": "64bbcc7d",
   "metadata": {},
   "outputs": [],
   "source": [
    "import json\n",
    "import os"
   ]
  },
  {
   "cell_type": "code",
   "execution_count": 4,
   "id": "094e5838",
   "metadata": {},
   "outputs": [],
   "source": [
    "roles = {\n",
    "    'human': 'user',\n",
    "    'gpt': 'assistant'\n",
    "}"
   ]
  },
  {
   "cell_type": "code",
   "execution_count": 16,
   "id": "1c9fd1e7",
   "metadata": {},
   "outputs": [
    {
     "name": "stderr",
     "output_type": "stream",
     "text": [
      "558128it [00:08, 69253.83it/s]\n"
     ]
    }
   ],
   "source": [
    "data_en, data_ms = [], []\n",
    "with open('blip_laion_cc_sbu_558k.translated.jsonl') as fopen:\n",
    "    for l in tqdm(fopen):\n",
    "        l = json.loads(l)\n",
    "        f = os.path.join('/home/ubuntu/filtered-blip-images', l['image'])\n",
    "        if not os.path.exists(f):\n",
    "            continue\n",
    "        en, ms = [], []\n",
    "        for c in l['conversations']:\n",
    "            en_ = c['value'].replace('<imej>','<image>').replace('<img>','<image>').replace('<gambar>','<image>')\n",
    "            ms_ = c['value_ms'].replace('<imej>','<image>').replace('<img>','<image>').replace('<gambar>','<image>')\n",
    "            en.append({\n",
    "                'role': roles[c['from']],\n",
    "                'content': en_\n",
    "            })\n",
    "            ms.append({\n",
    "                'role': roles[c['from']],\n",
    "                'content': ms_\n",
    "            })\n",
    "        \n",
    "        data_en.append({'filename': [f], 'conversations': en})\n",
    "        data_ms.append({'filename': [f], 'conversations': ms})"
   ]
  },
  {
   "cell_type": "code",
   "execution_count": 17,
   "id": "da40675f",
   "metadata": {},
   "outputs": [
    {
     "data": {
      "text/plain": [
       "(238135, 238135)"
      ]
     },
     "execution_count": 17,
     "metadata": {},
     "output_type": "execute_result"
    }
   ],
   "source": [
    "len(data_en), len(data_ms)"
   ]
  },
  {
   "cell_type": "code",
   "execution_count": 19,
   "id": "18d8fbb2",
   "metadata": {},
   "outputs": [],
   "source": [
    "columns = {\n",
    "    'conversations': 'list_of_dict',\n",
    "    'filename': 'list_of_dict'\n",
    "}\n",
    "\n",
    "hashes = 'sha1', 'xxh64'"
   ]
  },
  {
   "cell_type": "code",
   "execution_count": 20,
   "id": "a5b19a61",
   "metadata": {},
   "outputs": [],
   "source": [
    "!rm -rf mosaic-vision"
   ]
  },
  {
   "cell_type": "code",
   "execution_count": 21,
   "id": "cfa96b42",
   "metadata": {},
   "outputs": [],
   "source": [
    "data = data_en + data_ms"
   ]
  },
  {
   "cell_type": "code",
   "execution_count": 22,
   "id": "c09d528c",
   "metadata": {},
   "outputs": [
    {
     "name": "stderr",
     "output_type": "stream",
     "text": [
      "100%|██████████| 476270/476270 [00:05<00:00, 82383.25it/s]\n"
     ]
    }
   ],
   "source": [
    "with MDSWriter(out='mosaic-vision', columns=columns, compression=None, hashes=hashes) as out:\n",
    "    for l in tqdm(data):\n",
    "        for i in range(len(l['conversations'])):\n",
    "            l['conversations'][i]['content'] = l['conversations'][i]['content'].replace('\\n<image>', ' <image>').replace('<image>\\n', '<image>').replace('\\n<audio>', ' <audio>').replace('<audio>\\n', '<audio>').strip()\n",
    "            l['conversations'][i]['content'] = l['conversations'][i]['content'].replace('<image>', '<image> </image>').replace('<audio>', '<audio> </audio>')\n",
    "        out.write(l)"
   ]
  }
 ],
 "metadata": {
  "kernelspec": {
   "display_name": "Python 3 (ipykernel)",
   "language": "python",
   "name": "python3"
  },
  "language_info": {
   "codemirror_mode": {
    "name": "ipython",
    "version": 3
   },
   "file_extension": ".py",
   "mimetype": "text/x-python",
   "name": "python",
   "nbconvert_exporter": "python",
   "pygments_lexer": "ipython3",
   "version": "3.10.12"
  }
 },
 "nbformat": 4,
 "nbformat_minor": 5
}
