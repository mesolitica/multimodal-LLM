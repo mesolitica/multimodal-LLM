{
 "cells": [
  {
   "cell_type": "code",
   "execution_count": 1,
   "id": "2a37b45e",
   "metadata": {},
   "outputs": [],
   "source": [
    "import json\n",
    "import os"
   ]
  },
  {
   "cell_type": "code",
   "execution_count": 2,
   "id": "b60e6369",
   "metadata": {},
   "outputs": [],
   "source": [
    "# !wget https://huggingface.co/datasets/mesolitica/synthetic-multiturn-multimodal/resolve/main/synthetic-multi-audio-relationship.jsonl\n",
    "# !wget https://huggingface.co/datasets/mesolitica/synthetic-multiturn-multimodal/resolve/main/synthetic-multi-images-multi-audio-relationship.jsonl\n",
    "# !wget https://huggingface.co/datasets/mesolitica/synthetic-multiturn-multimodal/resolve/main/synthetic-multi-images-relationship.jsonl"
   ]
  },
  {
   "cell_type": "code",
   "execution_count": 3,
   "id": "b50d7de0",
   "metadata": {},
   "outputs": [],
   "source": [
    "en, ms = [], []\n",
    "with open('synthetic-multi-audio-relationship.jsonl') as fopen:\n",
    "    for l in fopen:\n",
    "        l = json.loads(l)\n",
    "        filename = [os.path.join('/home/ubuntu/malaysian-youtube-audio-instructions', f).replace('/output-audio', '/filter-audio') for f in l['filename']]\n",
    "        en.append({\n",
    "            'filename': filename,\n",
    "            'conversations': [\n",
    "                {'role': 'user', 'content': '<audio> <audio> ' + l['instruction']},\n",
    "                {'role': 'assistant', 'content': l['answer']},\n",
    "            ]\n",
    "        })\n",
    "        ms.append({\n",
    "            'filename': filename,\n",
    "            'conversations': [\n",
    "                {'role': 'user', 'content': '<audio> <audio> ' + l['instruction_ms']},\n",
    "                {'role': 'assistant', 'content': l['answer_ms']},\n",
    "            ]\n",
    "        })"
   ]
  },
  {
   "cell_type": "code",
   "execution_count": 4,
   "id": "af067a96",
   "metadata": {},
   "outputs": [],
   "source": [
    "with open('synthetic-multi-images-multi-audio-relationship.jsonl') as fopen:\n",
    "    for l in fopen:\n",
    "        l = json.loads(l)\n",
    "        filename = []\n",
    "        for f in l['filename']:\n",
    "            if f.endswith('.mp3'):\n",
    "                f = os.path.join('/home/ubuntu/malaysian-youtube-audio-instructions', f).replace('/output-audio', '/filter-audio')\n",
    "            else:\n",
    "                f = os.path.join('/home/ubuntu/filtered-blip-images', f)\n",
    "            filename.append(f)\n",
    "                \n",
    "        en.append({\n",
    "            'filename': filename,\n",
    "            'conversations': [\n",
    "                {'role': 'user', 'content': '<audio> <image> ' + l['instruction']},\n",
    "                {'role': 'assistant', 'content': l['answer']},\n",
    "            ]\n",
    "        })\n",
    "        ms.append({\n",
    "            'filename': filename,\n",
    "            'conversations': [\n",
    "                {'role': 'user', 'content': '<audio> <image> ' + l['instruction_ms']},\n",
    "                {'role': 'assistant', 'content': l['answer_ms']},\n",
    "            ]\n",
    "        })"
   ]
  },
  {
   "cell_type": "code",
   "execution_count": 5,
   "id": "832a406b",
   "metadata": {},
   "outputs": [],
   "source": [
    "with open('synthetic-multi-images-relationship.jsonl') as fopen:\n",
    "    for l in fopen:\n",
    "        l = json.loads(l)\n",
    "        filename = []\n",
    "        for f in l['filename']:\n",
    "            f = os.path.join('/home/ubuntu/filtered-blip-images', f)\n",
    "            filename.append(f)\n",
    "                \n",
    "        en.append({\n",
    "            'filename': filename,\n",
    "            'conversations': [\n",
    "                {'role': 'user', 'content': '<image> <image> ' + l['instruction']},\n",
    "                {'role': 'assistant', 'content': l['answer']},\n",
    "            ]\n",
    "        })\n",
    "        ms.append({\n",
    "            'filename': filename,\n",
    "            'conversations': [\n",
    "                {'role': 'user', 'content': '<image> <image> ' + l['instruction_ms']},\n",
    "                {'role': 'assistant', 'content': l['answer_ms']},\n",
    "            ]\n",
    "        })"
   ]
  },
  {
   "cell_type": "code",
   "execution_count": 6,
   "id": "f7db3efa",
   "metadata": {},
   "outputs": [
    {
     "data": {
      "text/plain": [
       "(184500, 184500)"
      ]
     },
     "execution_count": 6,
     "metadata": {},
     "output_type": "execute_result"
    }
   ],
   "source": [
    "len(en), len(ms)"
   ]
  },
  {
   "cell_type": "code",
   "execution_count": 7,
   "id": "5d4ddd30",
   "metadata": {},
   "outputs": [
    {
     "data": {
      "text/plain": [
       "({'filename': ['/home/ubuntu/malaysian-youtube-audio-instructions/filter-audio/3-2080-38.mp3',\n",
       "   '/home/ubuntu/malaysian-youtube-audio-instructions/filter-audio/0-2823-0.mp3'],\n",
       "  'conversations': [{'role': 'user',\n",
       "    'content': '<audio> <audio> What is related between audio 1 and audio 2'},\n",
       "   {'role': 'assistant',\n",
       "    'content': 'Audio 1 and Audio 2 are unrelated as they discuss different topics. In Audio 1, the speaker is discussing the issue of using handphones while driving and its contribution to accidents. In Audio 2, the speaker is talking about making a cover song for Raya and the challenges they faced in creating the image for the video.'}]},\n",
       " {'filename': ['/home/ubuntu/malaysian-youtube-audio-instructions/filter-audio/3-2080-38.mp3',\n",
       "   '/home/ubuntu/malaysian-youtube-audio-instructions/filter-audio/0-2823-0.mp3'],\n",
       "  'conversations': [{'role': 'user',\n",
       "    'content': '<audio> <audio> Apakah yang berkaitan antara audio 1 dan audio 2'},\n",
       "   {'role': 'assistant',\n",
       "    'content': 'Audio 1 dan Audio 2 tidak berkaitan kerana mereka membincangkan topik yang berbeza. Dalam Audio 1, penceramah membincangkan isu menggunakan fon tangan semasa memandu dan sumbangannya kepada kemalangan. Dalam Audio 2, penceramah bercakap tentang membuat lagu penutup untuk Raya dan cabaran yang mereka hadapi dalam mencipta imej untuk video itu.'}]})"
      ]
     },
     "execution_count": 7,
     "metadata": {},
     "output_type": "execute_result"
    }
   ],
   "source": [
    "en[0], ms[0]"
   ]
  },
  {
   "cell_type": "code",
   "execution_count": 8,
   "id": "b18278db",
   "metadata": {},
   "outputs": [],
   "source": [
    "with open('prepared-relationship-en.jsonl', 'w') as fopen:\n",
    "    for d in en:\n",
    "        fopen.write(f'{json.dumps(d)}\\n')"
   ]
  },
  {
   "cell_type": "code",
   "execution_count": 9,
   "id": "51188514",
   "metadata": {},
   "outputs": [],
   "source": [
    "with open('prepared-relationship-ms.jsonl', 'w') as fopen:\n",
    "    for d in en:\n",
    "        fopen.write(f'{json.dumps(d)}\\n')"
   ]
  },
  {
   "cell_type": "code",
   "execution_count": null,
   "id": "2e99889e",
   "metadata": {},
   "outputs": [],
   "source": []
  }
 ],
 "metadata": {
  "kernelspec": {
   "display_name": "Python 3 (ipykernel)",
   "language": "python",
   "name": "python3"
  },
  "language_info": {
   "codemirror_mode": {
    "name": "ipython",
    "version": 3
   },
   "file_extension": ".py",
   "mimetype": "text/x-python",
   "name": "python",
   "nbconvert_exporter": "python",
   "pygments_lexer": "ipython3",
   "version": "3.10.12"
  }
 },
 "nbformat": 4,
 "nbformat_minor": 5
}
