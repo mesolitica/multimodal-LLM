{
 "cells": [
  {
   "cell_type": "code",
   "execution_count": 1,
   "id": "844decdb",
   "metadata": {},
   "outputs": [],
   "source": [
    "from streaming.base.format.mds.encodings import Encoding, _encodings\n",
    "from streaming import MDSWriter, LocalDataset\n",
    "from tqdm import tqdm\n",
    "from typing import List\n",
    "import torch\n",
    "import json\n",
    "\n",
    "class ListOfDict(Encoding):\n",
    "    def encode(self, obj: List[dict]) -> bytes:\n",
    "        # Convert the list of dictionaries to a JSON-encoded string\n",
    "        json_str = json.dumps(obj)\n",
    "        return json_str.encode('utf-8')\n",
    "\n",
    "    def decode(self, data: bytes) -> List[dict]:\n",
    "\n",
    "        # Decode the JSON-encoded string back to a list of dictionaries\n",
    "        json_str = data.decode('utf-8')\n",
    "        return json.loads(json_str)\n",
    "\n",
    "# Register the custom encoding for 'list_of_dict'\n",
    "_encodings['list_of_dict'] = ListOfDict"
   ]
  },
  {
   "cell_type": "code",
   "execution_count": 2,
   "id": "ed42d064",
   "metadata": {},
   "outputs": [
    {
     "data": {
      "text/plain": [
       "['prepared-llava-en.jsonl',\n",
       " 'prepared-llava-ms.jsonl',\n",
       " 'prepared-combine-ms.jsonl',\n",
       " 'prepared-combine-en.jsonl',\n",
       " 'prepared-relationship-en.jsonl',\n",
       " 'prepared-relationship-ms.jsonl',\n",
       " 'prepared-malay.jsonl']"
      ]
     },
     "execution_count": 2,
     "metadata": {},
     "output_type": "execute_result"
    }
   ],
   "source": [
    "from glob import glob\n",
    "\n",
    "files = glob('prepared-llava*.jsonl')\n",
    "files.extend(glob('prepared-combine*.jsonl'))\n",
    "files.extend(glob('prepared-relationship*.jsonl'))\n",
    "files.extend(glob('prepared-malay*'))\n",
    "files"
   ]
  },
  {
   "cell_type": "code",
   "execution_count": 3,
   "id": "a7e3c185",
   "metadata": {},
   "outputs": [],
   "source": [
    "columns = {\n",
    "    'conversations': 'list_of_dict',\n",
    "    'filename': 'list_of_dict'\n",
    "}\n",
    "\n",
    "hashes = 'sha1', 'xxh64'"
   ]
  },
  {
   "cell_type": "code",
   "execution_count": 4,
   "id": "9f5f7216",
   "metadata": {},
   "outputs": [],
   "source": [
    "!rm -rf mosaic-multimodal-vision"
   ]
  },
  {
   "cell_type": "code",
   "execution_count": 5,
   "id": "05b8e4f5",
   "metadata": {},
   "outputs": [
    {
     "name": "stderr",
     "output_type": "stream",
     "text": [
      "148657it [00:05, 29286.02it/s]\n",
      "148657it [00:05, 26959.38it/s]\n",
      "20000it [00:01, 14236.31it/s]\n",
      "20000it [00:01, 14740.18it/s]\n",
      "100000it [00:02, 44768.93it/s]\n",
      "100000it [00:02, 43693.78it/s]\n",
      "3238it [00:00, 44624.21it/s]\n"
     ]
    }
   ],
   "source": [
    "with MDSWriter(out='mosaic-multimodal-vision', columns=columns, compression=None, hashes=hashes) as out:\n",
    "    for f in files:\n",
    "        with open(f) as fopen:\n",
    "            for l in tqdm(fopen):\n",
    "                try:\n",
    "                    l = json.loads(l)\n",
    "                    rejected = False\n",
    "                    for i in range(len(l['filename'])):\n",
    "                        l['filename'][i] = l['filename'][i].replace('/output-audio', '/filter-audio')\n",
    "                    for i in range(len(l['conversations'])):\n",
    "                        l['conversations'][i]['content'] = l['conversations'][i]['content'].replace('\\n<image>', ' <image>').replace('<image>\\n', '<image> ').replace('\\n<audio>', ' <audio>').replace('<audio>\\n', '<audio> ').strip()\n",
    "                        l['conversations'][i]['content'] = l['conversations'][i]['content'].replace('<image>', '<image> </image>').replace('<audio>', '<audio> </audio>')\n",
    "                        if i == 0 and l['conversations'][i]['role'] == 'user' and '<image> </image>' not in l['conversations'][i]['content']:\n",
    "                            print(l)\n",
    "                            rejected = True\n",
    "                            break\n",
    "                    if rejected:\n",
    "                        continue\n",
    "                    out.write(l)\n",
    "                except Exception as e:\n",
    "                    print(l, e)"
   ]
  },
  {
   "cell_type": "code",
   "execution_count": 6,
   "id": "442b23a2",
   "metadata": {},
   "outputs": [
    {
     "data": {
      "text/plain": [
       "540552"
      ]
     },
     "execution_count": 6,
     "metadata": {},
     "output_type": "execute_result"
    }
   ],
   "source": [
    "dataset = LocalDataset('mosaic-multimodal-vision')\n",
    "len(dataset)"
   ]
  },
  {
   "cell_type": "code",
   "execution_count": 10,
   "id": "aa925858",
   "metadata": {},
   "outputs": [
    {
     "data": {
      "text/plain": [
       "{'conversations': [{'role': 'user',\n",
       "   'content': '<image> </image>Ini makanan apa?'},\n",
       "  {'role': 'assistant',\n",
       "   'content': 'Ini ialah Waffle Rangup & Lembut Gebu, Kalah Kedai Punya!.'},\n",
       "  {'role': 'user', 'content': 'apakah bahan yang diperlukan untuk masak?'},\n",
       "  {'role': 'assistant',\n",
       "   'content': '1. Bahan-bahan waffle:\\n2. 2 cawan susu krim penuh\\n3. 2 sudu besar jus lemon\\n4. 2/3 cawan minyak jagung (boleh kurangkan kpd 1/2 cawan jika suka)\\n5. 2 biji telur\\n6. 2 1/4 cawan tepung gandum\\n7. 1/2 cawan tepung jagung\\n8. 2 sudu besar gula halus\\n9. 1 sudu kecil serbuk penaik\\n10. 1/2 sudu kecil soda bikarbonat\\n11. 1/2 sudu kecil garam\\n12. 1 1/2 sudu kecil esen vanila\\n13. Bahan-bahan sos coklat:\\n14. 1 cawan kepingan coklat\\n15. 1 sudu besar mentega\\n16. 1/4 cawan susu krim penuh'},\n",
       "  {'role': 'user', 'content': 'macam mana nak masak?'},\n",
       "  {'role': 'assistant',\n",
       "   'content': '1. Cara-cara untuk adunan waffle:\\n2. Perah dan ambil jus lemon. Masukkan jus lemon dan susu full cream kedalam mangkuk. Kacau sebati dan ketepikan.\\n3. Dalam mangkuk yang berasingan, masukan tepung gandum, tepung jagung, garam, serbuk penaik, baking soda dan gula halus. Gaul sebati kesemua bahan.\\n4. Pecahkan telur dan asingkan kuning dan putih telur. Pukul putih telur sampai kembang.\\n5. Masukkan kuning telur, esen vanilla dan minyak jagung (boleh ganti minyak masak) kedalam adunan susu (buttermilk).\\n6. Masukkan adunan basah ke dalam adunan kering. Kacau sebati (jangan terlebih kacau).\\n7. Masukkan adunan telur putih dan kacau sebati perlahan-lahan.\\n8. Cara-cara untuk sos coklat:\\n9. Cairkan kepingan coklat, susu full cream dan butter.\\n10. Keluarkan dari microwave dan kacau sebati.\\n11. Cara-cara untuk masak waffle:\\n12. Gris waffle maker plate dengan minyak.\\n13. Masukkan adunan waffle dan masak anggaran 4 minit 30 saat.\\n14. Hidangkan bersama sos coklat.'},\n",
       "  {'role': 'user', 'content': 'apa tips bila nak masak ni?'},\n",
       "  {'role': 'assistant',\n",
       "   'content': '1. Untuk tahu putih telur telah cukup kembang, angkat sikit (dengan whisk atau sudu), kalau jadi bertanduk kiranya dah kembang.\\n2. Jangan terlebih kacau adunan waffle, takut terhasil gluten. Gluten yang akan menyebabkan waffle keras.\\n3. Cairkan coklat sekadar lembut tak perlu mendidih, kalau terlebih panas takut coklat rosak.\\n4. Kalau nak garing tahan lama, rehatkan waffle atas cooling rack.'}],\n",
       " 'filename': ['pic/677.jpg']}"
      ]
     },
     "execution_count": 10,
     "metadata": {},
     "output_type": "execute_result"
    }
   ],
   "source": [
    "dataset[-3]"
   ]
  },
  {
   "cell_type": "code",
   "execution_count": null,
   "id": "c7011677",
   "metadata": {},
   "outputs": [],
   "source": []
  }
 ],
 "metadata": {
  "kernelspec": {
   "display_name": "Python 3 (ipykernel)",
   "language": "python",
   "name": "python3"
  },
  "language_info": {
   "codemirror_mode": {
    "name": "ipython",
    "version": 3
   },
   "file_extension": ".py",
   "mimetype": "text/x-python",
   "name": "python",
   "nbconvert_exporter": "python",
   "pygments_lexer": "ipython3",
   "version": "3.10.12"
  }
 },
 "nbformat": 4,
 "nbformat_minor": 5
}
