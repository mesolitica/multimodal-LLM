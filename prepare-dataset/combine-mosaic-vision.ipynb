{
 "cells": [
  {
   "cell_type": "code",
   "execution_count": 1,
   "id": "844decdb",
   "metadata": {},
   "outputs": [],
   "source": [
    "from streaming.base.format.mds.encodings import Encoding, _encodings\n",
    "from streaming import MDSWriter, LocalDataset\n",
    "from tqdm import tqdm\n",
    "from typing import List\n",
    "import torch\n",
    "import json\n",
    "\n",
    "class ListOfDict(Encoding):\n",
    "    def encode(self, obj: List[dict]) -> bytes:\n",
    "        # Convert the list of dictionaries to a JSON-encoded string\n",
    "        json_str = json.dumps(obj)\n",
    "        return json_str.encode('utf-8')\n",
    "\n",
    "    def decode(self, data: bytes) -> List[dict]:\n",
    "\n",
    "        # Decode the JSON-encoded string back to a list of dictionaries\n",
    "        json_str = data.decode('utf-8')\n",
    "        return json.loads(json_str)\n",
    "\n",
    "# Register the custom encoding for 'list_of_dict'\n",
    "_encodings['list_of_dict'] = ListOfDict"
   ]
  },
  {
   "cell_type": "code",
   "execution_count": 5,
   "id": "ed42d064",
   "metadata": {},
   "outputs": [
    {
     "data": {
      "text/plain": [
       "['prepared-llava-en.jsonl',\n",
       " 'prepared-llava-ms.jsonl',\n",
       " 'prepared-combine-ms.jsonl',\n",
       " 'prepared-combine-en.jsonl']"
      ]
     },
     "execution_count": 5,
     "metadata": {},
     "output_type": "execute_result"
    }
   ],
   "source": [
    "from glob import glob\n",
    "\n",
    "files = glob('prepared-llava*.jsonl')\n",
    "files.extend(glob('prepared-combine*.jsonl'))\n",
    "files"
   ]
  },
  {
   "cell_type": "code",
   "execution_count": 6,
   "id": "a7e3c185",
   "metadata": {},
   "outputs": [],
   "source": [
    "columns = {\n",
    "    'conversations': 'list_of_dict',\n",
    "    'filename': 'list_of_dict'\n",
    "}\n",
    "\n",
    "hashes = 'sha1', 'xxh64'"
   ]
  },
  {
   "cell_type": "code",
   "execution_count": 11,
   "id": "9f5f7216",
   "metadata": {},
   "outputs": [],
   "source": [
    "!rm -rf mosaic-multimodal-vision"
   ]
  },
  {
   "cell_type": "code",
   "execution_count": 12,
   "id": "05b8e4f5",
   "metadata": {},
   "outputs": [
    {
     "name": "stderr",
     "output_type": "stream",
     "text": [
      "156564it [00:05, 28894.29it/s]\n",
      "156564it [00:05, 27681.14it/s]\n",
      "2it [00:00, 16163.02it/s]\n"
     ]
    },
    {
     "name": "stdout",
     "output_type": "stream",
     "text": [
      "{'role': 'user', 'content': 'Provide a brief description of the given image. <image> </image>'} 'filename'\n",
      "{'role': 'assistant', 'content': 'us03498792 figure 1 from a patent drawing of a battery system'} 'filename'\n"
     ]
    },
    {
     "name": "stderr",
     "output_type": "stream",
     "text": [
      "2it [00:00, 6109.69it/s]\n"
     ]
    },
    {
     "name": "stdout",
     "output_type": "stream",
     "text": [
      "{'role': 'user', 'content': 'Provide a brief description of the given image. <image> </image>'} 'filename'\n",
      "{'role': 'assistant', 'content': 'us03498792 figure 1 from a patent drawing of a battery system'} 'filename'\n"
     ]
    }
   ],
   "source": [
    "with MDSWriter(out='mosaic-multimodal-vision', columns=columns, compression=None, hashes=hashes) as out:\n",
    "    for f in files:\n",
    "        with open(f) as fopen:\n",
    "            for l in tqdm(fopen):\n",
    "                try:\n",
    "                    l = json.loads(l)\n",
    "                    for i in range(len(l['filename'])):\n",
    "                        l['filename'][i] = l['filename'][i].replace('/output-audio', '/filter-audio')\n",
    "                    for i in range(len(l['conversations'])):\n",
    "                        l['conversations'][i]['content'] = l['conversations'][i]['content'].replace('\\n<image>', ' <image>').replace('<image>\\n', '<image>').replace('\\n<audio>', ' <audio>').replace('<audio>\\n', '<audio>').strip()\n",
    "                        l['conversations'][i]['content'] = l['conversations'][i]['content'].replace('<image>', '<image> </image>').replace('<audio>', '<audio> </audio>')\n",
    "                    out.write(l)\n",
    "                except Exception as e:\n",
    "                    print(l, e)"
   ]
  },
  {
   "cell_type": "code",
   "execution_count": 13,
   "id": "442b23a2",
   "metadata": {},
   "outputs": [],
   "source": [
    "dataset = LocalDataset('mosaic-multimodal-vision')"
   ]
  },
  {
   "cell_type": "code",
   "execution_count": 14,
   "id": "aa925858",
   "metadata": {},
   "outputs": [
    {
     "data": {
      "text/plain": [
       "{'conversations': [{'role': 'user',\n",
       "   'content': 'What do you see happening in this image? <image> </image>'},\n",
       "  {'role': 'assistant',\n",
       "   'content': 'The scene depicts a lively plaza area with several people walking and enjoying their time. A man is standing in the plaza with his legs crossed, holding a kite in his hand. The kite has multiple sections attached to it, spread out in various directions as if ready for flight.\\n\\nNumerous people are scattered throughout the plaza, walking and interacting with others. Some of these individuals are carrying handbags, and others have backpacks. The image captures the casual, social atmosphere of a bustling plaza on a nice day.'}],\n",
       " 'filename': ['/home/ubuntu/translated-LLaVA-Instruct-150K/filtered-llava-images/000000442786.jpg']}"
      ]
     },
     "execution_count": 14,
     "metadata": {},
     "output_type": "execute_result"
    }
   ],
   "source": [
    "dataset[0]"
   ]
  },
  {
   "cell_type": "code",
   "execution_count": 23,
   "id": "4b1189e6",
   "metadata": {
    "scrolled": true
   },
   "outputs": [
    {
     "data": {
      "application/vnd.jupyter.widget-view+json": {
       "model_id": "f41c5e90bfb3489d802e1fbd8359c031",
       "version_major": 2,
       "version_minor": 0
      },
      "text/plain": [
       "tokenizer_config.json:   0%|          | 0.00/1.42k [00:00<?, ?B/s]"
      ]
     },
     "metadata": {},
     "output_type": "display_data"
    },
    {
     "data": {
      "application/vnd.jupyter.widget-view+json": {
       "model_id": "2f4b3913e7cf445880b68441a9ccd847",
       "version_major": 2,
       "version_minor": 0
      },
      "text/plain": [
       "tokenizer.json:   0%|          | 0.00/1.84M [00:00<?, ?B/s]"
      ]
     },
     "metadata": {},
     "output_type": "display_data"
    },
    {
     "data": {
      "application/vnd.jupyter.widget-view+json": {
       "model_id": "6d6f7e93b5d446509c73d7192c9c8c10",
       "version_major": 2,
       "version_minor": 0
      },
      "text/plain": [
       "special_tokens_map.json:   0%|          | 0.00/552 [00:00<?, ?B/s]"
      ]
     },
     "metadata": {},
     "output_type": "display_data"
    }
   ],
   "source": [
    "from transformers import AutoTokenizer\n",
    "\n",
    "tokenizer = AutoTokenizer.from_pretrained('mesolitica/malaysian-tinyllama-1.1b-16k-instructions-v3')"
   ]
  },
  {
   "cell_type": "code",
   "execution_count": 26,
   "id": "08f43391",
   "metadata": {},
   "outputs": [
    {
     "data": {
      "text/plain": [
       "<bound method PreTrainedTokenizerBase.apply_chat_template of LlamaTokenizerFast(name_or_path='mesolitica/malaysian-tinyllama-1.1b-16k-instructions-v3', vocab_size=32000, model_max_length=1000000000000000019884624838656, is_fast=True, padding_side='right', truncation_side='right', special_tokens={'bos_token': '<s>', 'eos_token': '</s>', 'unk_token': '<unk>', 'pad_token': '<unk>'}, clean_up_tokenization_spaces=False),  added_tokens_decoder={\n",
       "\t0: AddedToken(\"<unk>\", rstrip=False, lstrip=False, single_word=False, normalized=False, special=True),\n",
       "\t1: AddedToken(\"<s>\", rstrip=False, lstrip=False, single_word=False, normalized=False, special=True),\n",
       "\t2: AddedToken(\"</s>\", rstrip=False, lstrip=False, single_word=False, normalized=False, special=True),\n",
       "}>"
      ]
     },
     "execution_count": 26,
     "metadata": {},
     "output_type": "execute_result"
    }
   ],
   "source": [
    "tokenizer.apply_chat_template"
   ]
  },
  {
   "cell_type": "code",
   "execution_count": null,
   "id": "fce9e0d3",
   "metadata": {},
   "outputs": [],
   "source": []
  }
 ],
 "metadata": {
  "kernelspec": {
   "display_name": "Python 3 (ipykernel)",
   "language": "python",
   "name": "python3"
  },
  "language_info": {
   "codemirror_mode": {
    "name": "ipython",
    "version": 3
   },
   "file_extension": ".py",
   "mimetype": "text/x-python",
   "name": "python",
   "nbconvert_exporter": "python",
   "pygments_lexer": "ipython3",
   "version": "3.10.12"
  }
 },
 "nbformat": 4,
 "nbformat_minor": 5
}
