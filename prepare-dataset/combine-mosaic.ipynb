{
 "cells": [
  {
   "cell_type": "code",
   "execution_count": 1,
   "id": "f235972e",
   "metadata": {},
   "outputs": [],
   "source": [
    "from streaming.base.format.mds.encodings import Encoding, _encodings\n",
    "from streaming import MDSWriter, LocalDataset\n",
    "from tqdm import tqdm\n",
    "from typing import List\n",
    "import torch\n",
    "import json\n",
    "\n",
    "class ListOfDict(Encoding):\n",
    "    def encode(self, obj: List[dict]) -> bytes:\n",
    "        # Convert the list of dictionaries to a JSON-encoded string\n",
    "        json_str = json.dumps(obj)\n",
    "        return json_str.encode('utf-8')\n",
    "\n",
    "    def decode(self, data: bytes) -> List[dict]:\n",
    "\n",
    "        # Decode the JSON-encoded string back to a list of dictionaries\n",
    "        json_str = data.decode('utf-8')\n",
    "        return json.loads(json_str)\n",
    "\n",
    "# Register the custom encoding for 'list_of_dict'\n",
    "_encodings['list_of_dict'] = ListOfDict"
   ]
  },
  {
   "cell_type": "code",
   "execution_count": 2,
   "id": "392228d3",
   "metadata": {
    "scrolled": true
   },
   "outputs": [
    {
     "data": {
      "text/plain": [
       "['prepared-combine-ms.jsonl',\n",
       " 'prepared-combine-en.jsonl',\n",
       " 'prepared-llava-en.jsonl',\n",
       " 'prepared-llava-ms.jsonl',\n",
       " 'prepared-audio-en.jsonl',\n",
       " 'prepared-malay.jsonl',\n",
       " 'prepared-audio-ms.jsonl']"
      ]
     },
     "execution_count": 2,
     "metadata": {},
     "output_type": "execute_result"
    }
   ],
   "source": [
    "from glob import glob\n",
    "\n",
    "files = glob('prepared*.jsonl')\n",
    "files"
   ]
  },
  {
   "cell_type": "code",
   "execution_count": 3,
   "id": "902105bc",
   "metadata": {},
   "outputs": [],
   "source": [
    "columns = {\n",
    "    'conversations': 'list_of_dict',\n",
    "    'filename': 'list_of_dict'\n",
    "}\n",
    "\n",
    "hashes = 'sha1', 'xxh64'"
   ]
  },
  {
   "cell_type": "code",
   "execution_count": 8,
   "id": "a888270f",
   "metadata": {},
   "outputs": [],
   "source": [
    "!rm -rf mosaic-multimodal"
   ]
  },
  {
   "cell_type": "code",
   "execution_count": 9,
   "id": "8bf168b0",
   "metadata": {},
   "outputs": [
    {
     "name": "stderr",
     "output_type": "stream",
     "text": [
      "37252it [00:03, 11199.87it/s]\n",
      "37394it [00:03, 11806.65it/s]\n",
      "156564it [00:04, 34165.90it/s]\n",
      "156564it [00:04, 32687.46it/s]\n",
      "44669it [00:02, 21961.96it/s]\n",
      "52393it [00:02, 20767.87it/s]\n",
      "44669it [00:02, 20151.87it/s]\n"
     ]
    }
   ],
   "source": [
    "with MDSWriter(out='mosaic-multimodal', columns=columns, compression=None, hashes=hashes) as out:\n",
    "    for f in files:\n",
    "        with open(f) as fopen:\n",
    "            for l in tqdm(fopen):\n",
    "                l = json.loads(l)\n",
    "                for i in range(len(l['filename'])):\n",
    "                    l['filename'][i] = l['filename'][i].replace('/output-audio', '/filter-audio')\n",
    "                for i in range(len(l['conversations'])):\n",
    "                    l['conversations'][i]['content'] = l['conversations'][i]['content'].replace('\\n<image>', ' <image>').replace('<image>\\n', '<image>').replace('\\n<audio>', ' <audio>').replace('<audio>\\n', '<audio>').strip()\n",
    "                    l['conversations'][i]['content'] = l['conversations'][i]['content'].replace('<image>', '<image> </image>').replace('<audio>', '<audio> </audio>')\n",
    "                out.write(l)"
   ]
  },
  {
   "cell_type": "code",
   "execution_count": 10,
   "id": "b853e0dd",
   "metadata": {},
   "outputs": [
    {
     "data": {
      "text/plain": [
       "[{'role': 'user',\n",
       "  'content': '<audio> </audio>Bagaimanakah kejelasan suara penyanyi berbanding bunyi bes dalam audio?'},\n",
       " {'role': 'assistant',\n",
       "  'content': 'Kejernihan suara penyanyi lebih menyerlah berbanding bunyi bes dalam audio. Walau bagaimanapun, bunyi bass masih kuat dan berkualiti, tetapi vokalnya lebih menyerlah. Kualiti audio ini termasuk dalam kategori yang sangat baik, bukan purata atau di bawah purata. Oleh itu, walaupun saya katakan bass lemah, ia masih lebih kuat daripada pembesar suara biasa yang biasa kita miliki.'},\n",
       " {'role': 'user',\n",
       "  'content': 'Bagaimanakah anda menerangkan kualiti audio jika suara penyanyi dan bunyi bes kedua-duanya jelas dan seimbang?'},\n",
       " {'role': 'assistant',\n",
       "  'content': 'Jika suara penyanyi dan bunyi bes kedua-duanya jelas dan seimbang, saya akan menggambarkan kualiti audio sebagai sangat baik. Dalam kes ini, vokal mahupun bass tidak mengatasi yang lain; sebaliknya, mereka saling melengkapi dan mencipta bunyi yang kaya dan penuh. Keseimbangan ini penting untuk pengalaman mendengar berkualiti tinggi, kerana ia membolehkan pendengar menghargai semua elemen audio, daripada nota bes rendah hingga vokal tinggi. Secara keseluruhannya, audio dengan vokal dan bes yang jelas dan seimbang adalah tanda runut audio yang dihasilkan dengan baik dan bercampur dengan baik.'},\n",
       " {'role': 'user',\n",
       "  'content': 'Apakah beberapa faktor yang menyumbang kepada mencapai kualiti audio yang jelas dan seimbang?'},\n",
       " {'role': 'assistant',\n",
       "  'content': 'Mencapai kualiti audio yang jelas dan seimbang melibatkan beberapa faktor, termasuk:\\n\\n1. Rakaman Bunyi: Kualiti rakaman bunyi asal memainkan peranan penting dalam kualiti audio akhir. Mikrofon, praamp dan peralatan rakaman berkualiti tinggi boleh membantu menangkap audio yang jelas dan terperinci.\\n2. Penyuntingan Bunyi: Selepas rakaman, penyuntingan bunyi diperlukan untuk mengeluarkan sebarang bunyi latar belakang, meningkatkan kejelasan vokal dan instrumen, dan melaraskan tahap setiap trek. Proses ini boleh membantu memastikan setiap elemen audio adalah seimbang dan jelas.\\n3. Mencampurkan: Mencampur ialah proses menggabungkan semua trek audio individu ke dalam satu stereo atau campuran bunyi sekeliling. Campuran yang baik mengimbangi tahap setiap trek, memastikan tiada unsur tunggal mengatasi yang lain.\\n4. Menguasai: Menguasai ialah peringkat akhir pengeluaran audio, di mana audio campuran disediakan untuk diedarkan. Proses ini melibatkan pelarasan tahap keseluruhan, penyamaan dan pemampatan audio untuk memastikan ia berbunyi baik pada semua sistem main balik.\\n5. Peralatan: Peralatan audio berkualiti tinggi, termasuk pembesar suara dan fon kepala, boleh memberi kesan ketara pada kualiti audio akhir. Peralatan yang direka bentuk dengan baik dan dibuat dengan baik boleh membantu mengeluarkan semula bunyi dengan tepat, membolehkan pendengar mendengar semua butiran dan nuansa audio.\\n6. Akustik: Akustik persekitaran rakaman dan pendengaran juga boleh memberi kesan kepada kualiti audio akhir. Ruang rakaman yang direka bentuk dengan baik dengan rawatan akustik yang betul boleh membantu menangkap audio yang jelas dan terperinci, manakala ruang mendengar yang direka bentuk dengan baik boleh membantu mengeluarkan semula bunyi dengan tepat.\\n\\nDengan mempertimbangkan semua faktor ini, adalah mungkin untuk mencapai kualiti audio yang jelas dan seimbang yang menyeronokkan dan menarik untuk didengari.'}]"
      ]
     },
     "execution_count": 10,
     "metadata": {},
     "output_type": "execute_result"
    }
   ],
   "source": [
    "l['conversations']"
   ]
  },
  {
   "cell_type": "code",
   "execution_count": 7,
   "id": "ede49369",
   "metadata": {},
   "outputs": [
    {
     "data": {
      "text/plain": [
       "'prepared-combine-ms.jsonl'"
      ]
     },
     "execution_count": 7,
     "metadata": {},
     "output_type": "execute_result"
    }
   ],
   "source": [
    "files[0]"
   ]
  }
 ],
 "metadata": {
  "kernelspec": {
   "display_name": "Python 3 (ipykernel)",
   "language": "python",
   "name": "python3"
  },
  "language_info": {
   "codemirror_mode": {
    "name": "ipython",
    "version": 3
   },
   "file_extension": ".py",
   "mimetype": "text/x-python",
   "name": "python",
   "nbconvert_exporter": "python",
   "pygments_lexer": "ipython3",
   "version": "3.10.12"
  }
 },
 "nbformat": 4,
 "nbformat_minor": 5
}
