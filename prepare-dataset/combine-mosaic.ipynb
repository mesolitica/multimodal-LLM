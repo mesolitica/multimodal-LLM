{
 "cells": [
  {
   "cell_type": "code",
   "execution_count": 1,
   "id": "f235972e",
   "metadata": {},
   "outputs": [],
   "source": [
    "from streaming.base.format.mds.encodings import Encoding, _encodings\n",
    "from streaming import MDSWriter, LocalDataset\n",
    "from tqdm import tqdm\n",
    "from typing import List\n",
    "import torch\n",
    "import json\n",
    "\n",
    "class ListOfDict(Encoding):\n",
    "    def encode(self, obj: List[dict]) -> bytes:\n",
    "        # Convert the list of dictionaries to a JSON-encoded string\n",
    "        json_str = json.dumps(obj)\n",
    "        return json_str.encode('utf-8')\n",
    "\n",
    "    def decode(self, data: bytes) -> List[dict]:\n",
    "\n",
    "        # Decode the JSON-encoded string back to a list of dictionaries\n",
    "        json_str = data.decode('utf-8')\n",
    "        return json.loads(json_str)\n",
    "\n",
    "# Register the custom encoding for 'list_of_dict'\n",
    "_encodings['list_of_dict'] = ListOfDict"
   ]
  },
  {
   "cell_type": "code",
   "execution_count": 2,
   "id": "392228d3",
   "metadata": {
    "scrolled": true
   },
   "outputs": [
    {
     "data": {
      "text/plain": [
       "['prepared-combine-ms.jsonl',\n",
       " 'prepared-combine-en.jsonl',\n",
       " 'prepared-llava-en.jsonl',\n",
       " 'prepared-llava-ms.jsonl',\n",
       " 'prepared-audio-en.jsonl',\n",
       " 'prepared-malay.jsonl',\n",
       " 'prepared-audio-ms.jsonl']"
      ]
     },
     "execution_count": 2,
     "metadata": {},
     "output_type": "execute_result"
    }
   ],
   "source": [
    "from glob import glob\n",
    "\n",
    "files = glob('prepared*.jsonl')\n",
    "files"
   ]
  },
  {
   "cell_type": "code",
   "execution_count": 3,
   "id": "902105bc",
   "metadata": {},
   "outputs": [],
   "source": [
    "columns = {\n",
    "    'conversations': 'list_of_dict',\n",
    "    'filename': 'list_of_dict'\n",
    "}\n",
    "\n",
    "hashes = 'sha1', 'xxh64'"
   ]
  },
  {
   "cell_type": "code",
   "execution_count": 11,
   "id": "a888270f",
   "metadata": {},
   "outputs": [],
   "source": [
    "!rm -rf mosaic-multimodal"
   ]
  },
  {
   "cell_type": "code",
   "execution_count": 12,
   "id": "8bf168b0",
   "metadata": {},
   "outputs": [
    {
     "name": "stderr",
     "output_type": "stream",
     "text": [
      "44669it [00:01, 28401.17it/s]\n",
      "156564it [00:03, 48070.91it/s]\n"
     ]
    }
   ],
   "source": [
    "with MDSWriter(out='mosaic-multimodal-audio', columns=columns, compression=None, hashes=hashes) as out:\n",
    "    for f in files:\n",
    "        with open(f) as fopen:\n",
    "            for l in tqdm(fopen):\n",
    "                l = json.loads(l)\n",
    "                for i in range(len(l['filename'])):\n",
    "                    l['filename'][i] = l['filename'][i].replace('/output-audio', '/filter-audio')\n",
    "                out.write(l)"
   ]
  },
  {
   "cell_type": "code",
   "execution_count": 13,
   "id": "88ee4867",
   "metadata": {},
   "outputs": [
    {
     "name": "stdout",
     "output_type": "stream",
     "text": [
      "{\"filename\": [\"/home/ubuntu/filtered-llava-images/000000033471.jpg\"], \"conversations\": [{\"role\": \"user\", \"content\": \"What are the colors of the bus in the image?\\n<image>\"}, {\"role\": \"assistant\", \"content\": \"The bus in the image is white and red.\"}, {\"role\": \"user\", \"content\": \"What feature can be seen on the back of the bus?\"}, {\"role\": \"assistant\", \"content\": \"The back of the bus features an advertisement.\"}, {\"role\": \"user\", \"content\": \"Is the bus driving down the street or pulled off to the side?\"}, {\"role\": \"assistant\", \"content\": \"The bus is driving down the street, which is crowded with people and other vehicles.\"}]}\r\n"
     ]
    }
   ],
   "source": [
    "!head -n 1 prepared-llava-en.jsonl"
   ]
  },
  {
   "cell_type": "code",
   "execution_count": null,
   "id": "cc6126e5",
   "metadata": {},
   "outputs": [],
   "source": []
  }
 ],
 "metadata": {
  "kernelspec": {
   "display_name": "Python 3 (ipykernel)",
   "language": "python",
   "name": "python3"
  },
  "language_info": {
   "codemirror_mode": {
    "name": "ipython",
    "version": 3
   },
   "file_extension": ".py",
   "mimetype": "text/x-python",
   "name": "python",
   "nbconvert_exporter": "python",
   "pygments_lexer": "ipython3",
   "version": "3.10.12"
  }
 },
 "nbformat": 4,
 "nbformat_minor": 5
}
