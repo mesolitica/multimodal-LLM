{
 "cells": [
  {
   "cell_type": "code",
   "execution_count": 3,
   "id": "844decdb",
   "metadata": {},
   "outputs": [],
   "source": [
    "from streaming.base.format.mds.encodings import Encoding, _encodings\n",
    "from streaming import MDSWriter, LocalDataset\n",
    "from tqdm import tqdm\n",
    "from typing import List\n",
    "import torch\n",
    "import json\n",
    "\n",
    "class ListOfDict(Encoding):\n",
    "    def encode(self, obj: List[dict]) -> bytes:\n",
    "        # Convert the list of dictionaries to a JSON-encoded string\n",
    "        json_str = json.dumps(obj)\n",
    "        return json_str.encode('utf-8')\n",
    "\n",
    "    def decode(self, data: bytes) -> List[dict]:\n",
    "\n",
    "        # Decode the JSON-encoded string back to a list of dictionaries\n",
    "        json_str = data.decode('utf-8')\n",
    "        return json.loads(json_str)\n",
    "\n",
    "# Register the custom encoding for 'list_of_dict'\n",
    "_encodings['list_of_dict'] = ListOfDict"
   ]
  },
  {
   "cell_type": "code",
   "execution_count": 4,
   "id": "ed42d064",
   "metadata": {},
   "outputs": [
    {
     "data": {
      "text/plain": [
       "['prepared-llava-en.jsonl',\n",
       " 'prepared-llava-ms.jsonl',\n",
       " 'prepared-audio-en.jsonl',\n",
       " 'prepared-audio-ms.jsonl',\n",
       " 'prepared-relationship-en.jsonl',\n",
       " 'prepared-relationship-ms.jsonl',\n",
       " 'prepared-malay.jsonl']"
      ]
     },
     "execution_count": 4,
     "metadata": {},
     "output_type": "execute_result"
    }
   ],
   "source": [
    "from glob import glob\n",
    "\n",
    "files = glob('prepared-llava*.jsonl')\n",
    "files.extend(glob('prepared-audio*.jsonl'))\n",
    "files.extend(glob('prepared-relationship*.jsonl'))\n",
    "files.extend(glob('prepared-malay*'))\n",
    "\n",
    "files"
   ]
  },
  {
   "cell_type": "code",
   "execution_count": 5,
   "id": "a7e3c185",
   "metadata": {},
   "outputs": [],
   "source": [
    "columns = {\n",
    "    'conversations': 'list_of_dict',\n",
    "    'filename': 'list_of_dict'\n",
    "}\n",
    "\n",
    "hashes = 'sha1', 'xxh64'"
   ]
  },
  {
   "cell_type": "code",
   "execution_count": 23,
   "id": "9f5f7216",
   "metadata": {},
   "outputs": [
    {
     "name": "stderr",
     "output_type": "stream",
     "text": [
      "huggingface/tokenizers: The current process just got forked, after parallelism has already been used. Disabling parallelism to avoid deadlocks...\n",
      "To disable this warning, you can either:\n",
      "\t- Avoid using `tokenizers` before the fork if possible\n",
      "\t- Explicitly set the environment variable TOKENIZERS_PARALLELISM=(true | false)\n"
     ]
    }
   ],
   "source": [
    "!rm -rf mosaic-multimodal"
   ]
  },
  {
   "cell_type": "code",
   "execution_count": 13,
   "id": "4ba05887",
   "metadata": {},
   "outputs": [
    {
     "data": {
      "text/plain": [
       "4"
      ]
     },
     "execution_count": 13,
     "metadata": {},
     "output_type": "execute_result"
    }
   ],
   "source": [
    "from transformers import AutoTokenizer\n",
    "import numpy as np\n",
    "\n",
    "tokenizer = AutoTokenizer.from_pretrained('mesolitica/malaysian-tinyllama-1.1b-16k-instructions-v3')\n",
    "tokenizer.add_tokens([\"<image>\", \"</image>\", \"<audio>\", \"</audio>\"])"
   ]
  },
  {
   "cell_type": "code",
   "execution_count": 24,
   "id": "f785a7c9",
   "metadata": {},
   "outputs": [],
   "source": [
    "import random"
   ]
  },
  {
   "cell_type": "code",
   "execution_count": 25,
   "id": "05b8e4f5",
   "metadata": {},
   "outputs": [
    {
     "name": "stderr",
     "output_type": "stream",
     "text": [
      "148657it [00:03, 41097.50it/s]\n",
      "148657it [00:03, 39260.70it/s]\n",
      "293752it [00:11, 26198.48it/s]\n",
      "293752it [00:12, 24097.69it/s]\n",
      "184500it [00:02, 66309.04it/s]\n",
      "184500it [00:02, 65428.63it/s]\n",
      "3238it [00:00, 43098.23it/s]\n"
     ]
    }
   ],
   "source": [
    "with MDSWriter(out='mosaic-multimodal', columns=columns, compression=None, hashes=hashes) as out:\n",
    "    for f in files:\n",
    "        with open(f) as fopen:\n",
    "            for l in tqdm(fopen):\n",
    "                try:\n",
    "                    l = json.loads(l)\n",
    "                    for i in range(len(l['filename'])):\n",
    "                        l['filename'][i] = l['filename'][i].replace('/output-audio', '/filter-audio')\n",
    "                    for i in range(len(l['conversations'])):\n",
    "                        l['conversations'][i]['content'] = l['conversations'][i]['content'].replace('\\n<image>', ' <image>').replace('<image>\\n', '<image> ').replace('\\n<audio>', ' <audio>').replace('<audio>\\n', '<audio> ').strip()\n",
    "                        l['conversations'][i]['content'] = l['conversations'][i]['content'].replace('<image>', '<image> </image>').replace('<audio>', '<audio> </audio>')\n",
    "                    \n",
    "                    if 'malay' not in f and random.random() > 0.4:\n",
    "                        continue\n",
    "                    out.write(l)\n",
    "                except Exception as e:\n",
    "                    print(l, e)"
   ]
  },
  {
   "cell_type": "code",
   "execution_count": 26,
   "id": "442b23a2",
   "metadata": {},
   "outputs": [
    {
     "data": {
      "text/plain": [
       "503704"
      ]
     },
     "execution_count": 26,
     "metadata": {},
     "output_type": "execute_result"
    }
   ],
   "source": [
    "dataset = LocalDataset('mosaic-multimodal')\n",
    "len(dataset)"
   ]
  },
  {
   "cell_type": "code",
   "execution_count": 30,
   "id": "5ecf0d2d",
   "metadata": {},
   "outputs": [
    {
     "data": {
      "text/plain": [
       "{'conversations': [{'role': 'user',\n",
       "   'content': 'Apa yang mungkin menjadi sebab di sebalik wanita yang memegang payung? <image> </image>'},\n",
       "  {'role': 'assistant',\n",
       "   'content': 'Wanita dalam imej itu mungkin memegang payung biru terbuka di atas kepalanya untuk melindungi dirinya daripada hujan atau matahari. Memandangkan payung terbuka, kemungkinan besar dia sedang mengalami atau menjangkakan keadaan cuaca sedemikian. Walaupun ia juga boleh menjadi kenyataan fesyen kerana warna dan reka bentuk yang menarik, tujuan utamanya adalah untuk melindunginya daripada unsur-unsur, memastikan dia kekal selesa dan rambutnya, dihiasi dengan bunga putih yang cantik, kekal utuh tanpa mengira cuaca.'}],\n",
       " 'filename': ['/home/ubuntu/translated-LLaVA-Instruct-150K/filtered-llava-images/000000278174.jpg']}"
      ]
     },
     "execution_count": 30,
     "metadata": {},
     "output_type": "execute_result"
    }
   ],
   "source": [
    "dataset[100001]"
   ]
  },
  {
   "cell_type": "code",
   "execution_count": null,
   "id": "10f11164",
   "metadata": {},
   "outputs": [],
   "source": []
  }
 ],
 "metadata": {
  "kernelspec": {
   "display_name": "Python 3 (ipykernel)",
   "language": "python",
   "name": "python3"
  },
  "language_info": {
   "codemirror_mode": {
    "name": "ipython",
    "version": 3
   },
   "file_extension": ".py",
   "mimetype": "text/x-python",
   "name": "python",
   "nbconvert_exporter": "python",
   "pygments_lexer": "ipython3",
   "version": "3.10.12"
  }
 },
 "nbformat": 4,
 "nbformat_minor": 5
}
