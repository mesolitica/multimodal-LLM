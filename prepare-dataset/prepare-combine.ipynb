{
 "cells": [
  {
   "cell_type": "code",
   "execution_count": 1,
   "id": "ebf4b1ca",
   "metadata": {},
   "outputs": [],
   "source": [
    "import json\n",
    "import os"
   ]
  },
  {
   "cell_type": "code",
   "execution_count": 2,
   "id": "9d8d401a",
   "metadata": {},
   "outputs": [],
   "source": [
    "# !wget https://huggingface.co/datasets/mesolitica/synthetic-multiturn-multimodal/resolve/main/synthetic-multi-audio-relationship.jsonl\n",
    "# !wget https://huggingface.co/datasets/mesolitica/synthetic-multiturn-multimodal/resolve/main/synthetic-multi-images-multi-audio-relationship.jsonl\n",
    "# !wget https://huggingface.co/datasets/mesolitica/synthetic-multiturn-multimodal/resolve/main/synthetic-multi-images-relationship.jsonl"
   ]
  },
  {
   "cell_type": "code",
   "execution_count": 3,
   "id": "f7349a5c",
   "metadata": {},
   "outputs": [],
   "source": [
    "en, ms = [], []\n",
    "with open('synthetic-multi-audio-relationship.jsonl') as fopen:\n",
    "    for l in fopen:\n",
    "        l = json.loads(l)\n",
    "        filename = [os.path.join('/home/ubuntu', f) for f in l['filename']]\n",
    "        en.append({\n",
    "            'filename': filename,\n",
    "            'conversations': [\n",
    "                {'role': 'user', 'content': '<audio><audio> ' + l['instruction']},\n",
    "                {'role': 'assistant', 'content': l['answer']},\n",
    "            ]\n",
    "        })\n",
    "        ms.append({\n",
    "            'filename': filename,\n",
    "            'conversations': [\n",
    "                {'role': 'user', 'content': '<audio><audio> ' + l['instruction_ms']},\n",
    "                {'role': 'assistant', 'content': l['answer_ms']},\n",
    "            ]\n",
    "        })"
   ]
  },
  {
   "cell_type": "code",
   "execution_count": 4,
   "id": "cef854dd",
   "metadata": {},
   "outputs": [],
   "source": [
    "with open('synthetic-multi-images-multi-audio-relationship.jsonl') as fopen:\n",
    "    for l in fopen:\n",
    "        l = json.loads(l)\n",
    "        filename = []\n",
    "        for f in l['filename']:\n",
    "            if f.endswith('.mp3'):\n",
    "                f = os.path.join('/home/ubuntu', f).replace('')\n",
    "            else:\n",
    "                f = os.path.join('/home/ubuntu/blip', f)\n",
    "            filename.append(f)\n",
    "                \n",
    "        en.append({\n",
    "            'filename': filename,\n",
    "            'conversations': [\n",
    "                {'role': 'user', 'content': '<audio><image> ' + l['instruction']},\n",
    "                {'role': 'assistant', 'content': l['answer']},\n",
    "            ]\n",
    "        })\n",
    "        ms.append({\n",
    "            'filename': filename,\n",
    "            'conversations': [\n",
    "                {'role': 'user', 'content': '<audio><image> ' + l['instruction_ms']},\n",
    "                {'role': 'assistant', 'content': l['answer_ms']},\n",
    "            ]\n",
    "        })"
   ]
  },
  {
   "cell_type": "code",
   "execution_count": 5,
   "id": "f062251f",
   "metadata": {},
   "outputs": [],
   "source": [
    "with open('synthetic-multi-images-relationship.jsonl') as fopen:\n",
    "    for l in fopen:\n",
    "        l = json.loads(l)\n",
    "        filename = []\n",
    "        for f in l['filename']:\n",
    "            if f.endswith('.mp3'):\n",
    "                f = os.path.join('/home/ubuntu', f)\n",
    "            else:\n",
    "                f = os.path.join('/home/ubuntu/blip', f)\n",
    "            filename.append(f)\n",
    "                \n",
    "        en.append({\n",
    "            'filename': filename,\n",
    "            'conversations': [\n",
    "                {'role': 'user', 'content': '<image><image> ' + l['instruction']},\n",
    "                {'role': 'assistant', 'content': l['answer']},\n",
    "            ]\n",
    "        })\n",
    "        ms.append({\n",
    "            'filename': filename,\n",
    "            'conversations': [\n",
    "                {'role': 'user', 'content': '<image><image> ' + l['instruction_ms']},\n",
    "                {'role': 'assistant', 'content': l['answer_ms']},\n",
    "            ]\n",
    "        })"
   ]
  },
  {
   "cell_type": "code",
   "execution_count": 6,
   "id": "d29a47eb",
   "metadata": {},
   "outputs": [
    {
     "data": {
      "text/plain": [
       "(184500, 184500)"
      ]
     },
     "execution_count": 6,
     "metadata": {},
     "output_type": "execute_result"
    }
   ],
   "source": [
    "len(en), len(ms)"
   ]
  },
  {
   "cell_type": "code",
   "execution_count": 7,
   "id": "199420a5",
   "metadata": {},
   "outputs": [],
   "source": [
    "with open('prepared-combine-en.jsonl', 'w') as fopen:\n",
    "    for d in en:\n",
    "        fopen.write(f'{json.dumps(d)}\\n')"
   ]
  },
  {
   "cell_type": "code",
   "execution_count": 8,
   "id": "e7ef5c8f",
   "metadata": {},
   "outputs": [],
   "source": [
    "with open('prepared-combine-ms.jsonl', 'w') as fopen:\n",
    "    for d in en:\n",
    "        fopen.write(f'{json.dumps(d)}\\n')"
   ]
  }
 ],
 "metadata": {
  "kernelspec": {
   "display_name": "Python 3 (ipykernel)",
   "language": "python",
   "name": "python3"
  },
  "language_info": {
   "codemirror_mode": {
    "name": "ipython",
    "version": 3
   },
   "file_extension": ".py",
   "mimetype": "text/x-python",
   "name": "python",
   "nbconvert_exporter": "python",
   "pygments_lexer": "ipython3",
   "version": "3.10.12"
  }
 },
 "nbformat": 4,
 "nbformat_minor": 5
}
