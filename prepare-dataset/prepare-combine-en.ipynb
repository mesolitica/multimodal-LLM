{
 "cells": [
  {
   "cell_type": "code",
   "execution_count": 1,
   "id": "224a8b51",
   "metadata": {},
   "outputs": [],
   "source": [
    "import json\n",
    "import random\n",
    "from tqdm import tqdm"
   ]
  },
  {
   "cell_type": "code",
   "execution_count": 2,
   "id": "0cac4d75",
   "metadata": {},
   "outputs": [],
   "source": [
    "llava_en = []\n",
    "with open('prepared-llava-en.jsonl') as fopen:\n",
    "    for l in fopen:\n",
    "        l = json.loads(l)\n",
    "        llava_en.append(l)"
   ]
  },
  {
   "cell_type": "code",
   "execution_count": 3,
   "id": "d6247079",
   "metadata": {},
   "outputs": [],
   "source": [
    "audio_en = []\n",
    "with open('prepared-audio-en.jsonl') as fopen:\n",
    "    for l in fopen:\n",
    "        l = json.loads(l)\n",
    "        audio_en.append(l)"
   ]
  },
  {
   "cell_type": "code",
   "execution_count": 4,
   "id": "bd9c3cda",
   "metadata": {},
   "outputs": [],
   "source": [
    "llava_index = set(range(len(llava_en)))\n",
    "audio_index = set(range(len(audio_en)))"
   ]
  },
  {
   "cell_type": "code",
   "execution_count": 5,
   "id": "fc030d68",
   "metadata": {},
   "outputs": [
    {
     "name": "stderr",
     "output_type": "stream",
     "text": [
      " 74%|███████▍  | 37097/50000 [04:04<01:25, 151.49it/s]"
     ]
    },
    {
     "name": "stdout",
     "output_type": "stream",
     "text": [
      "list index out of range\n"
     ]
    },
    {
     "name": "stderr",
     "output_type": "stream",
     "text": [
      "\n"
     ]
    }
   ],
   "source": [
    "combine = []\n",
    "llava = set()\n",
    "audio = set()\n",
    "for i in tqdm(range(50000)):\n",
    "    try:\n",
    "        filename = []\n",
    "        conversations = []\n",
    "        for _ in range(random.randint(2, 4)):\n",
    "            if random.random() > 0.4:\n",
    "                img_id = random.choice(list(llava_index - llava))\n",
    "                llava.add(img_id)\n",
    "                s = llava_en[img_id]\n",
    "            else:\n",
    "                audio_id = random.choice(list(audio_index - audio))\n",
    "                audio.add(audio_id)\n",
    "                s = audio_en[audio_id]\n",
    "            filename.extend(s['filename'])\n",
    "            conversations.extend(s['conversations'])\n",
    "        combine.append({\n",
    "            'filename': filename,\n",
    "            'conversations': conversations\n",
    "        })\n",
    "    except Exception as e:\n",
    "        print(e)\n",
    "        break"
   ]
  },
  {
   "cell_type": "code",
   "execution_count": 6,
   "id": "de8704f4",
   "metadata": {},
   "outputs": [
    {
     "data": {
      "text/plain": [
       "37097"
      ]
     },
     "execution_count": 6,
     "metadata": {},
     "output_type": "execute_result"
    }
   ],
   "source": [
    "len(combine)"
   ]
  },
  {
   "cell_type": "code",
   "execution_count": 7,
   "id": "dca05c4b",
   "metadata": {},
   "outputs": [
    {
     "data": {
      "text/plain": [
       "{'filename': ['/home/ubuntu/output-audio/0-2672-3.mp3',\n",
       "  '/home/ubuntu/filtered-llava-images/000000267969.jpg',\n",
       "  '/home/ubuntu/output-audio/1-2134-1.mp3'],\n",
       " 'conversations': [{'role': 'user',\n",
       "   'content': \"<audio>Why aren't the children afraid of the person who will become X?\"},\n",
       "  {'role': 'assistant',\n",
       "   'content': 'From the conversation you\\'ve provided, it seems that the children are not afraid of the person who will become X in the future because X is going to be the spouse of someone they refer to as \"Anik.\" It is implied that Anik is a trusted and well-liked figure among the children, and since X is going to marry Anik, the children probably view X in a positive light as well. This is the reason why the children are not afraid of the person who will become X.\\n\\nHere\\'s the breakdown of the conversation that leads to this conclusion:\\n\\n1. Tak, tak, tak. Tapi bukan X. Tapi bakal jadi X lah. Sebab dia akan jadi bini. (No, no, no. But not X. But will become X. Because she will become a spouse.)\\n\\nThis statement indicates that the person being discussed is not currently X, but will become X in the future because she will marry someone named Anik.\\n\\n1. Budak-budak tak jecak tu kan. (The children are not afraid of her, right?)\\n\\nThe speaker is confirming that the children are not afraid of the person who will become X, implying that they have a positive impression of her.\\n\\n1. Okay, terima kasih Anik. Kita pergi seterusnya. (Alright, thank you Anik. Let\\'s move on to the next one.)\\n\\nThis statement suggests that Anik is a helpful and cooperative person, further solidifying the positive impression of X, who will become Anik\\'s spouse.\\n\\n1. Okay, sekarang kita bersama budak tak jecak. (Alright, now we are with the children who are not afraid.)\\n\\nThe speaker reiterates that the children are not afraid of X, emphasizing their positive relationship.\\n\\n1. Fira. Banyak-banyak kau benci X kau. (Fira. You really dislike X, don\\'t you?)\\n\\nIn this part of the conversation, Fira expresses dislike for X, but the speaker dismisses her opinion, suggesting that Fira might have personal reasons for not liking X or simply doesn\\'t know her well enough.\\n\\n1. Jadi saya suruh dia lihat saya bahagia dengan kawan dia. (So I told her to see me being happy with her friend.)\\n\\nThe speaker asks X to observe their happiness with Anik, which indicates a positive and friendly atmosphere. This reinforces the idea that the children are not afraid of X because of their connection to Anik and the overall positive impression of X.'},\n",
       "  {'role': 'user',\n",
       "   'content': 'Tak, tak, tak. Tapi bukan X. Tapi bakal jadi X lah. Sebab dia akan jadi bini. Budak-budak tak jecak tu kan. Okay, terima kasih Anik. Kita pergi seterusnya.'},\n",
       "  {'role': 'assistant',\n",
       "   'content': \"Based on the provided conversation, the children are not afraid of the person who will become X because she will marry someone they know and like, referred to as Anik. The conversation includes the following points:\\n\\n1. Tak, tak, tak. Tapi bukan X. Tapi bakal jadi X lah. Sebab dia akan jadi bini. (No, no, no. But not X. But will become X. Because she will become a spouse.)\\n\\nThe speaker clarifies that the person being discussed is not currently X, but will become X in the future because of her upcoming marriage to Anik.\\n\\n1. Budak-budak tak jecak tu kan. (The children are not afraid of her, right?)\\n\\nThe speaker confirms that the children are not afraid of the person who will become X, which implies a positive relationship between the children and X.\\n\\n1. Okay, terima kasih Anik. Kita pergi seterusnya. (Alright, thank you Anik. Let's move on to the next one.)\\n\\nThis statement shows that Anik is a helpful and cooperative person, further solidifying the positive impression of X, who will become Anik's spouse.\\n\\nThe conversation does not provide more context about the relationship between the children, X, and Anik, but it does make it clear that the children are not afraid of X because she is connected to Anik, who appears to be a well-liked and trusted figure.\"},\n",
       "  {'role': 'user',\n",
       "   'content': 'Tak, tak, tak. Tapi bukan X. Tapi bakal jadi X lah. Sebab dia akan jadi bini. Budak-budak tak jecak tu kan. Okay, terima kasih Anik. Kita pergi seterusnya.'},\n",
       "  {'role': 'assistant',\n",
       "   'content': \"The conversation you provided implies that the children are not afraid of the person who will become X, as she will marry someone they respect and like, Anik. Here's a summary of the conversation:\\n\\n1. Tak, tak, tak. Tapi bukan X. Tapi bakal jadi X lah. Sebab dia akan jadi bini. (No, no, no. But not X. But will become X. Because she will become a spouse.)\\n\\nThe speaker establishes that the person being discussed is not currently X but will become X due to her future marriage to Anik.\\n\\n1. Budak-budak tak jecak tu kan. (The children are not afraid of her, right?)\\n\\nThe speaker acknowledges that the children are not afraid of the person who will become X, indicating a positive relationship between the children and X.\\n\\n1. Okay, terima kasih Anik. Kita pergi seterusnya. (Alright, thank you Anik. Let's move on to the next one.)\\n\\nThis part of the conversation indicates that Anik is a helpful and cooperative person, reinforcing the positive impression of X, who will become Anik's spouse.\\n\\nOverall, the conversation demonstrates that the children are not afraid of X because of her connection to Anik, who seems to be a well-regarded individual. The children's positive impression of Anik likely extends to X as well, creating an environment where the children are not afraid of the person who will become X.\"},\n",
       "  {'role': 'user',\n",
       "   'content': 'What measures can the skiers take to ensure their safety while skiing uphill?\\n<image>'},\n",
       "  {'role': 'assistant',\n",
       "   'content': 'To ensure their safety while skiing uphill, the two skiers in the image should consider several precautions. First, they should wear appropriate gear, such as warm clothing, gloves, and goggles to protect themselves from the cold and other elements. Second, they should use proper skiing equipment, such as cross-country skis and ski poles, which are specifically designed for uphill skiing. In the image, both people are wearing skis and seem to be well-equipped for their activity.\\n\\nAdditionally, the skiers should carry essential supplies, such as food, water, and first aid kits, in their backpacks. In the image, both skiers appear to have small backpacks, which can be useful in carrying these essentials. Lastly, the skiers should be aware of their surroundings and any potential hazards like changing weather conditions, unstable snow, or possible avalanches. Communicating with one another and staying updated on local weather and snow conditions can help them make informed decisions about when it might be best to turn back or seek an alternate route.'},\n",
       "  {'role': 'user',\n",
       "   'content': '<audio>Why does the speaker feel like there is a butterfly in their heart when the person they are interested in says they are looking for a wife who can sew?'},\n",
       "  {'role': 'assistant',\n",
       "   'content': \"The speaker may feel like there is a butterfly in their heart because they are excited and happy that the person they are interested in is looking for a wife who can sew, as this could be a sign that the person values traditional domestic skills and may be a good partner. However, the speaker also has concerns and feels anxious because of the person's advanced age, as they worry that the person may already have a spouse or partner. Additionally, the speaker may have had negative experiences with men in the past, leading them to be cautious and hesitant to get involved in another potentially harmful relationship. The speaker continually asks the person if they are sure about their intentions to ensure that they are not setting themselves up for disappointment or heartache.\"},\n",
       "  {'role': 'user',\n",
       "   'content': 'What makes you think that the speaker has had negative experiences with men in the past?'},\n",
       "  {'role': 'assistant',\n",
       "   'content': 'I made the inference that the speaker has had negative experiences with men in the past based on the statement \"sebab kita dah pernah ada pengalaman yang buruk tentang lelaki tak guna\" which means \"because we have had bad experiences with men who are not useful.\" This statement suggests that the speaker has had past relationships or encounters with men who caused them harm or disappointment, leading them to be cautious and hesitant about getting involved with someone new. The speaker\\'s concern about the person they are interested in already having a spouse or partner may also indicate a past experience of being hurt by a man who was already in a committed relationship. However, this is just an interpretation based on the given text, and there could be other reasons for the speaker\\'s caution and hesitation.'},\n",
       "  {'role': 'user',\n",
       "   'content': 'Hmm, perhaps. Can you guess the gender of the speaker?'},\n",
       "  {'role': 'assistant',\n",
       "   'content': 'Based on the use of the pronoun \"kita\" which is a first-person plural pronoun in Malay and is often used to refer to oneself and one or more other people, it is unclear whether the speaker is referring to themselves as a single individual or as part of a group. However, the statement \"sebab kita dah pernah ada pengalaman yang buruk tentang lelaki tak guna\" suggests that the speaker has had personal experiences with men, implying that the speaker is likely female. However, this is just an assumption based on the given text, and there could be other explanations for the use of \"kita\" and the speaker\\'s past experiences with men.'}]}"
      ]
     },
     "execution_count": 7,
     "metadata": {},
     "output_type": "execute_result"
    }
   ],
   "source": [
    "combine[0]"
   ]
  },
  {
   "cell_type": "code",
   "execution_count": 8,
   "id": "08fe4eb6",
   "metadata": {},
   "outputs": [],
   "source": [
    "with open('prepared-combine-en.jsonl', 'w') as fopen:\n",
    "    for d in combine:\n",
    "        fopen.write(f'{json.dumps(d)}\\n')"
   ]
  }
 ],
 "metadata": {
  "kernelspec": {
   "display_name": "Python 3 (ipykernel)",
   "language": "python",
   "name": "python3"
  },
  "language_info": {
   "codemirror_mode": {
    "name": "ipython",
    "version": 3
   },
   "file_extension": ".py",
   "mimetype": "text/x-python",
   "name": "python",
   "nbconvert_exporter": "python",
   "pygments_lexer": "ipython3",
   "version": "3.10.12"
  }
 },
 "nbformat": 4,
 "nbformat_minor": 5
}
