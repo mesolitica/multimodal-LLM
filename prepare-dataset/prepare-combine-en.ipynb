{
 "cells": [
  {
   "cell_type": "code",
   "execution_count": 1,
   "id": "224a8b51",
   "metadata": {},
   "outputs": [],
   "source": [
    "import json\n",
    "import random\n",
    "from tqdm import tqdm"
   ]
  },
  {
   "cell_type": "code",
   "execution_count": 2,
   "id": "0cac4d75",
   "metadata": {},
   "outputs": [],
   "source": [
    "llava_en = []\n",
    "with open('prepared-llava-en.jsonl') as fopen:\n",
    "    for l in fopen:\n",
    "        l = json.loads(l)\n",
    "        llava_en.append(l)"
   ]
  },
  {
   "cell_type": "code",
   "execution_count": 3,
   "id": "d6247079",
   "metadata": {},
   "outputs": [],
   "source": [
    "audio_en = []\n",
    "with open('prepared-audio-en.jsonl') as fopen:\n",
    "    for l in fopen:\n",
    "        l = json.loads(l)\n",
    "        audio_en.append(l)"
   ]
  },
  {
   "cell_type": "code",
   "execution_count": 4,
   "id": "bd9c3cda",
   "metadata": {},
   "outputs": [],
   "source": [
    "llava_index = set(range(len(llava_en)))\n",
    "audio_index = set(range(len(audio_en)))"
   ]
  },
  {
   "cell_type": "code",
   "execution_count": 8,
   "id": "fc030d68",
   "metadata": {},
   "outputs": [
    {
     "name": "stderr",
     "output_type": "stream",
     "text": [
      " 75%|███████▍  | 37394/50000 [04:43<01:35, 132.07it/s]"
     ]
    },
    {
     "name": "stdout",
     "output_type": "stream",
     "text": [
      "list index out of range\n"
     ]
    },
    {
     "name": "stderr",
     "output_type": "stream",
     "text": [
      "\n"
     ]
    }
   ],
   "source": [
    "combine = []\n",
    "llava = set()\n",
    "audio = set()\n",
    "for i in tqdm(range(50000)):\n",
    "    try:\n",
    "        filename = []\n",
    "        conversations = []\n",
    "        for _ in range(random.randint(2, 4)):\n",
    "            if random.random() > 0.4:\n",
    "                img_id = random.choice(list(llava_index - llava))\n",
    "                llava.add(img_id)\n",
    "                s = llava_en[img_id]\n",
    "            else:\n",
    "                audio_id = random.choice(list(audio_index - audio))\n",
    "                audio.add(audio_id)\n",
    "                s = audio_en[audio_id]\n",
    "            filename.extend(s['filename'])\n",
    "            conversations.extend(s['conversations'])\n",
    "        combine.append({\n",
    "            'filename': filename,\n",
    "            'conversations': conversations\n",
    "        })\n",
    "    except Exception as e:\n",
    "        print(e)\n",
    "        break"
   ]
  },
  {
   "cell_type": "code",
   "execution_count": 9,
   "id": "08fe4eb6",
   "metadata": {},
   "outputs": [],
   "source": [
    "with open('prepared-combine-en.jsonl', 'w') as fopen:\n",
    "    for d in combine:\n",
    "        fopen.write(f'{json.dumps(d)}\\n')"
   ]
  },
  {
   "cell_type": "code",
   "execution_count": 10,
   "id": "dd8e09b3",
   "metadata": {},
   "outputs": [
    {
     "data": {
      "text/plain": [
       "{'filename': ['/home/ubuntu/output-audio/0-3201-1.mp3',\n",
       "  '/home/ubuntu/filtered-llava-images/000000416018.jpg',\n",
       "  '/home/ubuntu/filtered-llava-images/000000128752.jpg',\n",
       "  '/home/ubuntu/filtered-llava-images/000000501015.jpg'],\n",
       " 'conversations': [{'role': 'user',\n",
       "   'content': \"<audio>What is Tasha's opinion on the spiciness of the first soup served?\"},\n",
       "  {'role': 'assistant',\n",
       "   'content': 'Based on the conversation, Tasha felt that the first soup served was too spicy.'},\n",
       "  {'role': 'user', 'content': 'Okay. Mengapa Tasha pandangan begini?'},\n",
       "  {'role': 'assistant',\n",
       "   'content': 'The exact reason for Tasha\\'s opinion is not mentioned in the conversation, but she can be heard saying \"Yup. Yes. Ni pedas gila.\" which suggests that the first soup served was extremely spicy.'},\n",
       "  {'role': 'user',\n",
       "   'content': 'Okay. Sekarang kita tanya Jane. Okay. Jane, how spicy is your soup?'},\n",
       "  {'role': 'assistant',\n",
       "   'content': 'Based on the conversation, Jane said \"Second pedas\" which means that she found the spiciness of her soup to be less spicy compared to the first soup.'},\n",
       "  {'role': 'user',\n",
       "   'content': \"What implications does the presence of the steering wheel controller have for the type of game they're playing?\\n<image>\"},\n",
       "  {'role': 'assistant',\n",
       "   'content': 'Given that one of the people in the image is holding a video game controller shaped like a steering wheel, it is highly likely that they are playing a racing or driving simulation game. The steering wheel controller is specifically designed to provide a more immersive and realistic gaming experience for games that involve controlling vehicles. This suggests that the game they are engaging with is focused on car or vehicle navigation, and the participants are actively controlling in-game actions by manipulating the steering wheel controller.'},\n",
       "  {'role': 'user',\n",
       "   'content': 'What factors could affect the flight of this aircraft?\\n<image>'},\n",
       "  {'role': 'assistant',\n",
       "   'content': \"Several factors could affect the flight of the British Airways jetliner observed in the image. These may include:\\n\\n1. Weather conditions: The plane is flying through a foggy sky, which may impact visibility, turbulence, and overall flight conditions. Adverse weather events, such as storms or strong winds, could also significantly impact the flight.\\n\\n2. Air traffic: The presence of other aircraft in the airspace could influence the flight route, altitude, or speed. Air traffic controllers need to manage multiple aircraft in the sky to maintain safety and avoid conflicts.\\n\\n3. Technical issues: Aircraft systems and equipment must function properly to ensure a safe and efficient flight. Any technical issues or malfunctions may disrupt the flight and require prompt action from the crew.\\n\\n4. Human factors: The skills, experience, and decision-making processes of pilots and other crew members can significantly impact the safety, comfort, and efficiency of the flight.\\n\\n5. Regulatory constraints: International aviation regulations and guidelines from governing bodies can affect the aircraft's flight trajectory, speed, altitude, and other operational aspects.\\n\\nConsidering these factors, the British Airways jetliner needs to navigate through the foggy sky efficiently while maintaining safety protocols and adhering to aviation regulations.\"},\n",
       "  {'role': 'user',\n",
       "   'content': '<image>\\nHow would you describe the positioning of the bottles in this image?'},\n",
       "  {'role': 'assistant',\n",
       "   'content': \"In the image, there are several bottles positioned in various locations. Some bottles are inside the refrigerator, with one being held in the person's hand, while others are placed outside of the fridge. The person is posing near the open refrigerator, which appears to have quite a few bottles arranged in it. The bottles inside the fridge are lined up horizontally on different shelves at various heights, indicating that they might be chilling until they are ready to be consumed. There are also a couple of bottles placed outside the fridge, possibly on a countertop or other surfaces within the image. The dining table and a laptop can also be seen in the background, but they are not directly related to the positioning of the bottles.\"}]}"
      ]
     },
     "execution_count": 10,
     "metadata": {},
     "output_type": "execute_result"
    }
   ],
   "source": [
    "combine[0]"
   ]
  },
  {
   "cell_type": "code",
   "execution_count": null,
   "id": "04cdf7c1",
   "metadata": {},
   "outputs": [],
   "source": []
  }
 ],
 "metadata": {
  "kernelspec": {
   "display_name": "Python 3 (ipykernel)",
   "language": "python",
   "name": "python3"
  },
  "language_info": {
   "codemirror_mode": {
    "name": "ipython",
    "version": 3
   },
   "file_extension": ".py",
   "mimetype": "text/x-python",
   "name": "python",
   "nbconvert_exporter": "python",
   "pygments_lexer": "ipython3",
   "version": "3.10.12"
  }
 },
 "nbformat": 4,
 "nbformat_minor": 5
}
