{
 "cells": [
  {
   "cell_type": "code",
   "execution_count": 1,
   "id": "67f09d6f",
   "metadata": {},
   "outputs": [],
   "source": [
    "import json\n",
    "import os\n",
    "import random\n",
    "from tqdm import tqdm"
   ]
  },
  {
   "cell_type": "code",
   "execution_count": 4,
   "id": "ce11b49d",
   "metadata": {},
   "outputs": [
    {
     "name": "stderr",
     "output_type": "stream",
     "text": [
      "293752it [00:32, 8981.18it/s]\n"
     ]
    }
   ],
   "source": [
    "data_en, data_ms = [], []\n",
    "with open('mixtral-audio-instruction.jsonl') as fopen:\n",
    "    for l in tqdm(fopen):\n",
    "        l = json.loads(l)\n",
    "        f = os.path.join('/home/ubuntu', l['filename'])\n",
    "        if not os.path.exists(f):\n",
    "            continue\n",
    "        \n",
    "        en, ms = [], []\n",
    "        for no, c in enumerate(l['chat']):\n",
    "            ms_ = c['content_ms']\n",
    "            en_ = c['content']\n",
    "            if no == 0:\n",
    "                ms_ = f'<audio>{ms_}'\n",
    "                en_ = f'<audio>{en_}'\n",
    "            if en_:\n",
    "                en.append({\n",
    "                    'role': c['role'],\n",
    "                    'content': en_\n",
    "                })\n",
    "            if ms_:\n",
    "                ms.append({\n",
    "                    'role': c['role'],\n",
    "                    'content': ms_\n",
    "                })\n",
    "        \n",
    "        if random.random() > 0.6:\n",
    "            en.extend([\n",
    "                {\n",
    "                    'role': 'user',\n",
    "                    'content': '<image>what is image about?'\n",
    "                },\n",
    "                {\n",
    "                    'role': 'assistant',\n",
    "                    'content': 'There is no image attached to describe.'\n",
    "                },\n",
    "            ])\n",
    "            ms.extend([\n",
    "                {\n",
    "                    'role': 'user',\n",
    "                    'content': '<image>gambar ni pasal ape?'\n",
    "                },\n",
    "                {\n",
    "                    'role': 'assistant',\n",
    "                    'content': 'Tiada imej yang dilampirkan untuk menggambarkan.'\n",
    "                },\n",
    "            ])\n",
    "        data_en.append({'filename': [f], 'conversations': en})\n",
    "        data_ms.append({'filename': [f], 'conversations': ms})"
   ]
  },
  {
   "cell_type": "code",
   "execution_count": 5,
   "id": "cdc15b0c",
   "metadata": {},
   "outputs": [],
   "source": [
    "with open('prepared-audio-en.jsonl', 'w') as fopen:\n",
    "    for d in data_en:\n",
    "        fopen.write(f'{json.dumps(d)}\\n')"
   ]
  },
  {
   "cell_type": "code",
   "execution_count": 6,
   "id": "756c99b1",
   "metadata": {},
   "outputs": [],
   "source": [
    "with open('prepared-audio-ms.jsonl', 'w') as fopen:\n",
    "    for d in data_ms:\n",
    "        fopen.write(f'{json.dumps(d)}\\n')"
   ]
  },
  {
   "cell_type": "code",
   "execution_count": 27,
   "id": "43e1be02",
   "metadata": {},
   "outputs": [
    {
     "name": "stdout",
     "output_type": "stream",
     "text": [
      "{\"filename\": [\"/home/ubuntu/output-audio/1-0-0.mp3\"], \"conversations\": [{\"role\": \"user\", \"content\": \"<audio>Why might someone consider investing in cryptocurrencies like Ethereum instead of traditional financial investments such as real estate?\"}, {\"role\": \"assistant\", \"content\": \"There are several reasons why someone might consider investing in cryptocurrencies like Ethereum instead of traditional financial investments such as real estate:\\n\\n1. Potential for higher returns: Cryptocurrencies have the potential for much higher returns compared to traditional financial investments. While the real estate market can be profitable, the potential for exponential growth in the cryptocurrency market is significantly higher.\\n2. Diversification: Investing in cryptocurrencies can provide a diversification benefit to an investment portfolio. By investing in a variety of assets, including cryptocurrencies, investors can spread their risk and potentially increase their overall returns.\\n3. Liquidity: Cryptocurrencies are generally more liquid than real estate investments. It is easier to buy and sell cryptocurrencies, and they can be quickly converted into cash.\\n4. Accessibility: Investing in cryptocurrencies is generally more accessible than investing in real estate. There are fewer barriers to entry, and it is easier to get started with a smaller amount of money.\\n5. Decentralization: Cryptocurrencies are decentralized, meaning they are not controlled by any government or financial institution. This can provide a level of independence and autonomy that is not possible with traditional financial investments.\\n\\nHowever, it is important to note that investing in cryptocurrencies is also riskier than traditional financial investments. The value of cryptocurrencies can be highly volatile, and there is a risk of losing all or a significant portion of the investment. Therefore, it is important to carefully consider your own risk tolerance and financial situation before investing in cryptocurrencies.\"}, {\"role\": \"user\", \"content\": \"mengapa orang menggunakan blockchain untuk mengurus siasia digital\"}, {\"role\": \"assistant\", \"content\": \"There are several reasons why people use blockchain technology to manage digital assets:\\n\\n1. Security: Blockchain technology provides a high level of security for managing digital assets. The decentralized nature of blockchain makes it difficult for hackers to manipulate or steal digital assets.\\n2. Transparency: Blockchain provides a transparent record of all transactions related to a digital asset. This makes it easier to track ownership and verify the authenticity of the asset.\\n3. Accessibility: Blockchain technology allows for the easy transfer and management of digital assets, making them accessible to anyone with an internet connection.\\n4. Immutability: Once data is recorded on a blockchain, it cannot be altered or deleted. This ensures that the record of ownership and transactions related to a digital asset is permanent and cannot be tampered with.\\n5. Programmability: Blockchain technology allows for the creation of smart contracts, which are self-executing contracts with the terms of the agreement directly written into code. This enables automatic and secure transfer of digital assets based on predefined conditions.\\n6. Interoperability: Blockchain technology enables the interoperability of different digital assets and systems, allowing for seamless transfer and exchange of value.\\n\\nOverall, the use of blockchain technology for managing digital assets provides a secure, transparent, and decentralized system that is accessible to anyone with an internet connection. This makes it an attractive solution for managing various types of digital assets, including cryptocurrencies, digital art, and other digital assets.\"}]}\r\n"
     ]
    }
   ],
   "source": [
    "!head -n 1 prepared-audio-en.jsonl"
   ]
  },
  {
   "cell_type": "code",
   "execution_count": null,
   "id": "bc144816",
   "metadata": {},
   "outputs": [],
   "source": []
  }
 ],
 "metadata": {
  "kernelspec": {
   "display_name": "Python 3 (ipykernel)",
   "language": "python",
   "name": "python3"
  },
  "language_info": {
   "codemirror_mode": {
    "name": "ipython",
    "version": 3
   },
   "file_extension": ".py",
   "mimetype": "text/x-python",
   "name": "python",
   "nbconvert_exporter": "python",
   "pygments_lexer": "ipython3",
   "version": "3.10.12"
  }
 },
 "nbformat": 4,
 "nbformat_minor": 5
}
