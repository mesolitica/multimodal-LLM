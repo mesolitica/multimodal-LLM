{
 "cells": [
  {
   "cell_type": "code",
   "execution_count": 2,
   "id": "649c1456",
   "metadata": {},
   "outputs": [],
   "source": [
    "import json\n",
    "import os\n",
    "import random\n",
    "from tqdm import tqdm"
   ]
  },
  {
   "cell_type": "code",
   "execution_count": 3,
   "id": "11e4d12f",
   "metadata": {},
   "outputs": [
    {
     "name": "stderr",
     "output_type": "stream",
     "text": [
      "293752it [00:13, 22279.31it/s]\n"
     ]
    }
   ],
   "source": [
    "data_en, data_ms = [], []\n",
    "with open('malaysian-youtube-audio-instructions/mixtral-audio-instruction.jsonl') as fopen:\n",
    "    for l in tqdm(fopen):\n",
    "        l = json.loads(l)\n",
    "        f = os.path.join('/home/ubuntu/malaysian-youtube-audio-instructions', l['filename'])\n",
    "        f = f.replace('output-audio/', 'filter-audio/')\n",
    "        if not os.path.exists(f):\n",
    "            continue\n",
    "        \n",
    "        en, ms = [], []\n",
    "        for no, c in enumerate(l['chat']):\n",
    "            ms_ = c['content_ms']\n",
    "            en_ = c['content']\n",
    "            if no == 0:\n",
    "                ms_ = f'<audio> {ms_}'\n",
    "                en_ = f'<audio> {en_}'\n",
    "            if en_:\n",
    "                en.append({\n",
    "                    'role': c['role'],\n",
    "                    'content': en_\n",
    "                })\n",
    "            if ms_:\n",
    "                ms.append({\n",
    "                    'role': c['role'],\n",
    "                    'content': ms_\n",
    "                })\n",
    "        data_en.append({'filename': [f], 'conversations': en})\n",
    "        data_ms.append({'filename': [f], 'conversations': ms})"
   ]
  },
  {
   "cell_type": "code",
   "execution_count": 5,
   "id": "09e7d514",
   "metadata": {},
   "outputs": [],
   "source": [
    "with open('prepared-audio-en.jsonl', 'w') as fopen:\n",
    "    for d in data_en:\n",
    "        fopen.write(f'{json.dumps(d)}\\n')"
   ]
  },
  {
   "cell_type": "code",
   "execution_count": 6,
   "id": "b1fcc27e",
   "metadata": {},
   "outputs": [],
   "source": [
    "with open('prepared-audio-ms.jsonl', 'w') as fopen:\n",
    "    for d in data_ms:\n",
    "        fopen.write(f'{json.dumps(d)}\\n')"
   ]
  }
 ],
 "metadata": {
  "kernelspec": {
   "display_name": "Python 3 (ipykernel)",
   "language": "python",
   "name": "python3"
  },
  "language_info": {
   "codemirror_mode": {
    "name": "ipython",
    "version": 3
   },
   "file_extension": ".py",
   "mimetype": "text/x-python",
   "name": "python",
   "nbconvert_exporter": "python",
   "pygments_lexer": "ipython3",
   "version": "3.10.12"
  }
 },
 "nbformat": 4,
 "nbformat_minor": 5
}
