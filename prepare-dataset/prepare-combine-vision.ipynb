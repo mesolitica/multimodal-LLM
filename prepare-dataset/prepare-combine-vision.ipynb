{
 "cells": [
  {
   "cell_type": "code",
   "execution_count": 1,
   "id": "0afb670e",
   "metadata": {},
   "outputs": [],
   "source": [
    "import json\n",
    "import random\n",
    "from tqdm import tqdm"
   ]
  },
  {
   "cell_type": "code",
   "execution_count": 2,
   "id": "7d3ec021",
   "metadata": {},
   "outputs": [],
   "source": [
    "llava_en = []\n",
    "with open('prepared-llava-en.jsonl') as fopen:\n",
    "    for l in fopen:\n",
    "        l = json.loads(l)\n",
    "        llava_en.append(l)"
   ]
  },
  {
   "cell_type": "code",
   "execution_count": 3,
   "id": "197dda71",
   "metadata": {},
   "outputs": [],
   "source": [
    "llava_index = set(range(len(llava_en)))"
   ]
  },
  {
   "cell_type": "code",
   "execution_count": 4,
   "id": "df4355f8",
   "metadata": {},
   "outputs": [
    {
     "name": "stderr",
     "output_type": "stream",
     "text": [
      "100%|██████████| 20000/20000 [02:38<00:00, 125.96it/s]\n"
     ]
    }
   ],
   "source": [
    "combine = []\n",
    "llava = set()\n",
    "for i in tqdm(range(20000)):\n",
    "    try:\n",
    "        filename = []\n",
    "        conversations = []\n",
    "        for _ in range(random.randint(2, 3)):\n",
    "            img_id = random.choice(list(llava_index - llava))\n",
    "            llava.add(img_id)\n",
    "            s = llava_en[img_id]\n",
    "            filename.extend(s['filename'])\n",
    "            conversations.extend(s['conversations'])\n",
    "        combine.append({\n",
    "            'filename': filename,\n",
    "            'conversations': conversations\n",
    "        })\n",
    "    except Exception as e:\n",
    "        print(e)\n",
    "        break"
   ]
  },
  {
   "cell_type": "code",
   "execution_count": 5,
   "id": "8cecfe80",
   "metadata": {},
   "outputs": [
    {
     "data": {
      "text/plain": [
       "{'image>'}"
      ]
     },
     "execution_count": 5,
     "metadata": {},
     "output_type": "execute_result"
    }
   ],
   "source": [
    "a = set()\n",
    "for l in combine:\n",
    "    for i in range(len(l['conversations'])):\n",
    "        splitted = l['conversations'][i]['content'].split('<')\n",
    "        if len(splitted) > 1:\n",
    "            a.add(splitted[1].strip().split('\\n')[0])\n",
    "a"
   ]
  },
  {
   "cell_type": "code",
   "execution_count": 6,
   "id": "29d62edf",
   "metadata": {},
   "outputs": [],
   "source": [
    "with open('prepared-combine-en.jsonl', 'w') as fopen:\n",
    "    for d in combine:\n",
    "        fopen.write(f'{json.dumps(d)}\\n')"
   ]
  },
  {
   "cell_type": "code",
   "execution_count": 7,
   "id": "7e58ab48",
   "metadata": {},
   "outputs": [],
   "source": [
    "llava_en = []\n",
    "with open('prepared-llava-ms.jsonl') as fopen:\n",
    "    for l in fopen:\n",
    "        l = json.loads(l)\n",
    "        llava_en.append(l)"
   ]
  },
  {
   "cell_type": "code",
   "execution_count": 8,
   "id": "259cf23e",
   "metadata": {},
   "outputs": [],
   "source": [
    "llava_index = set(range(len(llava_en)))"
   ]
  },
  {
   "cell_type": "code",
   "execution_count": 9,
   "id": "c5dd7199",
   "metadata": {},
   "outputs": [
    {
     "name": "stderr",
     "output_type": "stream",
     "text": [
      "100%|██████████| 20000/20000 [02:34<00:00, 129.82it/s]\n"
     ]
    }
   ],
   "source": [
    "combine = []\n",
    "llava = set()\n",
    "audio = set()\n",
    "for i in tqdm(range(20000)):\n",
    "    try:\n",
    "        filename = []\n",
    "        conversations = []\n",
    "        for _ in range(random.randint(2, 3)):\n",
    "            img_id = random.choice(list(llava_index - llava))\n",
    "            llava.add(img_id)\n",
    "            s = llava_en[img_id]\n",
    "            filename.extend(s['filename'])\n",
    "            conversations.extend(s['conversations'])\n",
    "        combine.append({\n",
    "            'filename': filename,\n",
    "            'conversations': conversations\n",
    "        })\n",
    "    except Exception as e:\n",
    "        print(e)\n",
    "        break"
   ]
  },
  {
   "cell_type": "code",
   "execution_count": 10,
   "id": "49a4cd15",
   "metadata": {},
   "outputs": [
    {
     "data": {
      "text/plain": [
       "{'image>'}"
      ]
     },
     "execution_count": 10,
     "metadata": {},
     "output_type": "execute_result"
    }
   ],
   "source": [
    "a = set()\n",
    "for l in combine:\n",
    "    for i in range(len(l['conversations'])):\n",
    "        splitted = l['conversations'][i]['content'].split('<')\n",
    "        if len(splitted) > 1:\n",
    "            a.add(splitted[1].strip().split('\\n')[0])\n",
    "a"
   ]
  },
  {
   "cell_type": "code",
   "execution_count": 11,
   "id": "2c1e4523",
   "metadata": {},
   "outputs": [],
   "source": [
    "with open('prepared-combine-ms.jsonl', 'w') as fopen:\n",
    "    for d in combine:\n",
    "        fopen.write(f'{json.dumps(d)}\\n')"
   ]
  },
  {
   "cell_type": "code",
   "execution_count": 12,
   "id": "4cedb3a9",
   "metadata": {},
   "outputs": [
    {
     "data": {
      "text/plain": [
       "{'filename': ['/home/ubuntu/translated-LLaVA-Instruct-150K/filtered-llava-images/000000482049.jpg',\n",
       "  '/home/ubuntu/translated-LLaVA-Instruct-150K/filtered-llava-images/000000259022.jpg'],\n",
       " 'conversations': [{'role': 'user',\n",
       "   'content': 'Apakah warna bas bandar dalam gambar?\\n<image>'},\n",
       "  {'role': 'assistant',\n",
       "   'content': 'Bas bandar dalam gambar berwarna putih dengan dua jalur biru.'},\n",
       "  {'role': 'user', 'content': 'Apakah keadaan bas?'},\n",
       "  {'role': 'assistant',\n",
       "   'content': 'Bas dalam keadaan mabuk, dan kelihatan agak kotor, menunjukkan bahawa ia mungkin tidak dijaga dengan baik atau dibersihkan secara berkala.'},\n",
       "  {'role': 'user',\n",
       "   'content': 'Adakah bas bergerak atau berhenti dalam gambar?'},\n",
       "  {'role': 'assistant',\n",
       "   'content': 'Bas dihentikan dalam kesesakan lalu lintas di luar, mungkin disebabkan oleh kesesakan atau isyarat lalu lintas.'},\n",
       "  {'role': 'user',\n",
       "   'content': 'Apakah jenis pengangkutan yang disediakan oleh bas?'},\n",
       "  {'role': 'assistant',\n",
       "   'content': 'Bas ini menyediakan perkhidmatan pengangkutan awam untuk orang di dalam bandar.'},\n",
       "  {'role': 'user',\n",
       "   'content': 'Bagaimanakah keadaan bas boleh menjejaskan reputasi dan persepsi sistem pengangkutan awam bandar itu?'},\n",
       "  {'role': 'assistant',\n",
       "   'content': 'Keadaan bas bandar yang dipukul dan kotor dalam imej boleh memberi kesan negatif kepada reputasi dan persepsi sistem pengangkutan awam bandar.\\n\\nPertama, keadaan bas yang buruk mungkin menimbulkan kebimbangan tentang keselamatan dan kebolehpercayaan sistem transit. Penumpang mungkin mempersoalkan sama ada bas itu kerap diperiksa dan diselenggara untuk memastikan ia berada dalam keadaan yang baik. Bas yang tidak diselenggara boleh mengalami kerosakan, kelewatan atau, dalam senario terburuk, menimbulkan risiko keselamatan kepada penumpang dan orang lain di jalan raya.\\n\\nKedua, penampilan bas yang kotor dan tidak terawat mungkin menyebabkan bakal penumpang enggan menggunakan sistem pengangkutan awam. Sistem transit yang bersih dan diselenggara dengan baik secara amnya dianggap lebih mesra, selesa dan profesional, yang boleh menarik lebih ramai penunggang dan meningkatkan kepuasan keseluruhan dengan perkhidmatan itu. Sebaliknya, bas yang kotor dan diabaikan mungkin menghalang orang ramai daripada menggunakan pengangkutan awam, menyebabkan mereka mencari alternatif, seperti kereta persendirian, teksi atau perkhidmatan perkongsian perjalanan. Ini akhirnya boleh mengakibatkan peningkatan kesesakan lalu lintas, pencemaran dan permintaan untuk tempat letak kereta di bandar, mengurangkan usaha untuk menggalakkan mobiliti bandar yang mampan dan mengurangkan pelepasan gas rumah hijau.\\n\\nAkhir sekali, keadaan bas yang buruk mungkin mencerminkan pentadbiran bandar dengan buruk dan komitmen mereka untuk menyediakan perkhidmatan awam berkualiti tinggi untuk penduduknya. Orang ramai mungkin mempersoalkan sama ada bandar itu memperuntukkan sumber yang mencukupi dan perhatian untuk menyelenggara dan menambah baik sistem pengangkutan awam. Ini boleh menghakis kepercayaan orang ramai terhadap kerajaan tempatan, yang berpotensi menjejaskan sokongan untuk inisiatif dan projek awam yang lain.\\n\\nKesimpulannya, keadaan bas dalam imej, dengan rentak dan penampilan kotornya, boleh memberi kesan negatif kepada reputasi dan persepsi sistem pengangkutan awam bandar itu. Ia mungkin menimbulkan kebimbangan tentang keselamatan, kebolehpercayaan dan komitmen keseluruhan bandar untuk mengekalkan dan menambah baik pilihan pengangkutan awam untuk penduduknya, akhirnya menjejaskan tahap penumpang dan kepercayaan orang ramai terhadap kerajaan tempatan.'},\n",
       "  {'role': 'user',\n",
       "   'content': '<image>\\nBagaimana keadaan hujan boleh mempengaruhi penunggang motosikal semasa latihan mereka?'},\n",
       "  {'role': 'assistant',\n",
       "   'content': 'Keadaan hujan boleh menjadikan sesi latihan penunggang motosikal lebih mencabar dan mencabar kerana permukaan licin dan kurang penglihatan. Permukaan basah boleh menyebabkan penurunan daya tarikan dan menyukarkan tayar motosikal untuk mencengkam jalan, yang meningkatkan risiko tergelincir, tergelincir atau hilang kawalan motosikal. Tambahan pula, hujan boleh menjejaskan keterlihatan penunggang, menjadikannya lebih sukar bagi mereka untuk melihat halangan di hadapan atau menilai dengan tepat jarak antara kon semasa mengemudi laluan. Secara keseluruhannya, hujan memerlukan penunggang motosikal untuk menggunakan teknik menunggang yang lebih berhati-hati, perhatian dan dipertingkatkan untuk melengkapkan sesi latihan dengan selamat, sambil juga berpotensi meningkatkan kemahiran mereka dalam keadaan cuaca buruk.'}]}"
      ]
     },
     "execution_count": 12,
     "metadata": {},
     "output_type": "execute_result"
    }
   ],
   "source": [
    "d"
   ]
  },
  {
   "cell_type": "code",
   "execution_count": null,
   "id": "b1c1efb9",
   "metadata": {},
   "outputs": [],
   "source": []
  }
 ],
 "metadata": {
  "kernelspec": {
   "display_name": "Python 3 (ipykernel)",
   "language": "python",
   "name": "python3"
  },
  "language_info": {
   "codemirror_mode": {
    "name": "ipython",
    "version": 3
   },
   "file_extension": ".py",
   "mimetype": "text/x-python",
   "name": "python",
   "nbconvert_exporter": "python",
   "pygments_lexer": "ipython3",
   "version": "3.10.12"
  }
 },
 "nbformat": 4,
 "nbformat_minor": 5
}
