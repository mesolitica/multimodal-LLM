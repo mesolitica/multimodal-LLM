{
 "cells": [
  {
   "cell_type": "code",
   "execution_count": 1,
   "id": "0afb670e",
   "metadata": {},
   "outputs": [],
   "source": [
    "import json\n",
    "import random\n",
    "from tqdm import tqdm"
   ]
  },
  {
   "cell_type": "code",
   "execution_count": 2,
   "id": "7d3ec021",
   "metadata": {},
   "outputs": [],
   "source": [
    "llava_en = []\n",
    "with open('prepared-llava-en.jsonl') as fopen:\n",
    "    for l in fopen:\n",
    "        l = json.loads(l)\n",
    "        llava_en.append(l)"
   ]
  },
  {
   "cell_type": "code",
   "execution_count": 3,
   "id": "197dda71",
   "metadata": {},
   "outputs": [],
   "source": [
    "llava_index = set(range(len(llava_en)))"
   ]
  },
  {
   "cell_type": "code",
   "execution_count": 7,
   "id": "df4355f8",
   "metadata": {},
   "outputs": [
    {
     "name": "stderr",
     "output_type": "stream",
     "text": [
      "100%|██████████| 20000/20000 [02:33<00:00, 130.02it/s]\n"
     ]
    }
   ],
   "source": [
    "combine = []\n",
    "llava = set()\n",
    "for i in tqdm(range(20000)):\n",
    "    try:\n",
    "        filename = []\n",
    "        conversations = []\n",
    "        for _ in range(random.randint(2, 3)):\n",
    "            img_id = random.choice(list(llava_index - llava))\n",
    "            llava.add(img_id)\n",
    "            s = llava_en[img_id]\n",
    "            filename.extend(s['filename'])\n",
    "            conversations.extend(s['conversations'])\n",
    "        combine.append({\n",
    "            'filename': filename,\n",
    "            'conversations': conversations\n",
    "        })\n",
    "    except Exception as e:\n",
    "        print(e)\n",
    "        break"
   ]
  },
  {
   "cell_type": "code",
   "execution_count": 8,
   "id": "8cecfe80",
   "metadata": {},
   "outputs": [
    {
     "data": {
      "text/plain": [
       "{'image>'}"
      ]
     },
     "execution_count": 8,
     "metadata": {},
     "output_type": "execute_result"
    }
   ],
   "source": [
    "a = set()\n",
    "for l in combine:\n",
    "    for i in range(len(l['conversations'])):\n",
    "        splitted = l['conversations'][i]['content'].split('<')\n",
    "        if len(splitted) > 1:\n",
    "            a.add(splitted[1].strip().split('\\n')[0])\n",
    "a"
   ]
  },
  {
   "cell_type": "code",
   "execution_count": 9,
   "id": "29d62edf",
   "metadata": {},
   "outputs": [],
   "source": [
    "with open('prepared-combine-en.jsonl', 'w') as fopen:\n",
    "    for d in combine:\n",
    "        fopen.write(f'{json.dumps(d)}\\n')"
   ]
  },
  {
   "cell_type": "code",
   "execution_count": 10,
   "id": "7e58ab48",
   "metadata": {},
   "outputs": [],
   "source": [
    "llava_en = []\n",
    "with open('prepared-llava-ms.jsonl') as fopen:\n",
    "    for l in fopen:\n",
    "        l = json.loads(l)\n",
    "        llava_en.append(l)"
   ]
  },
  {
   "cell_type": "code",
   "execution_count": 11,
   "id": "259cf23e",
   "metadata": {},
   "outputs": [],
   "source": [
    "llava_index = set(range(len(llava_en)))"
   ]
  },
  {
   "cell_type": "code",
   "execution_count": 12,
   "id": "c5dd7199",
   "metadata": {},
   "outputs": [
    {
     "name": "stderr",
     "output_type": "stream",
     "text": [
      "100%|██████████| 20000/20000 [02:30<00:00, 133.02it/s]\n"
     ]
    }
   ],
   "source": [
    "combine = []\n",
    "llava = set()\n",
    "audio = set()\n",
    "for i in tqdm(range(20000)):\n",
    "    try:\n",
    "        filename = []\n",
    "        conversations = []\n",
    "        for _ in range(random.randint(2, 3)):\n",
    "            img_id = random.choice(list(llava_index - llava))\n",
    "            llava.add(img_id)\n",
    "            s = llava_en[img_id]\n",
    "            filename.extend(s['filename'])\n",
    "            conversations.extend(s['conversations'])\n",
    "        combine.append({\n",
    "            'filename': filename,\n",
    "            'conversations': conversations\n",
    "        })\n",
    "    except Exception as e:\n",
    "        print(e)\n",
    "        break"
   ]
  },
  {
   "cell_type": "code",
   "execution_count": 13,
   "id": "49a4cd15",
   "metadata": {},
   "outputs": [
    {
     "data": {
      "text/plain": [
       "{'image>'}"
      ]
     },
     "execution_count": 13,
     "metadata": {},
     "output_type": "execute_result"
    }
   ],
   "source": [
    "a = set()\n",
    "for l in combine:\n",
    "    for i in range(len(l['conversations'])):\n",
    "        splitted = l['conversations'][i]['content'].split('<')\n",
    "        if len(splitted) > 1:\n",
    "            a.add(splitted[1].strip().split('\\n')[0])\n",
    "a"
   ]
  },
  {
   "cell_type": "code",
   "execution_count": 14,
   "id": "2c1e4523",
   "metadata": {},
   "outputs": [],
   "source": [
    "with open('prepared-combine-ms.jsonl', 'w') as fopen:\n",
    "    for d in combine:\n",
    "        fopen.write(f'{json.dumps(d)}\\n')"
   ]
  },
  {
   "cell_type": "code",
   "execution_count": 16,
   "id": "4cedb3a9",
   "metadata": {},
   "outputs": [
    {
     "data": {
      "text/plain": [
       "{'filename': ['/home/ubuntu/translated-LLaVA-Instruct-150K/filtered-llava-images/000000528147.jpg',\n",
       "  '/home/ubuntu/translated-LLaVA-Instruct-150K/filtered-llava-images/000000379226.jpg',\n",
       "  '/home/ubuntu/translated-LLaVA-Instruct-150K/filtered-llava-images/000000183100.jpg'],\n",
       " 'conversations': [{'role': 'user',\n",
       "   'content': 'Apakah jenis dapur yang digambarkan dalam gambar?\\n<image>'},\n",
       "  {'role': 'assistant',\n",
       "   'content': 'Imej itu menggambarkan dapur kecil dan gelap dengan pelbagai peralatan dan ciri, seperti dapur besar, ketuhar, dapur masak, dan kaunter dengan bekas makanan.'},\n",
       "  {'role': 'user',\n",
       "   'content': 'Apakah objek atau peralatan yang terdapat di kaunter dapur?'},\n",
       "  {'role': 'assistant', 'content': 'Terdapat bekas makanan di kaunter dapur.'},\n",
       "  {'role': 'user',\n",
       "   'content': 'Adakah terdapat tingkap di dapur, dan jika ya, apakah peranannya dalam imej?'},\n",
       "  {'role': 'assistant',\n",
       "   'content': 'Ya, terdapat tingkap di dapur, yang membenarkan cahaya terang, membantu menerangi kawasan dapur.'},\n",
       "  {'role': 'user', 'content': 'Apakah jenis dapur di dapur?'},\n",
       "  {'role': 'assistant',\n",
       "   'content': 'Imej ini mempunyai dapur besar di dapur, tetapi ia tidak memberikan maklumat yang mencukupi untuk menentukan jenis, jenama atau sumber bahan api dapur tertentu.'},\n",
       "  {'role': 'user',\n",
       "   'content': 'Apakah jenis aktiviti yang biasanya berlaku di dapur seperti ini?'},\n",
       "  {'role': 'assistant',\n",
       "   'content': 'Di dapur seperti ini, aktiviti biasa termasuk memasak, membakar dan penyediaan makanan. Kehadiran dapur besar, ketuhar, dapur masak dan kaunter dengan bekas makanan menunjukkan bahawa dapur ini mungkin berfungsi sebagai ruang berfungsi untuk aktiviti tersebut.\\n\\nBahagian atas tukang masak membolehkan pelbagai kaedah memasak, seperti menggoreng, mendidih dan mentumis, manakala ketuhar boleh digunakan untuk tugasan seperti membakar, memanggang atau memanggang. Kaunter dengan bekas makanan menyediakan ruang kerja untuk menyediakan bahan, serta penyimpanan untuk barangan memasak penting seperti peralatan, rempah ratus dan minyak masak.\\n\\nKehadiran tingkap juga boleh membawa cahaya semula jadi, menjadikannya lebih mudah untuk dilihat semasa bekerja di dapur, dan meningkatkan suasana keseluruhan ruang. Memasak dan penyediaan makanan selalunya melibatkan resipi berikut, menebang dan mencampurkan bahan, dan memantau masa memasak, yang semuanya memerlukan cahaya yang mencukupi dan permukaan kerja yang sesuai. Ringkasnya, dapur seperti yang terdapat dalam imej biasanya berfungsi sebagai ruang pelbagai guna untuk memasak, membakar dan penyediaan makanan.'},\n",
       "  {'role': 'user', 'content': 'Warna apa kucing dalam gambar?\\n<image>'},\n",
       "  {'role': 'assistant', 'content': 'Kucing dalam gambar itu hitam.'},\n",
       "  {'role': 'user', 'content': 'Apa yang kucing lakukan dalam gambar?'},\n",
       "  {'role': 'assistant',\n",
       "   'content': 'Kucing sedang berbaring dan berehat di atas sofa, bersandar pada bantal.'},\n",
       "  {'role': 'user', 'content': 'Jenis kolar apa yang dipakai oleh kucing?'},\n",
       "  {'role': 'assistant', 'content': 'Kucing itu memakai kolar ungu.'},\n",
       "  {'role': 'user',\n",
       "   'content': 'Adakah kucing sedang bermain atau berehat dalam gambar?'},\n",
       "  {'role': 'assistant',\n",
       "   'content': 'Kucing sedang berehat, berbaring selesa di atas sofa di atas kusyen, bukannya bermain secara aktif.'},\n",
       "  {'role': 'user',\n",
       "   'content': 'Adakah terdapat perbezaan yang boleh diperhatikan antara kucing dewasa dan anak kucing dari segi tingkah laku dan penampilan fizikal?'},\n",
       "  {'role': 'assistant',\n",
       "   'content': 'Ya, terdapat beberapa perbezaan yang boleh diperhatikan antara kucing dewasa dan anak kucing dari segi tingkah laku dan penampilan fizikal mereka.\\n\\n1. Saiz dan penampilan: Anak kucing biasanya bersaiz lebih kecil berbanding kucing dewasa kerana mereka masih membesar dan berkembang. Apabila mereka membesar, ciri-ciri mereka akan menjadi lebih berbeza, dan badan mereka akan dipenuhi dengan otot, bulu dan lemak. Perbezaan saiz boleh menjadi ketara, dan biasanya lebih mudah untuk mengenal pasti umur anak kucing berdasarkan saiz dan perkembangan fizikalnya.\\n\\n2. Tingkah laku: Anak kucing secara amnya lebih ingin tahu, bertenaga dan suka bermain daripada kucing dewasa. Ini kerana mereka masih meneroka persekitaran mereka dan membangunkan kemahiran motor, tingkah laku sosial dan naluri pemangsa mereka. Walaupun kucing dewasa masih boleh bermain-main, mereka cenderung lebih santai dan kurang aktif daripada rakan sejawatan mereka yang lebih muda. Kucing dewasa juga secara amnya telah menubuhkan wilayah mereka dan mempunyai pemahaman yang lebih baik tentang persekitaran mereka, yang mungkin menjadikan mereka lebih yakin dan tenang.\\n\\n3. Sosialisasi: Anak kucing melalui tempoh sosialisasi yang kritikal, biasanya antara umur 2-7 minggu, di mana mereka belajar cara berinteraksi dengan manusia, kucing lain dan haiwan. Sosialisasi yang betul adalah penting bagi anak kucing untuk berkembang menjadi kucing dewasa yang disesuaikan dengan baik dan yakin. Kucing dewasa mungkin tidak mempunyai tahap kebolehsuaian sosial yang sama seperti anak kucing, dan memperkenalkan semula mereka kepada persekitaran baharu atau haiwan peliharaan lain mungkin lebih mencabar.\\n\\n4. Latihan dan pembelajaran: Anak kucing selalunya lebih cepat belajar daripada kucing dewasa, kerana mereka lebih sesuai untuk mengambil helah atau tabiat baharu. Kucing dewasa mungkin sudah membentuk tingkah laku dan tabiat tertentu, menjadikannya kurang menerima perubahan atau teknik latihan baharu.\\n\\nDalam imej yang saya lihat, seekor kucing hitam sedang berehat di atas sofa, yang menyukarkan untuk menentukan sama ada ia adalah anak kucing atau kucing dewasa berdasarkan tingkah laku sahaja. Walau bagaimanapun, mengetahui perbezaan antara kucing dewasa dan anak kucing boleh membantu memahami dan menjaga mereka dengan lebih baik berdasarkan umur, perkembangan dan keperluan khusus mereka.'},\n",
       "  {'role': 'user',\n",
       "   'content': 'Apakah jenis alat yang boleh dilihat dalam imej?\\n<image>'},\n",
       "  {'role': 'assistant',\n",
       "   'content': 'Dalam gambar, terdapat pelbagai jenis alatan yang dipaparkan pada rak kayu, termasuk pliers, pemotong wayar, tukul, wrenches, dan peralatan lain.'},\n",
       "  {'role': 'user',\n",
       "   'content': 'Adakah alat dipaparkan untuk dijual atau berada di ruang kerja?'},\n",
       "  {'role': 'assistant',\n",
       "   'content': 'Alat-alat itu dipamerkan untuk dijual, seperti yang ditunjukkan oleh kehadiran tanda harga pada barang. Mereka disusun di atas rak kayu, mempamerkan pelbagai pilihan peralatan untuk bakal pelanggan.'},\n",
       "  {'role': 'user',\n",
       "   'content': 'Apakah beberapa kegunaan untuk alat dalam imej?'},\n",
       "  {'role': 'assistant',\n",
       "   'content': 'Alat dalam imej boleh digunakan untuk pelbagai tujuan, bergantung pada jenis dan fungsi khusus mereka. Beberapa kegunaan yang mungkin termasuk:\\n\\n1. Plier: Menggeleng, membongkok atau memotong wayar dan bahan lain. Ia juga boleh digunakan untuk memegang objek kecil semasa pelbagai tugas.\\n2. pemotong wayar: Mengecut dan menanggalkan wayar, biasanya digunakan dalam kerja elektrik atau semasa pemasangan pelbagai elektronik.\\n3. Tukul: Memandu kuku, memecahkan bahan atau tugas striking tujuan am yang sering digunakan dalam pembinaan, kerja kayu atau kerja logam.\\n4. Wrenches: Mengekalkan atau melonggarkan kacang dan bolt, serta melaraskan pelbagai komponen mekanikal. Ia biasanya digunakan dalam pembaikan automotif, paip dan tugas pemasangan atau pembongkaran.\\n\\nAlat ini boleh digunakan oleh profesional, seperti juruelektrik, tukang paip, mekanik dan tukang kayu, atau oleh individu yang terlibat dalam projek DIY, pembaikan atau tugas pembaikan rumah. Ketersediaan alat ini di rak dengan tanda harga menunjukkan ia ditawarkan untuk dijual kepada pelbagai pelanggan yang mungkin memerlukannya untuk keperluan atau pekerjaan khusus mereka.'}]}"
      ]
     },
     "execution_count": 16,
     "metadata": {},
     "output_type": "execute_result"
    }
   ],
   "source": [
    "d"
   ]
  },
  {
   "cell_type": "code",
   "execution_count": null,
   "id": "b1c1efb9",
   "metadata": {},
   "outputs": [],
   "source": []
  }
 ],
 "metadata": {
  "kernelspec": {
   "display_name": "Python 3 (ipykernel)",
   "language": "python",
   "name": "python3"
  },
  "language_info": {
   "codemirror_mode": {
    "name": "ipython",
    "version": 3
   },
   "file_extension": ".py",
   "mimetype": "text/x-python",
   "name": "python",
   "nbconvert_exporter": "python",
   "pygments_lexer": "ipython3",
   "version": "3.10.12"
  }
 },
 "nbformat": 4,
 "nbformat_minor": 5
}
