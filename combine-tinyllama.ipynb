{
 "cells": [
  {
   "cell_type": "code",
   "execution_count": 10,
   "id": "9bef9a52",
   "metadata": {},
   "outputs": [],
   "source": [
    "from modeling_combine import MM_LLMs, MM_LLMs_Config\n",
    "from modeling_audio import MM_LLMs as MM_LLMs_audio\n",
    "from modeling_vision import MM_LLMs as MM_LLMs_vision\n",
    "from transformers import AutoConfig, AutoTokenizer"
   ]
  },
  {
   "cell_type": "code",
   "execution_count": 4,
   "id": "4c9c8251",
   "metadata": {},
   "outputs": [
    {
     "data": {
      "application/vnd.jupyter.widget-view+json": {
       "model_id": "143b66e261ec40bf8bc6a559220f3b01",
       "version_major": 2,
       "version_minor": 0
      },
      "text/plain": [
       "config.json:   0%|          | 0.00/322 [00:00<?, ?B/s]"
      ]
     },
     "metadata": {},
     "output_type": "display_data"
    }
   ],
   "source": [
    "image_config = AutoConfig.from_pretrained('google/siglip-base-patch16-384')\n",
    "audio_config = AutoConfig.from_pretrained('mesolitica/malaysian-whisper-small')\n",
    "llm_config = AutoConfig.from_pretrained('mesolitica/malaysian-tinyllama-1.1b-16k-instructions-v3')"
   ]
  },
  {
   "cell_type": "code",
   "execution_count": 5,
   "id": "38e20578",
   "metadata": {},
   "outputs": [],
   "source": [
    "model_config = MM_LLMs_Config(\n",
    "        image_config=image_config,\n",
    "        audio_config=audio_config,\n",
    "        llm_config=llm_config)"
   ]
  },
  {
   "cell_type": "code",
   "execution_count": 6,
   "id": "9791dc24",
   "metadata": {},
   "outputs": [],
   "source": [
    "model = MM_LLMs(model_config)"
   ]
  },
  {
   "cell_type": "code",
   "execution_count": 7,
   "id": "5c113a5f",
   "metadata": {},
   "outputs": [
    {
     "data": {
      "application/vnd.jupyter.widget-view+json": {
       "model_id": "25c4f2de06554ababb24a59b6ad4808e",
       "version_major": 2,
       "version_minor": 0
      },
      "text/plain": [
       "config.json:   0%|          | 0.00/6.44k [00:00<?, ?B/s]"
      ]
     },
     "metadata": {},
     "output_type": "display_data"
    },
    {
     "data": {
      "application/vnd.jupyter.widget-view+json": {
       "model_id": "edfb50eab4c94dc58699c84d11f4be41",
       "version_major": 2,
       "version_minor": 0
      },
      "text/plain": [
       "model.safetensors:   0%|          | 0.00/2.82G [00:00<?, ?B/s]"
      ]
     },
     "metadata": {},
     "output_type": "display_data"
    },
    {
     "data": {
      "application/vnd.jupyter.widget-view+json": {
       "model_id": "631a446f2f0847928f50146a4ab7f840",
       "version_major": 2,
       "version_minor": 0
      },
      "text/plain": [
       "generation_config.json:   0%|          | 0.00/69.0 [00:00<?, ?B/s]"
      ]
     },
     "metadata": {},
     "output_type": "display_data"
    }
   ],
   "source": [
    "model_audio = MM_LLMs_audio.from_pretrained('mesolitica/malaysian-tinyllama-1.1b-malaysian-whisper-small-audio-alignment')"
   ]
  },
  {
   "cell_type": "code",
   "execution_count": 9,
   "id": "ec4a8d74",
   "metadata": {},
   "outputs": [
    {
     "data": {
      "application/vnd.jupyter.widget-view+json": {
       "model_id": "c3e39f7b5d184eecbc81210c8cb03b48",
       "version_major": 2,
       "version_minor": 0
      },
      "text/plain": [
       "config.json:   0%|          | 0.00/8.47k [00:00<?, ?B/s]"
      ]
     },
     "metadata": {},
     "output_type": "display_data"
    },
    {
     "data": {
      "application/vnd.jupyter.widget-view+json": {
       "model_id": "79cb0cd26ea84efe88275b252835f006",
       "version_major": 2,
       "version_minor": 0
      },
      "text/plain": [
       "model.safetensors:   0%|          | 0.00/2.62G [00:00<?, ?B/s]"
      ]
     },
     "metadata": {},
     "output_type": "display_data"
    },
    {
     "data": {
      "application/vnd.jupyter.widget-view+json": {
       "model_id": "c3909e5321eb44fa8e04404073c285a0",
       "version_major": 2,
       "version_minor": 0
      },
      "text/plain": [
       "generation_config.json:   0%|          | 0.00/69.0 [00:00<?, ?B/s]"
      ]
     },
     "metadata": {},
     "output_type": "display_data"
    }
   ],
   "source": [
    "model_vision = MM_LLMs_vision.from_pretrained('mesolitica/malaysian-tinyllama-1.1b-siglip-base-384-vision-alignment')"
   ]
  },
  {
   "cell_type": "code",
   "execution_count": 18,
   "id": "43d1eb26",
   "metadata": {},
   "outputs": [],
   "source": [
    "model.image_encoder = model_vision.image_encoder\n",
    "model.audio_encoder = model_audio.audio_encoder\n",
    "model.image_projector = model_vision.image_projector\n",
    "model.audio_projector = model_audio.audio_projector\n",
    "model.llm = model_audio.llm"
   ]
  },
  {
   "cell_type": "code",
   "execution_count": 27,
   "id": "4f21b60b",
   "metadata": {},
   "outputs": [
    {
     "data": {
      "text/plain": [
       "LlamaForCausalLM(\n",
       "  (model): LlamaModel(\n",
       "    (embed_tokens): Embedding(32004, 2048)\n",
       "    (layers): ModuleList(\n",
       "      (0-21): 22 x LlamaDecoderLayer(\n",
       "        (self_attn): LlamaSdpaAttention(\n",
       "          (q_proj): Linear(in_features=2048, out_features=2048, bias=False)\n",
       "          (k_proj): Linear(in_features=2048, out_features=256, bias=False)\n",
       "          (v_proj): Linear(in_features=2048, out_features=256, bias=False)\n",
       "          (o_proj): Linear(in_features=2048, out_features=2048, bias=False)\n",
       "          (rotary_emb): LlamaRotaryEmbedding()\n",
       "        )\n",
       "        (mlp): LlamaMLP(\n",
       "          (gate_proj): Linear(in_features=2048, out_features=5632, bias=False)\n",
       "          (up_proj): Linear(in_features=2048, out_features=5632, bias=False)\n",
       "          (down_proj): Linear(in_features=5632, out_features=2048, bias=False)\n",
       "          (act_fn): SiLU()\n",
       "        )\n",
       "        (input_layernorm): LlamaRMSNorm()\n",
       "        (post_attention_layernorm): LlamaRMSNorm()\n",
       "      )\n",
       "    )\n",
       "    (norm): LlamaRMSNorm()\n",
       "  )\n",
       "  (lm_head): Linear(in_features=2048, out_features=32004, bias=False)\n",
       ")"
      ]
     },
     "execution_count": 27,
     "metadata": {},
     "output_type": "execute_result"
    }
   ],
   "source": [
    "model.llm"
   ]
  },
  {
   "cell_type": "code",
   "execution_count": 19,
   "id": "b042dccf",
   "metadata": {},
   "outputs": [
    {
     "data": {
      "application/vnd.jupyter.widget-view+json": {
       "model_id": "b8a28f1e969348f1b5cf0d03208d7e83",
       "version_major": 2,
       "version_minor": 0
      },
      "text/plain": [
       "tokenizer_config.json:   0%|          | 0.00/2.22k [00:00<?, ?B/s]"
      ]
     },
     "metadata": {},
     "output_type": "display_data"
    },
    {
     "data": {
      "application/vnd.jupyter.widget-view+json": {
       "model_id": "b173de1cc3d049cf962b76624bb475a9",
       "version_major": 2,
       "version_minor": 0
      },
      "text/plain": [
       "tokenizer.json:   0%|          | 0.00/1.84M [00:00<?, ?B/s]"
      ]
     },
     "metadata": {},
     "output_type": "display_data"
    },
    {
     "data": {
      "application/vnd.jupyter.widget-view+json": {
       "model_id": "38c9364c03bf47e3a4f2c842ddbd74c2",
       "version_major": 2,
       "version_minor": 0
      },
      "text/plain": [
       "added_tokens.json:   0%|          | 0.00/34.6k [00:00<?, ?B/s]"
      ]
     },
     "metadata": {},
     "output_type": "display_data"
    },
    {
     "data": {
      "application/vnd.jupyter.widget-view+json": {
       "model_id": "efd070dcc58e4333adf61d6fbcfe649d",
       "version_major": 2,
       "version_minor": 0
      },
      "text/plain": [
       "special_tokens_map.json:   0%|          | 0.00/552 [00:00<?, ?B/s]"
      ]
     },
     "metadata": {},
     "output_type": "display_data"
    },
    {
     "name": "stderr",
     "output_type": "stream",
     "text": [
      "Special tokens have been added in the vocabulary, make sure the associated word embeddings are fine-tuned or trained.\n"
     ]
    }
   ],
   "source": [
    "tokenizer = AutoTokenizer.from_pretrained('mesolitica/malaysian-tinyllama-1.1b-malaysian-whisper-small-audio-alignment')"
   ]
  },
  {
   "cell_type": "code",
   "execution_count": 30,
   "id": "8fef69c3",
   "metadata": {},
   "outputs": [],
   "source": [
    "model.config.llm_config.vocab_size = len(tokenizer)"
   ]
  },
  {
   "cell_type": "code",
   "execution_count": 32,
   "id": "7b4d62f8",
   "metadata": {},
   "outputs": [],
   "source": [
    "model.save_pretrained('./combine-tinyllama')"
   ]
  },
  {
   "cell_type": "code",
   "execution_count": 33,
   "id": "a25d97e8",
   "metadata": {},
   "outputs": [
    {
     "data": {
      "text/plain": [
       "('./combine-tinyllama/tokenizer_config.json',\n",
       " './combine-tinyllama/special_tokens_map.json',\n",
       " './combine-tinyllama/tokenizer.json')"
      ]
     },
     "execution_count": 33,
     "metadata": {},
     "output_type": "execute_result"
    }
   ],
   "source": [
    "tokenizer.save_pretrained('./combine-tinyllama')"
   ]
  },
  {
   "cell_type": "code",
   "execution_count": null,
   "id": "2e52eab7",
   "metadata": {},
   "outputs": [],
   "source": []
  }
 ],
 "metadata": {
  "kernelspec": {
   "display_name": "Python 3 (ipykernel)",
   "language": "python",
   "name": "python3"
  },
  "language_info": {
   "codemirror_mode": {
    "name": "ipython",
    "version": 3
   },
   "file_extension": ".py",
   "mimetype": "text/x-python",
   "name": "python",
   "nbconvert_exporter": "python",
   "pygments_lexer": "ipython3",
   "version": "3.10.12"
  }
 },
 "nbformat": 4,
 "nbformat_minor": 5
}
